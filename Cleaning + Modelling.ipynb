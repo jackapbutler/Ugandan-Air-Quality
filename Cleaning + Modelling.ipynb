{
 "cells": [
  {
   "cell_type": "code",
   "execution_count": 442,
   "metadata": {
    "colab": {},
    "colab_type": "code",
    "id": "lygrd_4THhsP"
   },
   "outputs": [],
   "source": [
    "import pandas as pd \n",
    "import numpy as np \n",
    "from tqdm import tqdm\n",
    "import math\n",
    "import gc"
   ]
  },
  {
   "cell_type": "code",
   "execution_count": 443,
   "metadata": {
    "colab": {},
    "colab_type": "code",
    "id": "laCuoZYCHhsW"
   },
   "outputs": [],
   "source": [
    "# ! cp data/Train_target.csv ./raw_data/Train_target.csv\n",
    "# ! cp data/Test_target.csv ./raw_data/Test_target.csv"
   ]
  },
  {
   "cell_type": "code",
   "execution_count": 444,
   "metadata": {
    "colab": {},
    "colab_type": "code",
    "id": "tRthNH90Hhsa"
   },
   "outputs": [],
   "source": [
    "train=pd.read_csv(\"Train.csv\")\n",
    "submission=pd.read_csv(\"Test.csv\")\n",
    "airqo=pd.read_csv(\"airqo_metadata.csv\")"
   ]
  },
  {
   "cell_type": "code",
   "execution_count": 445,
   "metadata": {},
   "outputs": [
    {
     "data": {
      "text/html": [
       "<div>\n",
       "<style scoped>\n",
       "    .dataframe tbody tr th:only-of-type {\n",
       "        vertical-align: middle;\n",
       "    }\n",
       "\n",
       "    .dataframe tbody tr th {\n",
       "        vertical-align: top;\n",
       "    }\n",
       "\n",
       "    .dataframe thead th {\n",
       "        text-align: right;\n",
       "    }\n",
       "</style>\n",
       "<table border=\"1\" class=\"dataframe\">\n",
       "  <thead>\n",
       "    <tr style=\"text-align: right;\">\n",
       "      <th></th>\n",
       "      <th>ID</th>\n",
       "      <th>location</th>\n",
       "      <th>temp</th>\n",
       "      <th>precip</th>\n",
       "      <th>rel_humidity</th>\n",
       "      <th>wind_dir</th>\n",
       "      <th>wind_spd</th>\n",
       "      <th>atmos_press</th>\n",
       "      <th>target</th>\n",
       "      <th>loc_altitude</th>\n",
       "      <th>km2</th>\n",
       "      <th>aspect</th>\n",
       "      <th>dist_tertiary</th>\n",
       "      <th>dist_unclassified</th>\n",
       "      <th>dist_residential</th>\n",
       "      <th>popn</th>\n",
       "      <th>hh</th>\n",
       "      <th>hh_cook_charcoal</th>\n",
       "      <th>hh_cook_firewood</th>\n",
       "      <th>hh_burn_waste</th>\n",
       "    </tr>\n",
       "  </thead>\n",
       "  <tbody>\n",
       "    <tr>\n",
       "      <th>0</th>\n",
       "      <td>ID_train_0</td>\n",
       "      <td>C</td>\n",
       "      <td>nan,nan,nan,nan,nan,nan,nan,nan,nan,nan,nan,na...</td>\n",
       "      <td>nan,nan,nan,nan,nan,nan,nan,nan,nan,nan,nan,na...</td>\n",
       "      <td>nan,nan,nan,nan,nan,nan,nan,nan,nan,nan,nan,na...</td>\n",
       "      <td>nan,nan,nan,nan,nan,nan,nan,nan,nan,nan,nan,na...</td>\n",
       "      <td>nan,nan,nan,nan,nan,nan,nan,nan,nan,nan,nan,na...</td>\n",
       "      <td>nan,nan,nan,nan,nan,nan,nan,nan,nan,nan,nan,na...</td>\n",
       "      <td>45.126304</td>\n",
       "      <td>1178.3</td>\n",
       "      <td>8.5</td>\n",
       "      <td>168.7</td>\n",
       "      <td>72.45934</td>\n",
       "      <td>406.967815</td>\n",
       "      <td>13.93135</td>\n",
       "      <td>97895</td>\n",
       "      <td>26873</td>\n",
       "      <td>21316</td>\n",
       "      <td>751</td>\n",
       "      <td>9835</td>\n",
       "    </tr>\n",
       "  </tbody>\n",
       "</table>\n",
       "</div>"
      ],
      "text/plain": [
       "           ID location                                               temp  \\\n",
       "0  ID_train_0        C  nan,nan,nan,nan,nan,nan,nan,nan,nan,nan,nan,na...   \n",
       "\n",
       "                                              precip  \\\n",
       "0  nan,nan,nan,nan,nan,nan,nan,nan,nan,nan,nan,na...   \n",
       "\n",
       "                                        rel_humidity  \\\n",
       "0  nan,nan,nan,nan,nan,nan,nan,nan,nan,nan,nan,na...   \n",
       "\n",
       "                                            wind_dir  \\\n",
       "0  nan,nan,nan,nan,nan,nan,nan,nan,nan,nan,nan,na...   \n",
       "\n",
       "                                            wind_spd  \\\n",
       "0  nan,nan,nan,nan,nan,nan,nan,nan,nan,nan,nan,na...   \n",
       "\n",
       "                                         atmos_press     target  loc_altitude  \\\n",
       "0  nan,nan,nan,nan,nan,nan,nan,nan,nan,nan,nan,na...  45.126304        1178.3   \n",
       "\n",
       "   km2  aspect  dist_tertiary  dist_unclassified  dist_residential   popn  \\\n",
       "0  8.5   168.7       72.45934         406.967815          13.93135  97895   \n",
       "\n",
       "      hh  hh_cook_charcoal  hh_cook_firewood  hh_burn_waste  \n",
       "0  26873             21316               751           9835  "
      ]
     },
     "execution_count": 445,
     "metadata": {},
     "output_type": "execute_result"
    }
   ],
   "source": [
    "train=train.merge(airqo, on='location', how='left')\n",
    "submission=submission.merge(airqo, on='location', how='left')\n",
    "train.head(1)"
   ]
  },
  {
   "cell_type": "code",
   "execution_count": 446,
   "metadata": {},
   "outputs": [],
   "source": [
    "# functions to convert features  fron string to List of values    \n",
    "features=[\"temp\",\"precip\",\"rel_humidity\",\"wind_dir\",\"wind_spd\",\"atmos_press\"]\n",
    "\n",
    "def replace_nan(x):\n",
    "    if x==\" \":\n",
    "        return np.nan\n",
    "    else :\n",
    "        return float(x)\n",
    "    \n",
    "for feature in features : \n",
    "    train[feature]=train[feature].apply(lambda x: [ replace_nan(X) for X in x.replace(\"nan\",\" \").split(\",\")])\n",
    "    submission[feature]=submission[feature].apply(lambda x: [ replace_nan(X)  for X in x.replace(\"nan\",\" \").split(\",\")])"
   ]
  },
  {
   "cell_type": "code",
   "execution_count": 447,
   "metadata": {},
   "outputs": [
    {
     "data": {
      "text/html": [
       "<div>\n",
       "<style scoped>\n",
       "    .dataframe tbody tr th:only-of-type {\n",
       "        vertical-align: middle;\n",
       "    }\n",
       "\n",
       "    .dataframe tbody tr th {\n",
       "        vertical-align: top;\n",
       "    }\n",
       "\n",
       "    .dataframe thead th {\n",
       "        text-align: right;\n",
       "    }\n",
       "</style>\n",
       "<table border=\"1\" class=\"dataframe\">\n",
       "  <thead>\n",
       "    <tr style=\"text-align: right;\">\n",
       "      <th></th>\n",
       "      <th>ID</th>\n",
       "      <th>location</th>\n",
       "      <th>temp</th>\n",
       "      <th>precip</th>\n",
       "      <th>rel_humidity</th>\n",
       "      <th>wind_dir</th>\n",
       "      <th>wind_spd</th>\n",
       "      <th>atmos_press</th>\n",
       "      <th>target</th>\n",
       "      <th>loc_altitude</th>\n",
       "      <th>km2</th>\n",
       "      <th>aspect</th>\n",
       "      <th>dist_tertiary</th>\n",
       "      <th>dist_unclassified</th>\n",
       "      <th>dist_residential</th>\n",
       "      <th>popn</th>\n",
       "      <th>hh</th>\n",
       "      <th>hh_cook_charcoal</th>\n",
       "      <th>hh_cook_firewood</th>\n",
       "      <th>hh_burn_waste</th>\n",
       "    </tr>\n",
       "  </thead>\n",
       "  <tbody>\n",
       "    <tr>\n",
       "      <th>0</th>\n",
       "      <td>ID_train_0</td>\n",
       "      <td>C</td>\n",
       "      <td>[nan, nan, nan, nan, nan, nan, nan, nan, nan, ...</td>\n",
       "      <td>[nan, nan, nan, nan, nan, nan, nan, nan, nan, ...</td>\n",
       "      <td>[nan, nan, nan, nan, nan, nan, nan, nan, nan, ...</td>\n",
       "      <td>[nan, nan, nan, nan, nan, nan, nan, nan, nan, ...</td>\n",
       "      <td>[nan, nan, nan, nan, nan, nan, nan, nan, nan, ...</td>\n",
       "      <td>[nan, nan, nan, nan, nan, nan, nan, nan, nan, ...</td>\n",
       "      <td>45.126304</td>\n",
       "      <td>1178.3</td>\n",
       "      <td>8.5</td>\n",
       "      <td>168.7</td>\n",
       "      <td>72.45934</td>\n",
       "      <td>406.967815</td>\n",
       "      <td>13.93135</td>\n",
       "      <td>97895</td>\n",
       "      <td>26873</td>\n",
       "      <td>21316</td>\n",
       "      <td>751</td>\n",
       "      <td>9835</td>\n",
       "    </tr>\n",
       "  </tbody>\n",
       "</table>\n",
       "</div>"
      ],
      "text/plain": [
       "           ID location                                               temp  \\\n",
       "0  ID_train_0        C  [nan, nan, nan, nan, nan, nan, nan, nan, nan, ...   \n",
       "\n",
       "                                              precip  \\\n",
       "0  [nan, nan, nan, nan, nan, nan, nan, nan, nan, ...   \n",
       "\n",
       "                                        rel_humidity  \\\n",
       "0  [nan, nan, nan, nan, nan, nan, nan, nan, nan, ...   \n",
       "\n",
       "                                            wind_dir  \\\n",
       "0  [nan, nan, nan, nan, nan, nan, nan, nan, nan, ...   \n",
       "\n",
       "                                            wind_spd  \\\n",
       "0  [nan, nan, nan, nan, nan, nan, nan, nan, nan, ...   \n",
       "\n",
       "                                         atmos_press     target  loc_altitude  \\\n",
       "0  [nan, nan, nan, nan, nan, nan, nan, nan, nan, ...  45.126304        1178.3   \n",
       "\n",
       "   km2  aspect  dist_tertiary  dist_unclassified  dist_residential   popn  \\\n",
       "0  8.5   168.7       72.45934         406.967815          13.93135  97895   \n",
       "\n",
       "      hh  hh_cook_charcoal  hh_cook_firewood  hh_burn_waste  \n",
       "0  26873             21316               751           9835  "
      ]
     },
     "execution_count": 447,
     "metadata": {},
     "output_type": "execute_result"
    }
   ],
   "source": [
    "train.head(1)"
   ]
  },
  {
   "cell_type": "code",
   "execution_count": 448,
   "metadata": {},
   "outputs": [
    {
     "data": {
      "text/html": [
       "<div>\n",
       "<style scoped>\n",
       "    .dataframe tbody tr th:only-of-type {\n",
       "        vertical-align: middle;\n",
       "    }\n",
       "\n",
       "    .dataframe tbody tr th {\n",
       "        vertical-align: top;\n",
       "    }\n",
       "\n",
       "    .dataframe thead th {\n",
       "        text-align: right;\n",
       "    }\n",
       "</style>\n",
       "<table border=\"1\" class=\"dataframe\">\n",
       "  <thead>\n",
       "    <tr style=\"text-align: right;\">\n",
       "      <th></th>\n",
       "      <th>ID</th>\n",
       "      <th>location</th>\n",
       "      <th>temp</th>\n",
       "      <th>precip</th>\n",
       "      <th>rel_humidity</th>\n",
       "      <th>wind_dir</th>\n",
       "      <th>wind_spd</th>\n",
       "      <th>atmos_press</th>\n",
       "      <th>loc_altitude</th>\n",
       "      <th>km2</th>\n",
       "      <th>aspect</th>\n",
       "      <th>dist_tertiary</th>\n",
       "      <th>dist_unclassified</th>\n",
       "      <th>dist_residential</th>\n",
       "      <th>popn</th>\n",
       "      <th>hh</th>\n",
       "      <th>hh_cook_charcoal</th>\n",
       "      <th>hh_cook_firewood</th>\n",
       "      <th>hh_burn_waste</th>\n",
       "    </tr>\n",
       "  </thead>\n",
       "  <tbody>\n",
       "    <tr>\n",
       "      <th>0</th>\n",
       "      <td>ID_test_0</td>\n",
       "      <td>C</td>\n",
       "      <td>[23.96666667, 22.88333333, 22.28333333, 21.483...</td>\n",
       "      <td>[0.0, 0.0, 0.0, 0.0, 0.0, 0.0, 0.0, 0.0, 0.0, ...</td>\n",
       "      <td>[0.6898333329999999, 0.722333333, 0.7755833329...</td>\n",
       "      <td>[290.1352379, 328.47011289999995, 323.5730796,...</td>\n",
       "      <td>[0.6333333329999999, 0.725, 0.955, 0.8725, 0.6...</td>\n",
       "      <td>[87.64333333, 87.67, 87.70583333, 87.75083333,...</td>\n",
       "      <td>1178.3</td>\n",
       "      <td>8.5</td>\n",
       "      <td>168.7</td>\n",
       "      <td>72.45934</td>\n",
       "      <td>406.967815</td>\n",
       "      <td>13.93135</td>\n",
       "      <td>97895</td>\n",
       "      <td>26873</td>\n",
       "      <td>21316</td>\n",
       "      <td>751</td>\n",
       "      <td>9835</td>\n",
       "    </tr>\n",
       "  </tbody>\n",
       "</table>\n",
       "</div>"
      ],
      "text/plain": [
       "          ID location                                               temp  \\\n",
       "0  ID_test_0        C  [23.96666667, 22.88333333, 22.28333333, 21.483...   \n",
       "\n",
       "                                              precip  \\\n",
       "0  [0.0, 0.0, 0.0, 0.0, 0.0, 0.0, 0.0, 0.0, 0.0, ...   \n",
       "\n",
       "                                        rel_humidity  \\\n",
       "0  [0.6898333329999999, 0.722333333, 0.7755833329...   \n",
       "\n",
       "                                            wind_dir  \\\n",
       "0  [290.1352379, 328.47011289999995, 323.5730796,...   \n",
       "\n",
       "                                            wind_spd  \\\n",
       "0  [0.6333333329999999, 0.725, 0.955, 0.8725, 0.6...   \n",
       "\n",
       "                                         atmos_press  loc_altitude  km2  \\\n",
       "0  [87.64333333, 87.67, 87.70583333, 87.75083333,...        1178.3  8.5   \n",
       "\n",
       "   aspect  dist_tertiary  dist_unclassified  dist_residential   popn     hh  \\\n",
       "0   168.7       72.45934         406.967815          13.93135  97895  26873   \n",
       "\n",
       "   hh_cook_charcoal  hh_cook_firewood  hh_burn_waste  \n",
       "0             21316               751           9835  "
      ]
     },
     "execution_count": 448,
     "metadata": {},
     "output_type": "execute_result"
    }
   ],
   "source": [
    "submission.head(1)"
   ]
  },
  {
   "cell_type": "code",
   "execution_count": 449,
   "metadata": {},
   "outputs": [
    {
     "data": {
      "text/plain": [
       "(5035, 19)"
      ]
     },
     "execution_count": 449,
     "metadata": {},
     "output_type": "execute_result"
    }
   ],
   "source": [
    "submission.shape"
   ]
  },
  {
   "cell_type": "code",
   "execution_count": 450,
   "metadata": {},
   "outputs": [
    {
     "name": "stderr",
     "output_type": "stream",
     "text": [
      "100%|████████████████████████████████████████████████████████████████████████████████████| 6/6 [00:13<00:00,  2.29s/it]\n"
     ]
    },
    {
     "data": {
      "text/html": [
       "<div>\n",
       "<style scoped>\n",
       "    .dataframe tbody tr th:only-of-type {\n",
       "        vertical-align: middle;\n",
       "    }\n",
       "\n",
       "    .dataframe tbody tr th {\n",
       "        vertical-align: top;\n",
       "    }\n",
       "\n",
       "    .dataframe thead th {\n",
       "        text-align: right;\n",
       "    }\n",
       "</style>\n",
       "<table border=\"1\" class=\"dataframe\">\n",
       "  <thead>\n",
       "    <tr style=\"text-align: right;\">\n",
       "      <th></th>\n",
       "      <th>ID</th>\n",
       "      <th>location</th>\n",
       "      <th>target</th>\n",
       "      <th>loc_altitude</th>\n",
       "      <th>km2</th>\n",
       "      <th>aspect</th>\n",
       "      <th>dist_tertiary</th>\n",
       "      <th>dist_unclassified</th>\n",
       "      <th>dist_residential</th>\n",
       "      <th>popn</th>\n",
       "      <th>...</th>\n",
       "      <th>max_wind_spd</th>\n",
       "      <th>min_wind_spd</th>\n",
       "      <th>mean_wind_spd</th>\n",
       "      <th>std_wind_spd</th>\n",
       "      <th>ptp_wind_spd</th>\n",
       "      <th>max_atmos_press</th>\n",
       "      <th>min_atmos_press</th>\n",
       "      <th>mean_atmos_press</th>\n",
       "      <th>std_atmos_press</th>\n",
       "      <th>ptp_atmos_press</th>\n",
       "    </tr>\n",
       "  </thead>\n",
       "  <tbody>\n",
       "    <tr>\n",
       "      <th>1</th>\n",
       "      <td>ID_train_1</td>\n",
       "      <td>D</td>\n",
       "      <td>79.131702</td>\n",
       "      <td>980.8</td>\n",
       "      <td>0.8</td>\n",
       "      <td>90.0</td>\n",
       "      <td>339.693908</td>\n",
       "      <td>76.024389</td>\n",
       "      <td>11.601442</td>\n",
       "      <td>3596</td>\n",
       "      <td>...</td>\n",
       "      <td>3.009167</td>\n",
       "      <td>0.248333</td>\n",
       "      <td>0.899208</td>\n",
       "      <td>0.539199</td>\n",
       "      <td>2.760833</td>\n",
       "      <td>90.725</td>\n",
       "      <td>90.056667</td>\n",
       "      <td>90.429924</td>\n",
       "      <td>0.156</td>\n",
       "      <td>0.668333</td>\n",
       "    </tr>\n",
       "  </tbody>\n",
       "</table>\n",
       "<p>1 rows × 44 columns</p>\n",
       "</div>"
      ],
      "text/plain": [
       "           ID location     target  loc_altitude  km2  aspect  dist_tertiary  \\\n",
       "1  ID_train_1        D  79.131702         980.8  0.8    90.0     339.693908   \n",
       "\n",
       "   dist_unclassified  dist_residential  popn  ...  max_wind_spd  min_wind_spd  \\\n",
       "1          76.024389         11.601442  3596  ...      3.009167      0.248333   \n",
       "\n",
       "   mean_wind_spd  std_wind_spd  ptp_wind_spd  max_atmos_press  \\\n",
       "1       0.899208      0.539199      2.760833           90.725   \n",
       "\n",
       "   min_atmos_press  mean_atmos_press  std_atmos_press  ptp_atmos_press  \n",
       "1        90.056667         90.429924            0.156         0.668333  \n",
       "\n",
       "[1 rows x 44 columns]"
      ]
     },
     "execution_count": 450,
     "metadata": {},
     "output_type": "execute_result"
    }
   ],
   "source": [
    "# clean train dataframe\n",
    "def aggregate_features(x,col_name):\n",
    "    x[\"max_\"+col_name]=x[col_name].apply(np.max)\n",
    "    x[\"min_\"+col_name]=x[col_name].apply(np.min)\n",
    "    x[\"mean_\"+col_name]=x[col_name].apply(np.mean)\n",
    "    x[\"std_\"+col_name]=x[col_name].apply(np.std)\n",
    "    x[\"ptp_\"+col_name]=x[col_name].apply(np.ptp)\n",
    "    return x  \n",
    "   \n",
    "for col_name in tqdm(features):\n",
    "    train=aggregate_features(train,col_name)\n",
    "    \n",
    "train.drop(features,1,inplace=True)\n",
    "train = train.dropna()\n",
    "train.head(1)"
   ]
  },
  {
   "cell_type": "code",
   "execution_count": 451,
   "metadata": {},
   "outputs": [
    {
     "data": {
      "text/plain": [
       "(7212, 44)"
      ]
     },
     "execution_count": 451,
     "metadata": {},
     "output_type": "execute_result"
    }
   ],
   "source": [
    "train.shape"
   ]
  },
  {
   "cell_type": "code",
   "execution_count": 452,
   "metadata": {},
   "outputs": [
    {
     "name": "stderr",
     "output_type": "stream",
     "text": [
      "100%|████████████████████████████████████████████████████████████████████████████████████| 6/6 [00:04<00:00,  1.37it/s]\n"
     ]
    },
    {
     "data": {
      "text/html": [
       "<div>\n",
       "<style scoped>\n",
       "    .dataframe tbody tr th:only-of-type {\n",
       "        vertical-align: middle;\n",
       "    }\n",
       "\n",
       "    .dataframe tbody tr th {\n",
       "        vertical-align: top;\n",
       "    }\n",
       "\n",
       "    .dataframe thead th {\n",
       "        text-align: right;\n",
       "    }\n",
       "</style>\n",
       "<table border=\"1\" class=\"dataframe\">\n",
       "  <thead>\n",
       "    <tr style=\"text-align: right;\">\n",
       "      <th></th>\n",
       "      <th>ID</th>\n",
       "      <th>location</th>\n",
       "      <th>loc_altitude</th>\n",
       "      <th>km2</th>\n",
       "      <th>aspect</th>\n",
       "      <th>dist_tertiary</th>\n",
       "      <th>dist_unclassified</th>\n",
       "      <th>dist_residential</th>\n",
       "      <th>popn</th>\n",
       "      <th>hh</th>\n",
       "      <th>...</th>\n",
       "      <th>max_wind_spd</th>\n",
       "      <th>min_wind_spd</th>\n",
       "      <th>mean_wind_spd</th>\n",
       "      <th>std_wind_spd</th>\n",
       "      <th>ptp_wind_spd</th>\n",
       "      <th>max_atmos_press</th>\n",
       "      <th>min_atmos_press</th>\n",
       "      <th>mean_atmos_press</th>\n",
       "      <th>std_atmos_press</th>\n",
       "      <th>ptp_atmos_press</th>\n",
       "    </tr>\n",
       "  </thead>\n",
       "  <tbody>\n",
       "    <tr>\n",
       "      <th>0</th>\n",
       "      <td>ID_test_0</td>\n",
       "      <td>C</td>\n",
       "      <td>1178.3</td>\n",
       "      <td>8.5</td>\n",
       "      <td>168.7</td>\n",
       "      <td>72.45934</td>\n",
       "      <td>406.967815</td>\n",
       "      <td>13.93135</td>\n",
       "      <td>97895</td>\n",
       "      <td>26873</td>\n",
       "      <td>...</td>\n",
       "      <td>1.915833</td>\n",
       "      <td>0.171667</td>\n",
       "      <td>0.812555</td>\n",
       "      <td>0.392783</td>\n",
       "      <td>1.744167</td>\n",
       "      <td>88.020833</td>\n",
       "      <td>87.474167</td>\n",
       "      <td>87.748506</td>\n",
       "      <td>0.132764</td>\n",
       "      <td>0.546667</td>\n",
       "    </tr>\n",
       "  </tbody>\n",
       "</table>\n",
       "<p>1 rows × 43 columns</p>\n",
       "</div>"
      ],
      "text/plain": [
       "          ID location  loc_altitude  km2  aspect  dist_tertiary  \\\n",
       "0  ID_test_0        C        1178.3  8.5   168.7       72.45934   \n",
       "\n",
       "   dist_unclassified  dist_residential   popn     hh  ...  max_wind_spd  \\\n",
       "0         406.967815          13.93135  97895  26873  ...      1.915833   \n",
       "\n",
       "   min_wind_spd  mean_wind_spd  std_wind_spd  ptp_wind_spd  max_atmos_press  \\\n",
       "0      0.171667       0.812555      0.392783      1.744167        88.020833   \n",
       "\n",
       "   min_atmos_press  mean_atmos_press  std_atmos_press  ptp_atmos_press  \n",
       "0        87.474167         87.748506         0.132764         0.546667  \n",
       "\n",
       "[1 rows x 43 columns]"
      ]
     },
     "execution_count": 452,
     "metadata": {},
     "output_type": "execute_result"
    }
   ],
   "source": [
    "# clean test dataframe \n",
    "for col_name in tqdm(features):\n",
    "    submission=aggregate_features(submission,col_name)\n",
    "    \n",
    "submission.drop(features,1,inplace=True)\n",
    "submission.head(1)"
   ]
  },
  {
   "cell_type": "code",
   "execution_count": 453,
   "metadata": {},
   "outputs": [
    {
     "data": {
      "text/plain": [
       "(5035, 43)"
      ]
     },
     "execution_count": 453,
     "metadata": {},
     "output_type": "execute_result"
    }
   ],
   "source": [
    "submission.shape"
   ]
  },
  {
   "cell_type": "code",
   "execution_count": 454,
   "metadata": {},
   "outputs": [
    {
     "data": {
      "text/html": [
       "<div>\n",
       "<style scoped>\n",
       "    .dataframe tbody tr th:only-of-type {\n",
       "        vertical-align: middle;\n",
       "    }\n",
       "\n",
       "    .dataframe tbody tr th {\n",
       "        vertical-align: top;\n",
       "    }\n",
       "\n",
       "    .dataframe thead th {\n",
       "        text-align: right;\n",
       "    }\n",
       "</style>\n",
       "<table border=\"1\" class=\"dataframe\">\n",
       "  <thead>\n",
       "    <tr style=\"text-align: right;\">\n",
       "      <th></th>\n",
       "      <th>loc_altitude</th>\n",
       "      <th>km2</th>\n",
       "      <th>aspect</th>\n",
       "      <th>dist_tertiary</th>\n",
       "      <th>dist_unclassified</th>\n",
       "      <th>dist_residential</th>\n",
       "      <th>popn</th>\n",
       "      <th>hh</th>\n",
       "      <th>hh_cook_charcoal</th>\n",
       "      <th>hh_cook_firewood</th>\n",
       "      <th>...</th>\n",
       "      <th>max_atmos_press</th>\n",
       "      <th>min_atmos_press</th>\n",
       "      <th>mean_atmos_press</th>\n",
       "      <th>std_atmos_press</th>\n",
       "      <th>ptp_atmos_press</th>\n",
       "      <th>location_is_A</th>\n",
       "      <th>location_is_B</th>\n",
       "      <th>location_is_C</th>\n",
       "      <th>location_is_D</th>\n",
       "      <th>location_is_E</th>\n",
       "    </tr>\n",
       "  </thead>\n",
       "  <tbody>\n",
       "    <tr>\n",
       "      <th>1</th>\n",
       "      <td>980.8</td>\n",
       "      <td>0.8</td>\n",
       "      <td>90.0</td>\n",
       "      <td>339.693908</td>\n",
       "      <td>76.024389</td>\n",
       "      <td>11.601442</td>\n",
       "      <td>3596</td>\n",
       "      <td>663</td>\n",
       "      <td>7</td>\n",
       "      <td>651</td>\n",
       "      <td>...</td>\n",
       "      <td>90.725</td>\n",
       "      <td>90.056667</td>\n",
       "      <td>90.429924</td>\n",
       "      <td>0.156</td>\n",
       "      <td>0.668333</td>\n",
       "      <td>0</td>\n",
       "      <td>0</td>\n",
       "      <td>0</td>\n",
       "      <td>1</td>\n",
       "      <td>0</td>\n",
       "    </tr>\n",
       "  </tbody>\n",
       "</table>\n",
       "<p>1 rows × 46 columns</p>\n",
       "</div>"
      ],
      "text/plain": [
       "   loc_altitude  km2  aspect  dist_tertiary  dist_unclassified  \\\n",
       "1         980.8  0.8    90.0     339.693908          76.024389   \n",
       "\n",
       "   dist_residential  popn   hh  hh_cook_charcoal  hh_cook_firewood  ...  \\\n",
       "1         11.601442  3596  663                 7               651  ...   \n",
       "\n",
       "   max_atmos_press  min_atmos_press  mean_atmos_press  std_atmos_press  \\\n",
       "1           90.725        90.056667         90.429924            0.156   \n",
       "\n",
       "   ptp_atmos_press  location_is_A  location_is_B  location_is_C  \\\n",
       "1         0.668333              0              0              0   \n",
       "\n",
       "   location_is_D  location_is_E  \n",
       "1              1              0  \n",
       "\n",
       "[1 rows x 46 columns]"
      ]
     },
     "execution_count": 454,
     "metadata": {},
     "output_type": "execute_result"
    }
   ],
   "source": [
    "# train, test split for the TRAIN DATA\n",
    "cols = [\"target\", \"ID\"]\n",
    "X = pd.get_dummies(train.drop(cols, axis=1), columns=[\"location\"], prefix=[\"location_is\"]) \n",
    "y = train['target']\n",
    "X.head(1)"
   ]
  },
  {
   "cell_type": "code",
   "execution_count": 455,
   "metadata": {},
   "outputs": [
    {
     "data": {
      "text/plain": [
       "(7212, 46)"
      ]
     },
     "execution_count": 455,
     "metadata": {},
     "output_type": "execute_result"
    }
   ],
   "source": [
    "X.shape"
   ]
  },
  {
   "cell_type": "code",
   "execution_count": 456,
   "metadata": {},
   "outputs": [
    {
     "data": {
      "text/plain": [
       "(7212,)"
      ]
     },
     "execution_count": 456,
     "metadata": {},
     "output_type": "execute_result"
    }
   ],
   "source": [
    "y.shape"
   ]
  },
  {
   "cell_type": "code",
   "execution_count": 457,
   "metadata": {},
   "outputs": [
    {
     "data": {
      "text/html": [
       "<div>\n",
       "<style scoped>\n",
       "    .dataframe tbody tr th:only-of-type {\n",
       "        vertical-align: middle;\n",
       "    }\n",
       "\n",
       "    .dataframe tbody tr th {\n",
       "        vertical-align: top;\n",
       "    }\n",
       "\n",
       "    .dataframe thead th {\n",
       "        text-align: right;\n",
       "    }\n",
       "</style>\n",
       "<table border=\"1\" class=\"dataframe\">\n",
       "  <thead>\n",
       "    <tr style=\"text-align: right;\">\n",
       "      <th></th>\n",
       "      <th>ID</th>\n",
       "      <th>location</th>\n",
       "      <th>loc_altitude</th>\n",
       "      <th>km2</th>\n",
       "      <th>aspect</th>\n",
       "      <th>dist_tertiary</th>\n",
       "      <th>dist_unclassified</th>\n",
       "      <th>dist_residential</th>\n",
       "      <th>popn</th>\n",
       "      <th>hh</th>\n",
       "      <th>...</th>\n",
       "      <th>max_wind_spd</th>\n",
       "      <th>min_wind_spd</th>\n",
       "      <th>mean_wind_spd</th>\n",
       "      <th>std_wind_spd</th>\n",
       "      <th>ptp_wind_spd</th>\n",
       "      <th>max_atmos_press</th>\n",
       "      <th>min_atmos_press</th>\n",
       "      <th>mean_atmos_press</th>\n",
       "      <th>std_atmos_press</th>\n",
       "      <th>ptp_atmos_press</th>\n",
       "    </tr>\n",
       "  </thead>\n",
       "  <tbody>\n",
       "    <tr>\n",
       "      <th>0</th>\n",
       "      <td>ID_test_0</td>\n",
       "      <td>C</td>\n",
       "      <td>1178.3</td>\n",
       "      <td>8.5</td>\n",
       "      <td>168.7</td>\n",
       "      <td>72.45934</td>\n",
       "      <td>406.967815</td>\n",
       "      <td>13.93135</td>\n",
       "      <td>97895</td>\n",
       "      <td>26873</td>\n",
       "      <td>...</td>\n",
       "      <td>1.915833</td>\n",
       "      <td>0.171667</td>\n",
       "      <td>0.812555</td>\n",
       "      <td>0.392783</td>\n",
       "      <td>1.744167</td>\n",
       "      <td>88.020833</td>\n",
       "      <td>87.474167</td>\n",
       "      <td>87.748506</td>\n",
       "      <td>0.132764</td>\n",
       "      <td>0.546667</td>\n",
       "    </tr>\n",
       "  </tbody>\n",
       "</table>\n",
       "<p>1 rows × 43 columns</p>\n",
       "</div>"
      ],
      "text/plain": [
       "          ID location  loc_altitude  km2  aspect  dist_tertiary  \\\n",
       "0  ID_test_0        C        1178.3  8.5   168.7       72.45934   \n",
       "\n",
       "   dist_unclassified  dist_residential   popn     hh  ...  max_wind_spd  \\\n",
       "0         406.967815          13.93135  97895  26873  ...      1.915833   \n",
       "\n",
       "   min_wind_spd  mean_wind_spd  std_wind_spd  ptp_wind_spd  max_atmos_press  \\\n",
       "0      0.171667       0.812555      0.392783      1.744167        88.020833   \n",
       "\n",
       "   min_atmos_press  mean_atmos_press  std_atmos_press  ptp_atmos_press  \n",
       "0        87.474167         87.748506         0.132764         0.546667  \n",
       "\n",
       "[1 rows x 43 columns]"
      ]
     },
     "execution_count": 457,
     "metadata": {},
     "output_type": "execute_result"
    }
   ],
   "source": [
    "submission.head(1)"
   ]
  },
  {
   "cell_type": "code",
   "execution_count": 458,
   "metadata": {},
   "outputs": [
    {
     "data": {
      "text/html": [
       "<div>\n",
       "<style scoped>\n",
       "    .dataframe tbody tr th:only-of-type {\n",
       "        vertical-align: middle;\n",
       "    }\n",
       "\n",
       "    .dataframe tbody tr th {\n",
       "        vertical-align: top;\n",
       "    }\n",
       "\n",
       "    .dataframe thead th {\n",
       "        text-align: right;\n",
       "    }\n",
       "</style>\n",
       "<table border=\"1\" class=\"dataframe\">\n",
       "  <thead>\n",
       "    <tr style=\"text-align: right;\">\n",
       "      <th></th>\n",
       "      <th>loc_altitude</th>\n",
       "      <th>km2</th>\n",
       "      <th>aspect</th>\n",
       "      <th>dist_tertiary</th>\n",
       "      <th>dist_unclassified</th>\n",
       "      <th>dist_residential</th>\n",
       "      <th>popn</th>\n",
       "      <th>hh</th>\n",
       "      <th>hh_cook_charcoal</th>\n",
       "      <th>hh_cook_firewood</th>\n",
       "      <th>...</th>\n",
       "      <th>max_atmos_press</th>\n",
       "      <th>min_atmos_press</th>\n",
       "      <th>mean_atmos_press</th>\n",
       "      <th>std_atmos_press</th>\n",
       "      <th>ptp_atmos_press</th>\n",
       "      <th>location_is_A</th>\n",
       "      <th>location_is_B</th>\n",
       "      <th>location_is_C</th>\n",
       "      <th>location_is_D</th>\n",
       "      <th>location_is_E</th>\n",
       "    </tr>\n",
       "  </thead>\n",
       "  <tbody>\n",
       "    <tr>\n",
       "      <th>0</th>\n",
       "      <td>1178.3</td>\n",
       "      <td>8.5</td>\n",
       "      <td>168.7</td>\n",
       "      <td>72.45934</td>\n",
       "      <td>406.967815</td>\n",
       "      <td>13.93135</td>\n",
       "      <td>97895</td>\n",
       "      <td>26873</td>\n",
       "      <td>21316</td>\n",
       "      <td>751</td>\n",
       "      <td>...</td>\n",
       "      <td>88.020833</td>\n",
       "      <td>87.474167</td>\n",
       "      <td>87.748506</td>\n",
       "      <td>0.132764</td>\n",
       "      <td>0.546667</td>\n",
       "      <td>0</td>\n",
       "      <td>0</td>\n",
       "      <td>1</td>\n",
       "      <td>0</td>\n",
       "      <td>0</td>\n",
       "    </tr>\n",
       "    <tr>\n",
       "      <th>1</th>\n",
       "      <td>1178.3</td>\n",
       "      <td>8.5</td>\n",
       "      <td>168.7</td>\n",
       "      <td>72.45934</td>\n",
       "      <td>406.967815</td>\n",
       "      <td>13.93135</td>\n",
       "      <td>97895</td>\n",
       "      <td>26873</td>\n",
       "      <td>21316</td>\n",
       "      <td>751</td>\n",
       "      <td>...</td>\n",
       "      <td>88.181667</td>\n",
       "      <td>87.572500</td>\n",
       "      <td>87.936963</td>\n",
       "      <td>0.113756</td>\n",
       "      <td>0.609167</td>\n",
       "      <td>0</td>\n",
       "      <td>0</td>\n",
       "      <td>1</td>\n",
       "      <td>0</td>\n",
       "      <td>0</td>\n",
       "    </tr>\n",
       "  </tbody>\n",
       "</table>\n",
       "<p>2 rows × 46 columns</p>\n",
       "</div>"
      ],
      "text/plain": [
       "   loc_altitude  km2  aspect  dist_tertiary  dist_unclassified  \\\n",
       "0        1178.3  8.5   168.7       72.45934         406.967815   \n",
       "1        1178.3  8.5   168.7       72.45934         406.967815   \n",
       "\n",
       "   dist_residential   popn     hh  hh_cook_charcoal  hh_cook_firewood  ...  \\\n",
       "0          13.93135  97895  26873             21316               751  ...   \n",
       "1          13.93135  97895  26873             21316               751  ...   \n",
       "\n",
       "   max_atmos_press  min_atmos_press  mean_atmos_press  std_atmos_press  \\\n",
       "0        88.020833        87.474167         87.748506         0.132764   \n",
       "1        88.181667        87.572500         87.936963         0.113756   \n",
       "\n",
       "   ptp_atmos_press  location_is_A  location_is_B  location_is_C  \\\n",
       "0         0.546667              0              0              1   \n",
       "1         0.609167              0              0              1   \n",
       "\n",
       "   location_is_D  location_is_E  \n",
       "0              0              0  \n",
       "1              0              0  \n",
       "\n",
       "[2 rows x 46 columns]"
      ]
     },
     "execution_count": 458,
     "metadata": {},
     "output_type": "execute_result"
    }
   ],
   "source": [
    "# Submission DATA\n",
    "droppers = ['ID']\n",
    "x_submission = pd.get_dummies(submission.drop(droppers, axis=1), columns=[\"location\"], prefix=[\"location_is\"])\n",
    "x_submission.head(2)"
   ]
  },
  {
   "cell_type": "code",
   "execution_count": 459,
   "metadata": {},
   "outputs": [
    {
     "data": {
      "text/plain": [
       "(7212, 46)"
      ]
     },
     "execution_count": 459,
     "metadata": {},
     "output_type": "execute_result"
    }
   ],
   "source": [
    "X.shape"
   ]
  },
  {
   "cell_type": "code",
   "execution_count": 460,
   "metadata": {},
   "outputs": [
    {
     "data": {
      "text/html": [
       "<div>\n",
       "<style scoped>\n",
       "    .dataframe tbody tr th:only-of-type {\n",
       "        vertical-align: middle;\n",
       "    }\n",
       "\n",
       "    .dataframe tbody tr th {\n",
       "        vertical-align: top;\n",
       "    }\n",
       "\n",
       "    .dataframe thead th {\n",
       "        text-align: right;\n",
       "    }\n",
       "</style>\n",
       "<table border=\"1\" class=\"dataframe\">\n",
       "  <thead>\n",
       "    <tr style=\"text-align: right;\">\n",
       "      <th></th>\n",
       "      <th>0</th>\n",
       "      <th>1</th>\n",
       "      <th>2</th>\n",
       "      <th>3</th>\n",
       "      <th>4</th>\n",
       "      <th>5</th>\n",
       "      <th>6</th>\n",
       "      <th>7</th>\n",
       "      <th>8</th>\n",
       "      <th>9</th>\n",
       "      <th>...</th>\n",
       "      <th>36</th>\n",
       "      <th>37</th>\n",
       "      <th>38</th>\n",
       "      <th>39</th>\n",
       "      <th>40</th>\n",
       "      <th>41</th>\n",
       "      <th>42</th>\n",
       "      <th>43</th>\n",
       "      <th>44</th>\n",
       "      <th>45</th>\n",
       "    </tr>\n",
       "  </thead>\n",
       "  <tbody>\n",
       "    <tr>\n",
       "      <th>7211</th>\n",
       "      <td>0.963759</td>\n",
       "      <td>1.888558</td>\n",
       "      <td>0.768273</td>\n",
       "      <td>-1.282756</td>\n",
       "      <td>0.951232</td>\n",
       "      <td>-0.37624</td>\n",
       "      <td>2.000137</td>\n",
       "      <td>2.00057</td>\n",
       "      <td>2.010701</td>\n",
       "      <td>0.763885</td>\n",
       "      <td>...</td>\n",
       "      <td>-1.114777</td>\n",
       "      <td>-1.081364</td>\n",
       "      <td>-1.127433</td>\n",
       "      <td>-1.40763</td>\n",
       "      <td>-1.030957</td>\n",
       "      <td>-0.424006</td>\n",
       "      <td>-0.239746</td>\n",
       "      <td>2.012566</td>\n",
       "      <td>-0.83268</td>\n",
       "      <td>-0.477705</td>\n",
       "    </tr>\n",
       "  </tbody>\n",
       "</table>\n",
       "<p>1 rows × 46 columns</p>\n",
       "</div>"
      ],
      "text/plain": [
       "            0         1         2         3         4        5         6   \\\n",
       "7211  0.963759  1.888558  0.768273 -1.282756  0.951232 -0.37624  2.000137   \n",
       "\n",
       "           7         8         9   ...        36        37        38       39  \\\n",
       "7211  2.00057  2.010701  0.763885  ... -1.114777 -1.081364 -1.127433 -1.40763   \n",
       "\n",
       "            40        41        42        43       44        45  \n",
       "7211 -1.030957 -0.424006 -0.239746  2.012566 -0.83268 -0.477705  \n",
       "\n",
       "[1 rows x 46 columns]"
      ]
     },
     "execution_count": 460,
     "metadata": {},
     "output_type": "execute_result"
    }
   ],
   "source": [
    "# Scale TRAIN data\n",
    "from sklearn.preprocessing import StandardScaler\n",
    "scale = StandardScaler()\n",
    "\n",
    "X = pd.DataFrame(scale.fit_transform(X))\n",
    "X.tail(1)"
   ]
  },
  {
   "cell_type": "code",
   "execution_count": 461,
   "metadata": {},
   "outputs": [
    {
     "data": {
      "text/plain": [
       "(7212, 46)"
      ]
     },
     "execution_count": 461,
     "metadata": {},
     "output_type": "execute_result"
    }
   ],
   "source": [
    "X.shape"
   ]
  },
  {
   "cell_type": "code",
   "execution_count": 462,
   "metadata": {},
   "outputs": [
    {
     "data": {
      "text/html": [
       "<div>\n",
       "<style scoped>\n",
       "    .dataframe tbody tr th:only-of-type {\n",
       "        vertical-align: middle;\n",
       "    }\n",
       "\n",
       "    .dataframe tbody tr th {\n",
       "        vertical-align: top;\n",
       "    }\n",
       "\n",
       "    .dataframe thead th {\n",
       "        text-align: right;\n",
       "    }\n",
       "</style>\n",
       "<table border=\"1\" class=\"dataframe\">\n",
       "  <thead>\n",
       "    <tr style=\"text-align: right;\">\n",
       "      <th></th>\n",
       "      <th>0</th>\n",
       "      <th>1</th>\n",
       "      <th>2</th>\n",
       "      <th>3</th>\n",
       "      <th>4</th>\n",
       "      <th>5</th>\n",
       "      <th>6</th>\n",
       "      <th>7</th>\n",
       "      <th>8</th>\n",
       "      <th>9</th>\n",
       "      <th>...</th>\n",
       "      <th>36</th>\n",
       "      <th>37</th>\n",
       "      <th>38</th>\n",
       "      <th>39</th>\n",
       "      <th>40</th>\n",
       "      <th>41</th>\n",
       "      <th>42</th>\n",
       "      <th>43</th>\n",
       "      <th>44</th>\n",
       "      <th>45</th>\n",
       "    </tr>\n",
       "  </thead>\n",
       "  <tbody>\n",
       "    <tr>\n",
       "      <th>5034</th>\n",
       "      <td>0.873718</td>\n",
       "      <td>1.720574</td>\n",
       "      <td>0.253144</td>\n",
       "      <td>-1.392305</td>\n",
       "      <td>0.938359</td>\n",
       "      <td>-0.608394</td>\n",
       "      <td>1.904898</td>\n",
       "      <td>1.905315</td>\n",
       "      <td>1.9261</td>\n",
       "      <td>0.687372</td>\n",
       "      <td>...</td>\n",
       "      <td>-0.85321</td>\n",
       "      <td>-0.879546</td>\n",
       "      <td>-0.869906</td>\n",
       "      <td>-0.49173</td>\n",
       "      <td>-0.097458</td>\n",
       "      <td>-0.650786</td>\n",
       "      <td>-0.369899</td>\n",
       "      <td>1.927283</td>\n",
       "      <td>-0.585683</td>\n",
       "      <td>-0.359764</td>\n",
       "    </tr>\n",
       "  </tbody>\n",
       "</table>\n",
       "<p>1 rows × 46 columns</p>\n",
       "</div>"
      ],
      "text/plain": [
       "            0         1         2         3         4         5         6   \\\n",
       "5034  0.873718  1.720574  0.253144 -1.392305  0.938359 -0.608394  1.904898   \n",
       "\n",
       "            7       8         9   ...       36        37        38       39  \\\n",
       "5034  1.905315  1.9261  0.687372  ... -0.85321 -0.879546 -0.869906 -0.49173   \n",
       "\n",
       "            40        41        42        43        44        45  \n",
       "5034 -0.097458 -0.650786 -0.369899  1.927283 -0.585683 -0.359764  \n",
       "\n",
       "[1 rows x 46 columns]"
      ]
     },
     "execution_count": 462,
     "metadata": {},
     "output_type": "execute_result"
    }
   ],
   "source": [
    "# Scale TEST data\n",
    "x_submission = pd.DataFrame(scale.fit_transform(x_submission))\n",
    "x_submission.tail(1)"
   ]
  },
  {
   "cell_type": "code",
   "execution_count": 409,
   "metadata": {},
   "outputs": [
    {
     "data": {
      "text/plain": [
       "(5035, 46)"
      ]
     },
     "execution_count": 409,
     "metadata": {},
     "output_type": "execute_result"
    }
   ],
   "source": [
    "x_submission.shape"
   ]
  },
  {
   "cell_type": "code",
   "execution_count": 412,
   "metadata": {},
   "outputs": [],
   "source": [
    "# train/test split\n",
    "from sklearn.model_selection import train_test_split\n",
    "x_train, x_test, y_train, y_test = train_test_split(X, y, test_size = .20)"
   ]
  },
  {
   "cell_type": "code",
   "execution_count": 413,
   "metadata": {},
   "outputs": [],
   "source": [
    "# Simple Tree\n",
    "from sklearn.tree import DecisionTreeRegressor\n",
    "from sklearn.tree import ExtraTreeRegressor\n",
    "\n",
    "# Multioutput\n",
    "from sklearn.multioutput import MultiOutputRegressor\n",
    "from sklearn.linear_model import MultiTaskElasticNetCV\n",
    "\n",
    "# Gaussian Process\n",
    "from sklearn.gaussian_process import GaussianProcessRegressor\n",
    "\n",
    "# Linear Regression, CV is for cross validation\n",
    "from sklearn.linear_model.stochastic_gradient import SGDRegressor\n",
    "from sklearn.linear_model import TheilSenRegressor\n",
    "from sklearn.linear_model import Ridge\n",
    "from sklearn.linear_model.passive_aggressive import PassiveAggressiveRegressor\n",
    "from sklearn.linear_model import ARDRegression\n",
    "from sklearn.linear_model import LinearRegression\n",
    "from sklearn.linear_model import BayesianRidge\n",
    "from sklearn.linear_model import ElasticNetCV\n",
    "from sklearn.linear_model import HuberRegressor\n",
    "from sklearn.linear_model import RANSACRegressor\n",
    "from sklearn.linear_model import LarsCV\n",
    "from sklearn.linear_model import LassoCV\n",
    "from sklearn.linear_model import LassoLarsCV\n",
    "\n",
    "# Ensemble \n",
    "from sklearn.ensemble import VotingRegressor\n",
    "from sklearn.ensemble.weight_boosting import AdaBoostRegressor\n",
    "from sklearn.ensemble.gradient_boosting import GradientBoostingRegressor\n",
    "from sklearn.ensemble.bagging import BaggingRegressor\n",
    "from sklearn.ensemble.forest import ExtraTreesRegressor\n",
    "from sklearn.ensemble.forest import RandomForestRegressor\n",
    "\n",
    "# Neighbours\n",
    "from sklearn.neighbors import KNeighborsRegressor\n",
    "from sklearn.neighbors import RadiusNeighborsRegressor\n",
    "\n",
    "# Neural Net\n",
    "from sklearn.neural_network import MLPRegressor\n",
    "\n",
    "# SVM\n",
    "from sklearn.svm import SVR\n",
    "from sklearn.svm import LinearSVR\n",
    "from sklearn.svm import NuSVR\n",
    "\n",
    "# Also use Keras/Tensorflow for Deep Learning"
   ]
  },
  {
   "cell_type": "code",
   "execution_count": 414,
   "metadata": {},
   "outputs": [],
   "source": [
    "regressors = [BaggingRegressor(n_estimators=50), ExtraTreesRegressor(n_estimators=50), RandomForestRegressor(n_estimators=50)]\n",
    "\n",
    "# poor score for \n",
    "# PassiveAggressiveRegressor(), GaussianProcessRegressor(), SGDRegressor(), LassoLarsCV(), RANSACRegressor(),\n",
    "# TheilSenRegressor(), AdaBoostRegressor(), LarsCV(), LassoCV(), Ridge(), BayesianRidge(), ElasticNetCV(), \n",
    "# LinearRegression(), HuberRegressor(), GradientBoostingRegressor(), DecisionTreeRegressor(), ExtraTreeRegressor(),\n",
    "# KNeighborsRegressor(), RadiusNeighborsRegressor(weights='uniform'), MLPRegressor(), SVR(), LinearSVR(), NuSVR()"
   ]
  },
  {
   "cell_type": "code",
   "execution_count": 415,
   "metadata": {},
   "outputs": [
    {
     "name": "stdout",
     "output_type": "stream",
     "text": [
      "The current model specifications are: \n",
      "BaggingRegressor(base_estimator=None, bootstrap=True, bootstrap_features=False,\n",
      "                 max_features=1.0, max_samples=1.0, n_estimators=50,\n",
      "                 n_jobs=None, oob_score=False, random_state=None, verbose=0,\n",
      "                 warm_start=False)\n",
      "The mean absolute error for this model is: 16.43833\n",
      "  \n",
      "  \n",
      "The current model specifications are: \n",
      "ExtraTreesRegressor(bootstrap=False, ccp_alpha=0.0, criterion='mse',\n",
      "                    max_depth=None, max_features='auto', max_leaf_nodes=None,\n",
      "                    max_samples=None, min_impurity_decrease=0.0,\n",
      "                    min_impurity_split=None, min_samples_leaf=1,\n",
      "                    min_samples_split=2, min_weight_fraction_leaf=0.0,\n",
      "                    n_estimators=50, n_jobs=None, oob_score=False,\n",
      "                    random_state=None, verbose=0, warm_start=False)\n",
      "The mean absolute error for this model is: 14.89971\n",
      "  \n",
      "  \n",
      "The current model specifications are: \n",
      "RandomForestRegressor(bootstrap=True, ccp_alpha=0.0, criterion='mse',\n",
      "                      max_depth=None, max_features='auto', max_leaf_nodes=None,\n",
      "                      max_samples=None, min_impurity_decrease=0.0,\n",
      "                      min_impurity_split=None, min_samples_leaf=1,\n",
      "                      min_samples_split=2, min_weight_fraction_leaf=0.0,\n",
      "                      n_estimators=50, n_jobs=None, oob_score=False,\n",
      "                      random_state=None, verbose=0, warm_start=False)\n",
      "The mean absolute error for this model is: 16.54052\n",
      "  \n",
      "  \n"
     ]
    }
   ],
   "source": [
    "# Train each model\n",
    "from sklearn.metrics import mean_absolute_error\n",
    "\n",
    "for reg in regressors:\n",
    "    reg.fit(x_train, y_train)\n",
    "    y_pred = reg.predict(x_test)\n",
    "    score = mean_absolute_error(y_pred, y_test)\n",
    "    score = round(score, 5)\n",
    "    print(\"The current model specifications are: \")\n",
    "    print(reg)\n",
    "    print(\"The mean absolute error for this model is: \"+ str(score))\n",
    "    print(\"  \")\n",
    "    print(\"  \")"
   ]
  },
  {
   "cell_type": "code",
   "execution_count": 327,
   "metadata": {},
   "outputs": [
    {
     "name": "stdout",
     "output_type": "stream",
     "text": [
      "{'n_estimators': [450, 475, 490, 515, 520, 535, 550], 'max_features': ['auto'], 'max_depth': [None], 'min_samples_split': [2], 'min_samples_leaf': [1], 'bootstrap': [False]}\n"
     ]
    }
   ],
   "source": [
    "# using the best model above\n",
    "tree = ExtraTreesRegressor()\n",
    "\n",
    "from sklearn.model_selection import RandomizedSearchCV\n",
    "from sklearn.model_selection import GridSearchCV\n",
    "\n",
    "n_estimators = [450, 475, 490, 515, 520, 535, 550]\n",
    "max_features = ['auto']\n",
    "max_depth = [None]\n",
    "min_samples_split = [2]\n",
    "min_samples_leaf = [1]\n",
    "bootstrap = [False]\n",
    "\n",
    "random_grid = {'n_estimators': n_estimators,\n",
    "               'max_features': max_features,\n",
    "               'max_depth': max_depth,\n",
    "               'min_samples_split': min_samples_split,\n",
    "               'min_samples_leaf': min_samples_leaf,\n",
    "               'bootstrap': bootstrap}\n",
    "\n",
    "print(random_grid)"
   ]
  },
  {
   "cell_type": "code",
   "execution_count": 417,
   "metadata": {},
   "outputs": [],
   "source": [
    "# RandomizedSearchCV \n",
    "#tree_all_searched = RandomizedSearchCV(estimator = tree, param_distributions = random_grid, verbose=2, n_jobs = -1)\n",
    "#tree_all = ExtraTreesRegressor(n_estimators = 562, max_features = 'auto', max_depth = 80, \n",
    "#                               min_samples_split = 2, min_samples_leaf = 1, bootstrap = False)\n",
    "#tree_all_searched.fit(x_train, y_train)\n",
    "#print(\"Done\")"
   ]
  },
  {
   "cell_type": "code",
   "execution_count": 329,
   "metadata": {},
   "outputs": [
    {
     "data": {
      "text/plain": [
       "{'n_estimators': 535,\n",
       " 'min_samples_split': 2,\n",
       " 'min_samples_leaf': 1,\n",
       " 'max_features': 'auto',\n",
       " 'max_depth': None,\n",
       " 'bootstrap': False}"
      ]
     },
     "execution_count": 329,
     "metadata": {},
     "output_type": "execute_result"
    }
   ],
   "source": [
    "#tree_all_searched.best_params_"
   ]
  },
  {
   "cell_type": "code",
   "execution_count": 418,
   "metadata": {},
   "outputs": [],
   "source": [
    "#y_pred = tree_all_searched.predict(x_test)\n",
    "#score = mean_absolute_error(y_pred, y_test)\n",
    "#score = round(score, 5)\n",
    "#print(\"This optimal model mean absolute error for this model is: \"+ str(score))"
   ]
  },
  {
   "cell_type": "code",
   "execution_count": 465,
   "metadata": {},
   "outputs": [
    {
     "data": {
      "text/plain": [
       "ExtraTreesRegressor(bootstrap=False, ccp_alpha=0.0, criterion='mse',\n",
       "                    max_depth=None, max_features='auto', max_leaf_nodes=None,\n",
       "                    max_samples=None, min_impurity_decrease=0.0,\n",
       "                    min_impurity_split=None, min_samples_leaf=1,\n",
       "                    min_samples_split=2, min_weight_fraction_leaf=0.0,\n",
       "                    n_estimators=50, n_jobs=None, oob_score=False,\n",
       "                    random_state=None, verbose=0, warm_start=False)"
      ]
     },
     "execution_count": 465,
     "metadata": {},
     "output_type": "execute_result"
    }
   ],
   "source": [
    "# fit a optimal model to all of X, y\n",
    "tree = ExtraTreesRegressor(n_estimators=50)\n",
    "tree.fit(X, y)"
   ]
  },
  {
   "cell_type": "code",
   "execution_count": 466,
   "metadata": {},
   "outputs": [
    {
     "data": {
      "text/html": [
       "<div>\n",
       "<style scoped>\n",
       "    .dataframe tbody tr th:only-of-type {\n",
       "        vertical-align: middle;\n",
       "    }\n",
       "\n",
       "    .dataframe tbody tr th {\n",
       "        vertical-align: top;\n",
       "    }\n",
       "\n",
       "    .dataframe thead th {\n",
       "        text-align: right;\n",
       "    }\n",
       "</style>\n",
       "<table border=\"1\" class=\"dataframe\">\n",
       "  <thead>\n",
       "    <tr style=\"text-align: right;\">\n",
       "      <th></th>\n",
       "      <th>0</th>\n",
       "      <th>1</th>\n",
       "      <th>2</th>\n",
       "      <th>3</th>\n",
       "      <th>4</th>\n",
       "      <th>5</th>\n",
       "      <th>6</th>\n",
       "      <th>7</th>\n",
       "      <th>8</th>\n",
       "      <th>9</th>\n",
       "      <th>...</th>\n",
       "      <th>36</th>\n",
       "      <th>37</th>\n",
       "      <th>38</th>\n",
       "      <th>39</th>\n",
       "      <th>40</th>\n",
       "      <th>41</th>\n",
       "      <th>42</th>\n",
       "      <th>43</th>\n",
       "      <th>44</th>\n",
       "      <th>45</th>\n",
       "    </tr>\n",
       "  </thead>\n",
       "  <tbody>\n",
       "    <tr>\n",
       "      <th>0</th>\n",
       "      <td>0.873718</td>\n",
       "      <td>1.720574</td>\n",
       "      <td>0.253144</td>\n",
       "      <td>-1.392305</td>\n",
       "      <td>0.938359</td>\n",
       "      <td>-0.608394</td>\n",
       "      <td>1.904898</td>\n",
       "      <td>1.905315</td>\n",
       "      <td>1.9261</td>\n",
       "      <td>0.687372</td>\n",
       "      <td>...</td>\n",
       "      <td>-1.056304</td>\n",
       "      <td>-1.004277</td>\n",
       "      <td>-1.031425</td>\n",
       "      <td>-0.793841</td>\n",
       "      <td>-1.120381</td>\n",
       "      <td>-0.650786</td>\n",
       "      <td>-0.369899</td>\n",
       "      <td>1.927283</td>\n",
       "      <td>-0.585683</td>\n",
       "      <td>-0.359764</td>\n",
       "    </tr>\n",
       "  </tbody>\n",
       "</table>\n",
       "<p>1 rows × 46 columns</p>\n",
       "</div>"
      ],
      "text/plain": [
       "         0         1         2         3         4         5         6   \\\n",
       "0  0.873718  1.720574  0.253144 -1.392305  0.938359 -0.608394  1.904898   \n",
       "\n",
       "         7       8         9   ...        36        37        38        39  \\\n",
       "0  1.905315  1.9261  0.687372  ... -1.056304 -1.004277 -1.031425 -0.793841   \n",
       "\n",
       "         40        41        42        43        44        45  \n",
       "0 -1.120381 -0.650786 -0.369899  1.927283 -0.585683 -0.359764  \n",
       "\n",
       "[1 rows x 46 columns]"
      ]
     },
     "execution_count": 466,
     "metadata": {},
     "output_type": "execute_result"
    }
   ],
   "source": [
    "# Create Submission\n",
    "x_submission.head(1)"
   ]
  },
  {
   "cell_type": "code",
   "execution_count": 467,
   "metadata": {},
   "outputs": [
    {
     "data": {
      "text/html": [
       "<div>\n",
       "<style scoped>\n",
       "    .dataframe tbody tr th:only-of-type {\n",
       "        vertical-align: middle;\n",
       "    }\n",
       "\n",
       "    .dataframe tbody tr th {\n",
       "        vertical-align: top;\n",
       "    }\n",
       "\n",
       "    .dataframe thead th {\n",
       "        text-align: right;\n",
       "    }\n",
       "</style>\n",
       "<table border=\"1\" class=\"dataframe\">\n",
       "  <thead>\n",
       "    <tr style=\"text-align: right;\">\n",
       "      <th></th>\n",
       "      <th>0</th>\n",
       "      <th>1</th>\n",
       "      <th>2</th>\n",
       "      <th>3</th>\n",
       "      <th>4</th>\n",
       "      <th>5</th>\n",
       "      <th>6</th>\n",
       "      <th>7</th>\n",
       "      <th>8</th>\n",
       "      <th>9</th>\n",
       "      <th>...</th>\n",
       "      <th>36</th>\n",
       "      <th>37</th>\n",
       "      <th>38</th>\n",
       "      <th>39</th>\n",
       "      <th>40</th>\n",
       "      <th>41</th>\n",
       "      <th>42</th>\n",
       "      <th>43</th>\n",
       "      <th>44</th>\n",
       "      <th>45</th>\n",
       "    </tr>\n",
       "  </thead>\n",
       "  <tbody>\n",
       "    <tr>\n",
       "      <th>0</th>\n",
       "      <td>0.873718</td>\n",
       "      <td>1.720574</td>\n",
       "      <td>0.253144</td>\n",
       "      <td>-1.392305</td>\n",
       "      <td>0.938359</td>\n",
       "      <td>-0.608394</td>\n",
       "      <td>1.904898</td>\n",
       "      <td>1.905315</td>\n",
       "      <td>1.9261</td>\n",
       "      <td>0.687372</td>\n",
       "      <td>...</td>\n",
       "      <td>-1.056304</td>\n",
       "      <td>-1.004277</td>\n",
       "      <td>-1.031425</td>\n",
       "      <td>-0.793841</td>\n",
       "      <td>-1.120381</td>\n",
       "      <td>-0.650786</td>\n",
       "      <td>-0.369899</td>\n",
       "      <td>1.927283</td>\n",
       "      <td>-0.585683</td>\n",
       "      <td>-0.359764</td>\n",
       "    </tr>\n",
       "  </tbody>\n",
       "</table>\n",
       "<p>1 rows × 46 columns</p>\n",
       "</div>"
      ],
      "text/plain": [
       "         0         1         2         3         4         5         6   \\\n",
       "0  0.873718  1.720574  0.253144 -1.392305  0.938359 -0.608394  1.904898   \n",
       "\n",
       "         7       8         9   ...        36        37        38        39  \\\n",
       "0  1.905315  1.9261  0.687372  ... -1.056304 -1.004277 -1.031425 -0.793841   \n",
       "\n",
       "         40        41        42        43        44        45  \n",
       "0 -1.120381 -0.650786 -0.369899  1.927283 -0.585683 -0.359764  \n",
       "\n",
       "[1 rows x 46 columns]"
      ]
     },
     "execution_count": 467,
     "metadata": {},
     "output_type": "execute_result"
    }
   ],
   "source": [
    "# get rid of nan's\n",
    "from sklearn.impute import SimpleImputer\n",
    "\n",
    "imp = SimpleImputer(missing_values=np.nan, strategy='mean')\n",
    "imp = imp.fit(x_submission)\n",
    "\n",
    "x_submission = pd.DataFrame(imp.transform(x_submission))\n",
    "x_submission.head(1)"
   ]
  },
  {
   "cell_type": "code",
   "execution_count": 468,
   "metadata": {},
   "outputs": [
    {
     "data": {
      "text/html": [
       "<div>\n",
       "<style scoped>\n",
       "    .dataframe tbody tr th:only-of-type {\n",
       "        vertical-align: middle;\n",
       "    }\n",
       "\n",
       "    .dataframe tbody tr th {\n",
       "        vertical-align: top;\n",
       "    }\n",
       "\n",
       "    .dataframe thead th {\n",
       "        text-align: right;\n",
       "    }\n",
       "</style>\n",
       "<table border=\"1\" class=\"dataframe\">\n",
       "  <thead>\n",
       "    <tr style=\"text-align: right;\">\n",
       "      <th></th>\n",
       "      <th>0</th>\n",
       "      <th>1</th>\n",
       "      <th>2</th>\n",
       "      <th>3</th>\n",
       "      <th>4</th>\n",
       "      <th>5</th>\n",
       "      <th>6</th>\n",
       "      <th>7</th>\n",
       "      <th>8</th>\n",
       "      <th>9</th>\n",
       "      <th>...</th>\n",
       "      <th>37</th>\n",
       "      <th>38</th>\n",
       "      <th>39</th>\n",
       "      <th>40</th>\n",
       "      <th>41</th>\n",
       "      <th>42</th>\n",
       "      <th>43</th>\n",
       "      <th>44</th>\n",
       "      <th>45</th>\n",
       "      <th>target</th>\n",
       "    </tr>\n",
       "  </thead>\n",
       "  <tbody>\n",
       "    <tr>\n",
       "      <th>0</th>\n",
       "      <td>0.873718</td>\n",
       "      <td>1.720574</td>\n",
       "      <td>0.253144</td>\n",
       "      <td>-1.392305</td>\n",
       "      <td>0.938359</td>\n",
       "      <td>-0.608394</td>\n",
       "      <td>1.904898</td>\n",
       "      <td>1.905315</td>\n",
       "      <td>1.9261</td>\n",
       "      <td>0.687372</td>\n",
       "      <td>...</td>\n",
       "      <td>-1.004277</td>\n",
       "      <td>-1.031425</td>\n",
       "      <td>-0.793841</td>\n",
       "      <td>-1.120381</td>\n",
       "      <td>-0.650786</td>\n",
       "      <td>-0.369899</td>\n",
       "      <td>1.927283</td>\n",
       "      <td>-0.585683</td>\n",
       "      <td>-0.359764</td>\n",
       "      <td>85.052499</td>\n",
       "    </tr>\n",
       "  </tbody>\n",
       "</table>\n",
       "<p>1 rows × 47 columns</p>\n",
       "</div>"
      ],
      "text/plain": [
       "          0         1         2         3         4         5         6  \\\n",
       "0  0.873718  1.720574  0.253144 -1.392305  0.938359 -0.608394  1.904898   \n",
       "\n",
       "          7       8         9  ...        37        38        39        40  \\\n",
       "0  1.905315  1.9261  0.687372  ... -1.004277 -1.031425 -0.793841 -1.120381   \n",
       "\n",
       "         41        42        43        44        45     target  \n",
       "0 -0.650786 -0.369899  1.927283 -0.585683 -0.359764  85.052499  \n",
       "\n",
       "[1 rows x 47 columns]"
      ]
     },
     "execution_count": 468,
     "metadata": {},
     "output_type": "execute_result"
    }
   ],
   "source": [
    "# predict this submission using our Forest Model\n",
    "x_submission_pred = tree.predict(x_submission)\n",
    "x_submission['target'] = x_submission_pred\n",
    "\n",
    "submission_df = x_submission.reset_index(drop=True)\n",
    "submission_df.head(1)"
   ]
  },
  {
   "cell_type": "code",
   "execution_count": 469,
   "metadata": {},
   "outputs": [
    {
     "data": {
      "text/plain": [
       "(5035, 47)"
      ]
     },
     "execution_count": 469,
     "metadata": {},
     "output_type": "execute_result"
    }
   ],
   "source": [
    "submission_df.shape"
   ]
  },
  {
   "cell_type": "code",
   "execution_count": 470,
   "metadata": {},
   "outputs": [
    {
     "data": {
      "text/html": [
       "<div>\n",
       "<style scoped>\n",
       "    .dataframe tbody tr th:only-of-type {\n",
       "        vertical-align: middle;\n",
       "    }\n",
       "\n",
       "    .dataframe tbody tr th {\n",
       "        vertical-align: top;\n",
       "    }\n",
       "\n",
       "    .dataframe thead th {\n",
       "        text-align: right;\n",
       "    }\n",
       "</style>\n",
       "<table border=\"1\" class=\"dataframe\">\n",
       "  <thead>\n",
       "    <tr style=\"text-align: right;\">\n",
       "      <th></th>\n",
       "      <th>index</th>\n",
       "      <th>ID</th>\n",
       "    </tr>\n",
       "  </thead>\n",
       "  <tbody>\n",
       "    <tr>\n",
       "      <th>0</th>\n",
       "      <td>0</td>\n",
       "      <td>ID_test_0</td>\n",
       "    </tr>\n",
       "  </tbody>\n",
       "</table>\n",
       "</div>"
      ],
      "text/plain": [
       "   index         ID\n",
       "0      0  ID_test_0"
      ]
     },
     "execution_count": 470,
     "metadata": {},
     "output_type": "execute_result"
    }
   ],
   "source": [
    "test_ids = pd.DataFrame(submission['ID']).reset_index()\n",
    "test_ids.head(1)"
   ]
  },
  {
   "cell_type": "code",
   "execution_count": 471,
   "metadata": {},
   "outputs": [
    {
     "data": {
      "text/html": [
       "<div>\n",
       "<style scoped>\n",
       "    .dataframe tbody tr th:only-of-type {\n",
       "        vertical-align: middle;\n",
       "    }\n",
       "\n",
       "    .dataframe tbody tr th {\n",
       "        vertical-align: top;\n",
       "    }\n",
       "\n",
       "    .dataframe thead th {\n",
       "        text-align: right;\n",
       "    }\n",
       "</style>\n",
       "<table border=\"1\" class=\"dataframe\">\n",
       "  <thead>\n",
       "    <tr style=\"text-align: right;\">\n",
       "      <th></th>\n",
       "      <th>0</th>\n",
       "      <th>1</th>\n",
       "      <th>2</th>\n",
       "      <th>3</th>\n",
       "      <th>4</th>\n",
       "      <th>5</th>\n",
       "      <th>6</th>\n",
       "      <th>7</th>\n",
       "      <th>8</th>\n",
       "      <th>9</th>\n",
       "      <th>...</th>\n",
       "      <th>38</th>\n",
       "      <th>39</th>\n",
       "      <th>40</th>\n",
       "      <th>41</th>\n",
       "      <th>42</th>\n",
       "      <th>43</th>\n",
       "      <th>44</th>\n",
       "      <th>45</th>\n",
       "      <th>target</th>\n",
       "      <th>ID</th>\n",
       "    </tr>\n",
       "  </thead>\n",
       "  <tbody>\n",
       "    <tr>\n",
       "      <th>0</th>\n",
       "      <td>0.873718</td>\n",
       "      <td>1.720574</td>\n",
       "      <td>0.253144</td>\n",
       "      <td>-1.392305</td>\n",
       "      <td>0.938359</td>\n",
       "      <td>-0.608394</td>\n",
       "      <td>1.904898</td>\n",
       "      <td>1.905315</td>\n",
       "      <td>1.9261</td>\n",
       "      <td>0.687372</td>\n",
       "      <td>...</td>\n",
       "      <td>-1.031425</td>\n",
       "      <td>-0.793841</td>\n",
       "      <td>-1.120381</td>\n",
       "      <td>-0.650786</td>\n",
       "      <td>-0.369899</td>\n",
       "      <td>1.927283</td>\n",
       "      <td>-0.585683</td>\n",
       "      <td>-0.359764</td>\n",
       "      <td>85.052499</td>\n",
       "      <td>ID_test_0</td>\n",
       "    </tr>\n",
       "    <tr>\n",
       "      <th>1</th>\n",
       "      <td>0.873718</td>\n",
       "      <td>1.720574</td>\n",
       "      <td>0.253144</td>\n",
       "      <td>-1.392305</td>\n",
       "      <td>0.938359</td>\n",
       "      <td>-0.608394</td>\n",
       "      <td>1.904898</td>\n",
       "      <td>1.905315</td>\n",
       "      <td>1.9261</td>\n",
       "      <td>0.687372</td>\n",
       "      <td>...</td>\n",
       "      <td>-0.856480</td>\n",
       "      <td>-1.878170</td>\n",
       "      <td>-0.416535</td>\n",
       "      <td>-0.650786</td>\n",
       "      <td>-0.369899</td>\n",
       "      <td>1.927283</td>\n",
       "      <td>-0.585683</td>\n",
       "      <td>-0.359764</td>\n",
       "      <td>108.365579</td>\n",
       "      <td>ID_test_1</td>\n",
       "    </tr>\n",
       "  </tbody>\n",
       "</table>\n",
       "<p>2 rows × 48 columns</p>\n",
       "</div>"
      ],
      "text/plain": [
       "          0         1         2         3         4         5         6  \\\n",
       "0  0.873718  1.720574  0.253144 -1.392305  0.938359 -0.608394  1.904898   \n",
       "1  0.873718  1.720574  0.253144 -1.392305  0.938359 -0.608394  1.904898   \n",
       "\n",
       "          7       8         9  ...        38        39        40        41  \\\n",
       "0  1.905315  1.9261  0.687372  ... -1.031425 -0.793841 -1.120381 -0.650786   \n",
       "1  1.905315  1.9261  0.687372  ... -0.856480 -1.878170 -0.416535 -0.650786   \n",
       "\n",
       "         42        43        44        45      target         ID  \n",
       "0 -0.369899  1.927283 -0.585683 -0.359764   85.052499  ID_test_0  \n",
       "1 -0.369899  1.927283 -0.585683 -0.359764  108.365579  ID_test_1  \n",
       "\n",
       "[2 rows x 48 columns]"
      ]
     },
     "execution_count": 471,
     "metadata": {},
     "output_type": "execute_result"
    }
   ],
   "source": [
    "submission_df['ID'] = test_ids['ID']\n",
    "submission_df.head(2)"
   ]
  },
  {
   "cell_type": "code",
   "execution_count": 472,
   "metadata": {},
   "outputs": [
    {
     "data": {
      "text/html": [
       "<div>\n",
       "<style scoped>\n",
       "    .dataframe tbody tr th:only-of-type {\n",
       "        vertical-align: middle;\n",
       "    }\n",
       "\n",
       "    .dataframe tbody tr th {\n",
       "        vertical-align: top;\n",
       "    }\n",
       "\n",
       "    .dataframe thead th {\n",
       "        text-align: right;\n",
       "    }\n",
       "</style>\n",
       "<table border=\"1\" class=\"dataframe\">\n",
       "  <thead>\n",
       "    <tr style=\"text-align: right;\">\n",
       "      <th></th>\n",
       "      <th>ID</th>\n",
       "      <th>target</th>\n",
       "    </tr>\n",
       "  </thead>\n",
       "  <tbody>\n",
       "    <tr>\n",
       "      <th>0</th>\n",
       "      <td>ID_test_0</td>\n",
       "      <td>85.05</td>\n",
       "    </tr>\n",
       "  </tbody>\n",
       "</table>\n",
       "</div>"
      ],
      "text/plain": [
       "          ID  target\n",
       "0  ID_test_0   85.05"
      ]
     },
     "execution_count": 472,
     "metadata": {},
     "output_type": "execute_result"
    }
   ],
   "source": [
    "submission = submission_df[['ID', 'target']].round(2)\n",
    "submission.head(1)"
   ]
  },
  {
   "cell_type": "code",
   "execution_count": 473,
   "metadata": {},
   "outputs": [
    {
     "data": {
      "text/plain": [
       "(5035, 2)"
      ]
     },
     "execution_count": 473,
     "metadata": {},
     "output_type": "execute_result"
    }
   ],
   "source": [
    "submission.shape"
   ]
  },
  {
   "cell_type": "code",
   "execution_count": 475,
   "metadata": {},
   "outputs": [],
   "source": [
    "submission.to_csv('submission_1.csv')"
   ]
  },
  {
   "cell_type": "code",
   "execution_count": null,
   "metadata": {},
   "outputs": [],
   "source": []
  },
  {
   "cell_type": "code",
   "execution_count": null,
   "metadata": {},
   "outputs": [],
   "source": [
    "## NEURAL NETWORK SECTION"
   ]
  },
  {
   "cell_type": "code",
   "execution_count": 55,
   "metadata": {},
   "outputs": [],
   "source": [
    "# Using Keras Neural Network\n",
    "import tensorflow as tf"
   ]
  },
  {
   "cell_type": "code",
   "execution_count": 121,
   "metadata": {},
   "outputs": [],
   "source": [
    "from tensorflow.keras.layers import Dense, Dropout\n",
    "from tensorflow.keras.models import Sequential\n",
    "\n",
    "from tensorflow.keras.wrappers.scikit_learn import KerasRegressor"
   ]
  },
  {
   "cell_type": "code",
   "execution_count": 123,
   "metadata": {},
   "outputs": [],
   "source": [
    "# turn pandas to numpy array\n",
    "x_train_net = x_train.values\n",
    "y_train_net = y_train.values\n",
    "x_test_net = x_test.values\n",
    "y_test_net = y_test.values"
   ]
  },
  {
   "cell_type": "code",
   "execution_count": 124,
   "metadata": {},
   "outputs": [
    {
     "data": {
      "text/plain": [
       "(5409, 17)"
      ]
     },
     "execution_count": 124,
     "metadata": {},
     "output_type": "execute_result"
    }
   ],
   "source": [
    "x_train_net.shape"
   ]
  },
  {
   "cell_type": "code",
   "execution_count": 125,
   "metadata": {},
   "outputs": [],
   "source": [
    "# model build\n",
    "model = Sequential()\n",
    "model.add(Dense(17, input_dim=17, kernel_initializer='normal', activation='relu'))\n",
    "model.add(Dense(32, kernel_initializer='normal', activation='relu'))\n",
    "model.add(Dense(64, kernel_initializer='normal', activation='relu'))\n",
    "model.add(Dropout(0.5))\n",
    "model.add(Dense(64, kernel_initializer='normal', activation='relu'))\n",
    "model.add(Dense(126, kernel_initializer='normal', activation='relu'))\n",
    "model.add(Dense(256, kernel_initializer='normal', activation='relu'))\n",
    "model.add(Dense(512, kernel_initializer='normal', activation='relu'))\n",
    "model.add(Dense(256, kernel_initializer='normal', activation='relu'))\n",
    "model.add(Dense(126, kernel_initializer='normal', activation='relu'))\n",
    "model.add(Dropout(0.1))\n",
    "model.add(Dense(64, kernel_initializer='normal', activation='relu'))\n",
    "model.add(Dense(32, kernel_initializer='normal', activation='relu'))\n",
    "model.add(Dense(1, activation='relu'))\n",
    "\n",
    "model.compile(optimizer='adam', loss = 'mean_squared_error', metrics=['mse'])"
   ]
  },
  {
   "cell_type": "code",
   "execution_count": 127,
   "metadata": {},
   "outputs": [
    {
     "name": "stdout",
     "output_type": "stream",
     "text": [
      "Train on 5409 samples\n",
      "Epoch 1/100\n",
      "5409/5409 [==============================] - ETA: 2s - loss: 539.2827 - mean_squared_error: 539.28 - ETA: 1s - loss: 1066.6382 - mean_squared_error: 1066.63 - ETA: 1s - loss: 1232.7203 - mean_squared_error: 1232.72 - ETA: 1s - loss: 1175.0635 - mean_squared_error: 1175.06 - ETA: 1s - loss: 1235.6651 - mean_squared_error: 1235.66 - ETA: 0s - loss: 1327.7500 - mean_squared_error: 1327.75 - ETA: 0s - loss: 1346.0927 - mean_squared_error: 1346.09 - ETA: 0s - loss: 1348.6581 - mean_squared_error: 1348.65 - ETA: 0s - loss: 1346.1770 - mean_squared_error: 1346.17 - ETA: 0s - loss: 1316.1083 - mean_squared_error: 1316.10 - ETA: 0s - loss: 1314.3861 - mean_squared_error: 1314.38 - ETA: 0s - loss: 1341.6508 - mean_squared_error: 1341.65 - ETA: 0s - loss: 1373.6824 - mean_squared_error: 1373.68 - ETA: 0s - loss: 1364.9474 - mean_squared_error: 1364.94 - ETA: 0s - loss: 1363.3837 - mean_squared_error: 1363.38 - ETA: 0s - loss: 1391.1560 - mean_squared_error: 1391.15 - ETA: 0s - loss: 1373.6901 - mean_squared_error: 1373.69 - ETA: 0s - loss: 1375.3749 - mean_squared_error: 1375.37 - ETA: 0s - loss: 1368.8810 - mean_squared_error: 1368.88 - ETA: 0s - loss: 1376.3032 - mean_squared_error: 1376.30 - ETA: 0s - loss: 1364.1424 - mean_squared_error: 1364.14 - 1s 218us/sample - loss: 1365.2034 - mean_squared_error: 1365.2034\n",
      "Epoch 2/100\n",
      "5409/5409 [==============================] - ETA: 1s - loss: 1449.7203 - mean_squared_error: 1449.72 - ETA: 0s - loss: 1065.0804 - mean_squared_error: 1065.08 - ETA: 0s - loss: 1210.6897 - mean_squared_error: 1210.68 - ETA: 0s - loss: 1355.1907 - mean_squared_error: 1355.19 - ETA: 0s - loss: 1406.3348 - mean_squared_error: 1406.33 - ETA: 0s - loss: 1387.0020 - mean_squared_error: 1387.00 - ETA: 0s - loss: 1386.7877 - mean_squared_error: 1386.78 - ETA: 0s - loss: 1431.0348 - mean_squared_error: 1431.03 - ETA: 0s - loss: 1369.0853 - mean_squared_error: 1369.08 - ETA: 0s - loss: 1331.7062 - mean_squared_error: 1331.70 - ETA: 0s - loss: 1371.3276 - mean_squared_error: 1371.32 - ETA: 0s - loss: 1364.3785 - mean_squared_error: 1364.37 - ETA: 0s - loss: 1343.0134 - mean_squared_error: 1343.01 - ETA: 0s - loss: 1361.0809 - mean_squared_error: 1361.08 - ETA: 0s - loss: 1350.3182 - mean_squared_error: 1350.31 - ETA: 0s - loss: 1355.4710 - mean_squared_error: 1355.47 - ETA: 0s - loss: 1346.6494 - mean_squared_error: 1346.64 - ETA: 0s - loss: 1368.7954 - mean_squared_error: 1368.79 - ETA: 0s - loss: 1395.6483 - mean_squared_error: 1395.64 - ETA: 0s - loss: 1387.8471 - mean_squared_error: 1387.84 - ETA: 0s - loss: 1392.7236 - mean_squared_error: 1392.72 - ETA: 0s - loss: 1390.9706 - mean_squared_error: 1390.97 - ETA: 0s - loss: 1405.8231 - mean_squared_error: 1405.82 - 1s 229us/sample - loss: 1397.0017 - mean_squared_error: 1397.0018\n",
      "Epoch 3/100\n",
      "5409/5409 [==============================] - ETA: 1s - loss: 1470.0034 - mean_squared_error: 1470.00 - ETA: 0s - loss: 1438.9900 - mean_squared_error: 1438.99 - ETA: 0s - loss: 1279.1685 - mean_squared_error: 1279.16 - ETA: 0s - loss: 1323.5379 - mean_squared_error: 1323.53 - ETA: 0s - loss: 1332.3383 - mean_squared_error: 1332.33 - ETA: 0s - loss: 1310.2036 - mean_squared_error: 1310.20 - ETA: 0s - loss: 1260.0965 - mean_squared_error: 1260.09 - ETA: 0s - loss: 1289.6109 - mean_squared_error: 1289.61 - ETA: 0s - loss: 1303.2304 - mean_squared_error: 1303.23 - ETA: 0s - loss: 1305.6778 - mean_squared_error: 1305.67 - ETA: 0s - loss: 1317.0683 - mean_squared_error: 1317.06 - ETA: 0s - loss: 1337.0449 - mean_squared_error: 1337.04 - ETA: 0s - loss: 1350.5453 - mean_squared_error: 1350.54 - ETA: 0s - loss: 1347.6328 - mean_squared_error: 1347.63 - ETA: 0s - loss: 1360.9652 - mean_squared_error: 1360.96 - ETA: 0s - loss: 1374.4865 - mean_squared_error: 1374.48 - ETA: 0s - loss: 1371.6505 - mean_squared_error: 1371.65 - ETA: 0s - loss: 1386.4037 - mean_squared_error: 1386.40 - ETA: 0s - loss: 1387.7451 - mean_squared_error: 1387.74 - ETA: 0s - loss: 1360.5587 - mean_squared_error: 1360.55 - ETA: 0s - loss: 1360.0555 - mean_squared_error: 1360.05 - ETA: 0s - loss: 1367.8055 - mean_squared_error: 1367.80 - ETA: 0s - loss: 1376.5759 - mean_squared_error: 1376.57 - 1s 229us/sample - loss: 1378.9015 - mean_squared_error: 1378.9016\n",
      "Epoch 4/100\n",
      "5409/5409 [==============================] - ETA: 1s - loss: 717.1788 - mean_squared_error: 717.17 - ETA: 0s - loss: 1465.9494 - mean_squared_error: 1465.94 - ETA: 0s - loss: 1473.2085 - mean_squared_error: 1473.20 - ETA: 0s - loss: 1399.9609 - mean_squared_error: 1399.96 - ETA: 0s - loss: 1389.9912 - mean_squared_error: 1389.99 - ETA: 0s - loss: 1374.9311 - mean_squared_error: 1374.93 - ETA: 0s - loss: 1333.3868 - mean_squared_error: 1333.38 - ETA: 0s - loss: 1379.2437 - mean_squared_error: 1379.24 - ETA: 0s - loss: 1337.1090 - mean_squared_error: 1337.10 - ETA: 0s - loss: 1303.0525 - mean_squared_error: 1303.05 - ETA: 0s - loss: 1319.9287 - mean_squared_error: 1319.92 - ETA: 0s - loss: 1332.2405 - mean_squared_error: 1332.24 - ETA: 0s - loss: 1351.3084 - mean_squared_error: 1351.30 - ETA: 0s - loss: 1385.6570 - mean_squared_error: 1385.65 - ETA: 0s - loss: 1364.7716 - mean_squared_error: 1364.77 - ETA: 0s - loss: 1391.2738 - mean_squared_error: 1391.27 - ETA: 0s - loss: 1408.7091 - mean_squared_error: 1408.70 - ETA: 0s - loss: 1396.6056 - mean_squared_error: 1396.60 - ETA: 0s - loss: 1374.6681 - mean_squared_error: 1374.66 - ETA: 0s - loss: 1359.0458 - mean_squared_error: 1359.04 - ETA: 0s - loss: 1378.6415 - mean_squared_error: 1378.64 - ETA: 0s - loss: 1375.3708 - mean_squared_error: 1375.37 - 1s 225us/sample - loss: 1379.0830 - mean_squared_error: 1379.0830\n",
      "Epoch 5/100\n",
      "5409/5409 [==============================] - ETA: 1s - loss: 838.9941 - mean_squared_error: 838.99 - ETA: 0s - loss: 1443.8297 - mean_squared_error: 1443.82 - ETA: 0s - loss: 1299.7476 - mean_squared_error: 1299.74 - ETA: 0s - loss: 1381.1662 - mean_squared_error: 1381.16 - ETA: 0s - loss: 1343.2352 - mean_squared_error: 1343.23 - ETA: 0s - loss: 1432.6105 - mean_squared_error: 1432.61 - ETA: 0s - loss: 1367.6269 - mean_squared_error: 1367.62 - ETA: 0s - loss: 1339.7588 - mean_squared_error: 1339.75 - ETA: 0s - loss: 1317.8068 - mean_squared_error: 1317.80 - ETA: 0s - loss: 1299.3725 - mean_squared_error: 1299.37 - ETA: 0s - loss: 1293.2835 - mean_squared_error: 1293.28 - ETA: 0s - loss: 1302.5732 - mean_squared_error: 1302.57 - ETA: 0s - loss: 1341.6856 - mean_squared_error: 1341.68 - ETA: 0s - loss: 1345.4476 - mean_squared_error: 1345.44 - ETA: 0s - loss: 1343.6871 - mean_squared_error: 1343.68 - ETA: 0s - loss: 1332.5737 - mean_squared_error: 1332.57 - ETA: 0s - loss: 1321.6028 - mean_squared_error: 1321.60 - ETA: 0s - loss: 1314.0703 - mean_squared_error: 1314.07 - ETA: 0s - loss: 1311.5416 - mean_squared_error: 1311.54 - ETA: 0s - loss: 1316.8250 - mean_squared_error: 1316.82 - ETA: 0s - loss: 1320.1536 - mean_squared_error: 1320.15 - ETA: 0s - loss: 1338.7202 - mean_squared_error: 1338.71 - ETA: 0s - loss: 1334.9148 - mean_squared_error: 1334.91 - 1s 236us/sample - loss: 1325.6464 - mean_squared_error: 1325.6460\n",
      "Epoch 6/100\n",
      "5409/5409 [==============================] - ETA: 0s - loss: 1397.7349 - mean_squared_error: 1397.73 - ETA: 1s - loss: 1140.5963 - mean_squared_error: 1140.59 - ETA: 1s - loss: 1180.0404 - mean_squared_error: 1180.04 - ETA: 1s - loss: 1126.4614 - mean_squared_error: 1126.46 - ETA: 0s - loss: 1190.5440 - mean_squared_error: 1190.54 - ETA: 0s - loss: 1175.4843 - mean_squared_error: 1175.48 - ETA: 0s - loss: 1251.9603 - mean_squared_error: 1251.96 - ETA: 0s - loss: 1276.8615 - mean_squared_error: 1276.86 - ETA: 0s - loss: 1259.7652 - mean_squared_error: 1259.76 - ETA: 0s - loss: 1252.6244 - mean_squared_error: 1252.62 - ETA: 0s - loss: 1247.9769 - mean_squared_error: 1247.97 - ETA: 0s - loss: 1239.3643 - mean_squared_error: 1239.36 - ETA: 0s - loss: 1282.3215 - mean_squared_error: 1282.32 - ETA: 0s - loss: 1292.4511 - mean_squared_error: 1292.45 - ETA: 0s - loss: 1277.2452 - mean_squared_error: 1277.24 - ETA: 0s - loss: 1299.8965 - mean_squared_error: 1299.89 - ETA: 0s - loss: 1281.3325 - mean_squared_error: 1281.33 - ETA: 0s - loss: 1297.3979 - mean_squared_error: 1297.39 - ETA: 0s - loss: 1288.9461 - mean_squared_error: 1288.94 - ETA: 0s - loss: 1286.7187 - mean_squared_error: 1286.71 - ETA: 0s - loss: 1305.8419 - mean_squared_error: 1305.84 - ETA: 0s - loss: 1295.2512 - mean_squared_error: 1295.25 - ETA: 0s - loss: 1319.8313 - mean_squared_error: 1319.83 - 1s 228us/sample - loss: 1327.9733 - mean_squared_error: 1327.9730\n",
      "Epoch 7/100\n",
      "5409/5409 [==============================] - ETA: 1s - loss: 1813.5927 - mean_squared_error: 1813.59 - ETA: 1s - loss: 2236.7286 - mean_squared_error: 2236.72 - ETA: 1s - loss: 1936.3080 - mean_squared_error: 1936.30 - ETA: 1s - loss: 1698.8473 - mean_squared_error: 1698.84 - ETA: 0s - loss: 1597.7628 - mean_squared_error: 1597.76 - ETA: 0s - loss: 1506.7151 - mean_squared_error: 1506.71 - ETA: 0s - loss: 1456.4051 - mean_squared_error: 1456.40 - ETA: 0s - loss: 1499.0734 - mean_squared_error: 1499.07 - ETA: 0s - loss: 1510.7191 - mean_squared_error: 1510.71 - ETA: 0s - loss: 1503.6587 - mean_squared_error: 1503.65 - ETA: 0s - loss: 1464.5747 - mean_squared_error: 1464.57 - ETA: 0s - loss: 1449.9722 - mean_squared_error: 1449.97 - ETA: 0s - loss: 1441.3551 - mean_squared_error: 1441.35 - ETA: 0s - loss: 1416.7134 - mean_squared_error: 1416.71 - ETA: 0s - loss: 1417.4953 - mean_squared_error: 1417.49 - ETA: 0s - loss: 1415.8433 - mean_squared_error: 1415.84 - ETA: 0s - loss: 1393.8467 - mean_squared_error: 1393.84 - ETA: 0s - loss: 1399.1885 - mean_squared_error: 1399.18 - ETA: 0s - loss: 1375.2879 - mean_squared_error: 1375.28 - ETA: 0s - loss: 1365.7002 - mean_squared_error: 1365.70 - ETA: 0s - loss: 1353.8261 - mean_squared_error: 1353.82 - ETA: 0s - loss: 1333.0044 - mean_squared_error: 1333.00 - 1s 223us/sample - loss: 1325.6453 - mean_squared_error: 1325.6450\n",
      "Epoch 8/100\n",
      "5409/5409 [==============================] - ETA: 0s - loss: 662.2601 - mean_squared_error: 662.26 - ETA: 0s - loss: 1330.2985 - mean_squared_error: 1330.29 - ETA: 0s - loss: 1420.1080 - mean_squared_error: 1420.10 - ETA: 0s - loss: 1339.9058 - mean_squared_error: 1339.90 - ETA: 0s - loss: 1409.0470 - mean_squared_error: 1409.04 - ETA: 0s - loss: 1353.1390 - mean_squared_error: 1353.13 - ETA: 0s - loss: 1404.1093 - mean_squared_error: 1404.10 - ETA: 0s - loss: 1420.1846 - mean_squared_error: 1420.18 - ETA: 0s - loss: 1437.4659 - mean_squared_error: 1437.46 - ETA: 0s - loss: 1465.0826 - mean_squared_error: 1465.08 - ETA: 0s - loss: 1445.7240 - mean_squared_error: 1445.72 - ETA: 0s - loss: 1398.4707 - mean_squared_error: 1398.47 - ETA: 0s - loss: 1372.0807 - mean_squared_error: 1372.08 - ETA: 0s - loss: 1389.6665 - mean_squared_error: 1389.66 - ETA: 0s - loss: 1368.7643 - mean_squared_error: 1368.76 - ETA: 0s - loss: 1372.3564 - mean_squared_error: 1372.35 - ETA: 0s - loss: 1357.0144 - mean_squared_error: 1357.01 - ETA: 0s - loss: 1356.5643 - mean_squared_error: 1356.56 - ETA: 0s - loss: 1377.1179 - mean_squared_error: 1377.11 - ETA: 0s - loss: 1353.1438 - mean_squared_error: 1353.14 - ETA: 0s - loss: 1352.2914 - mean_squared_error: 1352.29 - ETA: 0s - loss: 1355.8156 - mean_squared_error: 1355.81 - ETA: 0s - loss: 1372.2001 - mean_squared_error: 1372.20 - 1s 230us/sample - loss: 1372.0812 - mean_squared_error: 1372.0813\n",
      "Epoch 9/100\n",
      "5409/5409 [==============================] - ETA: 0s - loss: 837.7565 - mean_squared_error: 837.75 - ETA: 1s - loss: 1267.2610 - mean_squared_error: 1267.26 - ETA: 1s - loss: 1348.5330 - mean_squared_error: 1348.53 - ETA: 0s - loss: 1258.0669 - mean_squared_error: 1258.06 - ETA: 1s - loss: 1255.7705 - mean_squared_error: 1255.77 - ETA: 1s - loss: 1259.3695 - mean_squared_error: 1259.36 - ETA: 0s - loss: 1235.5812 - mean_squared_error: 1235.58 - ETA: 0s - loss: 1206.2518 - mean_squared_error: 1206.25 - ETA: 0s - loss: 1258.3104 - mean_squared_error: 1258.31 - ETA: 0s - loss: 1307.4723 - mean_squared_error: 1307.47 - ETA: 0s - loss: 1297.3710 - mean_squared_error: 1297.37 - ETA: 0s - loss: 1296.0437 - mean_squared_error: 1296.04 - ETA: 0s - loss: 1274.3246 - mean_squared_error: 1274.32 - ETA: 0s - loss: 1268.7341 - mean_squared_error: 1268.73 - ETA: 0s - loss: 1273.3428 - mean_squared_error: 1273.34 - ETA: 0s - loss: 1301.4196 - mean_squared_error: 1301.41 - ETA: 0s - loss: 1305.0356 - mean_squared_error: 1305.03 - ETA: 0s - loss: 1308.4068 - mean_squared_error: 1308.40 - ETA: 0s - loss: 1303.6370 - mean_squared_error: 1303.63 - ETA: 0s - loss: 1329.2432 - mean_squared_error: 1329.24 - ETA: 0s - loss: 1317.1676 - mean_squared_error: 1317.16 - ETA: 0s - loss: 1320.0029 - mean_squared_error: 1320.00 - ETA: 0s - loss: 1320.9480 - mean_squared_error: 1320.94 - ETA: 0s - loss: 1320.2565 - mean_squared_error: 1320.25 - 1s 234us/sample - loss: 1322.4977 - mean_squared_error: 1322.4976\n",
      "Epoch 10/100\n",
      "5409/5409 [==============================] - ETA: 1s - loss: 1424.5454 - mean_squared_error: 1424.54 - ETA: 1s - loss: 1260.1239 - mean_squared_error: 1260.12 - ETA: 1s - loss: 1418.5879 - mean_squared_error: 1418.58 - ETA: 1s - loss: 1361.0081 - mean_squared_error: 1361.00 - ETA: 1s - loss: 1382.6085 - mean_squared_error: 1382.60 - ETA: 0s - loss: 1300.8898 - mean_squared_error: 1300.88 - ETA: 0s - loss: 1344.1137 - mean_squared_error: 1344.11 - ETA: 0s - loss: 1374.9617 - mean_squared_error: 1374.96 - ETA: 0s - loss: 1365.9495 - mean_squared_error: 1365.94 - ETA: 0s - loss: 1326.2002 - mean_squared_error: 1326.20 - ETA: 0s - loss: 1353.7392 - mean_squared_error: 1353.73 - ETA: 0s - loss: 1363.9350 - mean_squared_error: 1363.93 - ETA: 0s - loss: 1372.9128 - mean_squared_error: 1372.91 - ETA: 0s - loss: 1351.1720 - mean_squared_error: 1351.17 - ETA: 0s - loss: 1364.5848 - mean_squared_error: 1364.58 - ETA: 0s - loss: 1344.5837 - mean_squared_error: 1344.58 - ETA: 0s - loss: 1358.1471 - mean_squared_error: 1358.14 - ETA: 0s - loss: 1354.0339 - mean_squared_error: 1354.03 - ETA: 0s - loss: 1338.6843 - mean_squared_error: 1338.68 - ETA: 0s - loss: 1330.1423 - mean_squared_error: 1330.14 - ETA: 0s - loss: 1335.4277 - mean_squared_error: 1335.42 - ETA: 0s - loss: 1349.3048 - mean_squared_error: 1349.30 - ETA: 0s - loss: 1342.6162 - mean_squared_error: 1342.61 - 1s 229us/sample - loss: 1345.8126 - mean_squared_error: 1345.8126\n",
      "Epoch 11/100\n"
     ]
    },
    {
     "name": "stdout",
     "output_type": "stream",
     "text": [
      "5409/5409 [==============================] - ETA: 0s - loss: 522.5779 - mean_squared_error: 522.57 - ETA: 1s - loss: 1339.6073 - mean_squared_error: 1339.60 - ETA: 1s - loss: 1529.4688 - mean_squared_error: 1529.46 - ETA: 1s - loss: 1371.4376 - mean_squared_error: 1371.43 - ETA: 1s - loss: 1492.3503 - mean_squared_error: 1492.35 - ETA: 1s - loss: 1371.0986 - mean_squared_error: 1371.09 - ETA: 1s - loss: 1319.6486 - mean_squared_error: 1319.64 - ETA: 0s - loss: 1374.9948 - mean_squared_error: 1374.99 - ETA: 0s - loss: 1330.8056 - mean_squared_error: 1330.80 - ETA: 0s - loss: 1288.7434 - mean_squared_error: 1288.74 - ETA: 0s - loss: 1290.9106 - mean_squared_error: 1290.91 - ETA: 0s - loss: 1297.9576 - mean_squared_error: 1297.95 - ETA: 0s - loss: 1322.4106 - mean_squared_error: 1322.41 - ETA: 0s - loss: 1310.9612 - mean_squared_error: 1310.96 - ETA: 0s - loss: 1322.7247 - mean_squared_error: 1322.72 - ETA: 0s - loss: 1321.3990 - mean_squared_error: 1321.39 - ETA: 0s - loss: 1322.5559 - mean_squared_error: 1322.55 - ETA: 0s - loss: 1301.2507 - mean_squared_error: 1301.25 - ETA: 0s - loss: 1306.4278 - mean_squared_error: 1306.42 - ETA: 0s - loss: 1281.5573 - mean_squared_error: 1281.55 - ETA: 0s - loss: 1283.6724 - mean_squared_error: 1283.67 - ETA: 0s - loss: 1271.7229 - mean_squared_error: 1271.72 - ETA: 0s - loss: 1286.8072 - mean_squared_error: 1286.80 - ETA: 0s - loss: 1292.4103 - mean_squared_error: 1292.40 - 1s 245us/sample - loss: 1290.5676 - mean_squared_error: 1290.5671\n",
      "Epoch 12/100\n",
      "5409/5409 [==============================] - ETA: 1s - loss: 1178.8466 - mean_squared_error: 1178.84 - ETA: 1s - loss: 1531.1488 - mean_squared_error: 1531.14 - ETA: 1s - loss: 1479.0423 - mean_squared_error: 1479.04 - ETA: 1s - loss: 1551.9163 - mean_squared_error: 1551.91 - ETA: 1s - loss: 1537.6163 - mean_squared_error: 1537.61 - ETA: 1s - loss: 1501.0551 - mean_squared_error: 1501.05 - ETA: 1s - loss: 1545.8382 - mean_squared_error: 1545.83 - ETA: 1s - loss: 1573.2339 - mean_squared_error: 1573.23 - ETA: 1s - loss: 1514.6225 - mean_squared_error: 1514.62 - ETA: 0s - loss: 1476.8920 - mean_squared_error: 1476.89 - ETA: 0s - loss: 1435.1684 - mean_squared_error: 1435.16 - ETA: 0s - loss: 1410.6157 - mean_squared_error: 1410.61 - ETA: 0s - loss: 1422.7955 - mean_squared_error: 1422.79 - ETA: 0s - loss: 1431.7484 - mean_squared_error: 1431.74 - ETA: 0s - loss: 1431.6838 - mean_squared_error: 1431.68 - ETA: 0s - loss: 1424.2475 - mean_squared_error: 1424.24 - ETA: 0s - loss: 1383.7688 - mean_squared_error: 1383.76 - ETA: 0s - loss: 1370.7800 - mean_squared_error: 1370.77 - ETA: 0s - loss: 1358.6842 - mean_squared_error: 1358.68 - ETA: 0s - loss: 1359.4963 - mean_squared_error: 1359.49 - ETA: 0s - loss: 1345.3877 - mean_squared_error: 1345.38 - ETA: 0s - loss: 1325.3636 - mean_squared_error: 1325.36 - ETA: 0s - loss: 1334.4240 - mean_squared_error: 1334.42 - ETA: 0s - loss: 1326.5965 - mean_squared_error: 1326.59 - 1s 249us/sample - loss: 1340.7861 - mean_squared_error: 1340.7861\n",
      "Epoch 13/100\n",
      "5409/5409 [==============================] - ETA: 1s - loss: 1508.3839 - mean_squared_error: 1508.38 - ETA: 1s - loss: 1318.0591 - mean_squared_error: 1318.05 - ETA: 1s - loss: 1367.4956 - mean_squared_error: 1367.49 - ETA: 1s - loss: 1349.5184 - mean_squared_error: 1349.51 - ETA: 0s - loss: 1391.0623 - mean_squared_error: 1391.06 - ETA: 0s - loss: 1316.8784 - mean_squared_error: 1316.87 - ETA: 0s - loss: 1358.9336 - mean_squared_error: 1358.93 - ETA: 0s - loss: 1425.7103 - mean_squared_error: 1425.71 - ETA: 0s - loss: 1388.2238 - mean_squared_error: 1388.22 - ETA: 0s - loss: 1388.3705 - mean_squared_error: 1388.37 - ETA: 0s - loss: 1416.9834 - mean_squared_error: 1416.98 - ETA: 0s - loss: 1413.5340 - mean_squared_error: 1413.53 - ETA: 0s - loss: 1403.8162 - mean_squared_error: 1403.81 - ETA: 0s - loss: 1386.0338 - mean_squared_error: 1386.03 - ETA: 0s - loss: 1356.5636 - mean_squared_error: 1356.56 - ETA: 0s - loss: 1336.6211 - mean_squared_error: 1336.62 - ETA: 0s - loss: 1352.4305 - mean_squared_error: 1352.43 - ETA: 0s - loss: 1353.6427 - mean_squared_error: 1353.64 - ETA: 0s - loss: 1321.2482 - mean_squared_error: 1321.24 - ETA: 0s - loss: 1330.4870 - mean_squared_error: 1330.48 - ETA: 0s - loss: 1341.0981 - mean_squared_error: 1341.09 - ETA: 0s - loss: 1329.7644 - mean_squared_error: 1329.76 - 1s 223us/sample - loss: 1352.8062 - mean_squared_error: 1352.8063\n",
      "Epoch 14/100\n",
      "5409/5409 [==============================] - ETA: 1s - loss: 1694.4684 - mean_squared_error: 1694.46 - ETA: 1s - loss: 1175.9331 - mean_squared_error: 1175.93 - ETA: 1s - loss: 1072.7695 - mean_squared_error: 1072.76 - ETA: 0s - loss: 1153.7060 - mean_squared_error: 1153.70 - ETA: 0s - loss: 1132.6766 - mean_squared_error: 1132.67 - ETA: 0s - loss: 1152.6402 - mean_squared_error: 1152.64 - ETA: 0s - loss: 1142.0328 - mean_squared_error: 1142.03 - ETA: 0s - loss: 1177.4210 - mean_squared_error: 1177.42 - ETA: 0s - loss: 1147.0373 - mean_squared_error: 1147.03 - ETA: 0s - loss: 1215.4570 - mean_squared_error: 1215.45 - ETA: 0s - loss: 1247.4961 - mean_squared_error: 1247.49 - ETA: 0s - loss: 1242.2117 - mean_squared_error: 1242.21 - ETA: 0s - loss: 1241.1192 - mean_squared_error: 1241.11 - ETA: 0s - loss: 1228.1398 - mean_squared_error: 1228.13 - ETA: 0s - loss: 1227.0977 - mean_squared_error: 1227.09 - ETA: 0s - loss: 1215.4858 - mean_squared_error: 1215.48 - ETA: 0s - loss: 1230.8732 - mean_squared_error: 1230.87 - ETA: 0s - loss: 1222.5131 - mean_squared_error: 1222.51 - ETA: 0s - loss: 1259.8484 - mean_squared_error: 1259.84 - ETA: 0s - loss: 1248.2406 - mean_squared_error: 1248.24 - ETA: 0s - loss: 1259.8862 - mean_squared_error: 1259.88 - ETA: 0s - loss: 1303.3564 - mean_squared_error: 1303.35 - 1s 223us/sample - loss: 1303.2827 - mean_squared_error: 1303.2828\n",
      "Epoch 15/100\n",
      "5409/5409 [==============================] - ETA: 1s - loss: 1542.3225 - mean_squared_error: 1542.32 - ETA: 1s - loss: 1659.3442 - mean_squared_error: 1659.34 - ETA: 1s - loss: 1373.2721 - mean_squared_error: 1373.27 - ETA: 1s - loss: 1263.5151 - mean_squared_error: 1263.51 - ETA: 1s - loss: 1229.8095 - mean_squared_error: 1229.80 - ETA: 0s - loss: 1275.5027 - mean_squared_error: 1275.50 - ETA: 0s - loss: 1268.0740 - mean_squared_error: 1268.07 - ETA: 0s - loss: 1256.0762 - mean_squared_error: 1256.07 - ETA: 0s - loss: 1237.9721 - mean_squared_error: 1237.97 - ETA: 0s - loss: 1229.6356 - mean_squared_error: 1229.63 - ETA: 0s - loss: 1214.8843 - mean_squared_error: 1214.88 - ETA: 0s - loss: 1222.9638 - mean_squared_error: 1222.96 - ETA: 0s - loss: 1304.9746 - mean_squared_error: 1304.97 - ETA: 0s - loss: 1292.1280 - mean_squared_error: 1292.12 - ETA: 0s - loss: 1303.7937 - mean_squared_error: 1303.79 - ETA: 0s - loss: 1313.2292 - mean_squared_error: 1313.22 - ETA: 0s - loss: 1302.5692 - mean_squared_error: 1302.56 - ETA: 0s - loss: 1320.0638 - mean_squared_error: 1320.06 - ETA: 0s - loss: 1315.6092 - mean_squared_error: 1315.60 - ETA: 0s - loss: 1319.3373 - mean_squared_error: 1319.33 - ETA: 0s - loss: 1319.8000 - mean_squared_error: 1319.80 - ETA: 0s - loss: 1326.1678 - mean_squared_error: 1326.16 - ETA: 0s - loss: 1310.5718 - mean_squared_error: 1310.57 - ETA: 0s - loss: 1313.8453 - mean_squared_error: 1313.84 - ETA: 0s - loss: 1310.5971 - mean_squared_error: 1310.59 - 1s 250us/sample - loss: 1313.2533 - mean_squared_error: 1313.2531\n",
      "Epoch 16/100\n",
      "5409/5409 [==============================] - ETA: 1s - loss: 1460.2841 - mean_squared_error: 1460.28 - ETA: 1s - loss: 1500.7524 - mean_squared_error: 1500.75 - ETA: 1s - loss: 1556.3669 - mean_squared_error: 1556.36 - ETA: 1s - loss: 1596.5655 - mean_squared_error: 1596.56 - ETA: 1s - loss: 1506.5749 - mean_squared_error: 1506.57 - ETA: 1s - loss: 1571.9082 - mean_squared_error: 1571.90 - ETA: 1s - loss: 1511.7695 - mean_squared_error: 1511.76 - ETA: 1s - loss: 1449.4091 - mean_squared_error: 1449.40 - ETA: 1s - loss: 1441.1354 - mean_squared_error: 1441.13 - ETA: 1s - loss: 1379.1485 - mean_squared_error: 1379.14 - ETA: 0s - loss: 1352.4011 - mean_squared_error: 1352.40 - ETA: 0s - loss: 1333.7741 - mean_squared_error: 1333.77 - ETA: 0s - loss: 1376.3040 - mean_squared_error: 1376.30 - ETA: 0s - loss: 1378.6794 - mean_squared_error: 1378.67 - ETA: 0s - loss: 1349.5961 - mean_squared_error: 1349.59 - ETA: 0s - loss: 1385.0256 - mean_squared_error: 1385.02 - ETA: 0s - loss: 1373.0370 - mean_squared_error: 1373.03 - ETA: 0s - loss: 1364.5570 - mean_squared_error: 1364.55 - ETA: 0s - loss: 1334.6690 - mean_squared_error: 1334.66 - ETA: 0s - loss: 1333.2713 - mean_squared_error: 1333.27 - ETA: 0s - loss: 1339.3784 - mean_squared_error: 1339.37 - ETA: 0s - loss: 1325.7000 - mean_squared_error: 1325.70 - ETA: 0s - loss: 1335.3494 - mean_squared_error: 1335.34 - ETA: 0s - loss: 1331.2805 - mean_squared_error: 1331.28 - 1s 246us/sample - loss: 1319.6591 - mean_squared_error: 1319.6589\n",
      "Epoch 17/100\n",
      "5409/5409 [==============================] - ETA: 1s - loss: 1319.9005 - mean_squared_error: 1319.90 - ETA: 1s - loss: 2004.5411 - mean_squared_error: 2004.54 - ETA: 1s - loss: 1564.7408 - mean_squared_error: 1564.74 - ETA: 1s - loss: 1456.3211 - mean_squared_error: 1456.32 - ETA: 0s - loss: 1388.1050 - mean_squared_error: 1388.10 - ETA: 0s - loss: 1326.4243 - mean_squared_error: 1326.42 - ETA: 0s - loss: 1329.5701 - mean_squared_error: 1329.56 - ETA: 0s - loss: 1308.5205 - mean_squared_error: 1308.52 - ETA: 0s - loss: 1291.7804 - mean_squared_error: 1291.78 - ETA: 0s - loss: 1380.1425 - mean_squared_error: 1380.14 - ETA: 0s - loss: 1352.4903 - mean_squared_error: 1352.49 - ETA: 0s - loss: 1372.7504 - mean_squared_error: 1372.75 - ETA: 0s - loss: 1342.1049 - mean_squared_error: 1342.10 - ETA: 0s - loss: 1378.5223 - mean_squared_error: 1378.52 - ETA: 0s - loss: 1354.8456 - mean_squared_error: 1354.84 - ETA: 0s - loss: 1339.4644 - mean_squared_error: 1339.46 - ETA: 0s - loss: 1371.9555 - mean_squared_error: 1371.95 - ETA: 0s - loss: 1350.2577 - mean_squared_error: 1350.25 - ETA: 0s - loss: 1342.4604 - mean_squared_error: 1342.46 - ETA: 0s - loss: 1335.5032 - mean_squared_error: 1335.50 - ETA: 0s - loss: 1311.9924 - mean_squared_error: 1311.99 - ETA: 0s - loss: 1301.0741 - mean_squared_error: 1301.07 - 1s 226us/sample - loss: 1304.2217 - mean_squared_error: 1304.2216\n",
      "Epoch 18/100\n",
      "5409/5409 [==============================] - ETA: 1s - loss: 1931.4951 - mean_squared_error: 1931.49 - ETA: 1s - loss: 1368.0845 - mean_squared_error: 1368.08 - ETA: 1s - loss: 1312.1279 - mean_squared_error: 1312.12 - ETA: 1s - loss: 1439.4823 - mean_squared_error: 1439.48 - ETA: 1s - loss: 1387.9325 - mean_squared_error: 1387.93 - ETA: 1s - loss: 1302.8576 - mean_squared_error: 1302.85 - ETA: 1s - loss: 1301.9447 - mean_squared_error: 1301.94 - ETA: 0s - loss: 1258.7532 - mean_squared_error: 1258.75 - ETA: 0s - loss: 1282.8179 - mean_squared_error: 1282.81 - ETA: 0s - loss: 1272.9842 - mean_squared_error: 1272.98 - ETA: 0s - loss: 1283.1953 - mean_squared_error: 1283.19 - ETA: 0s - loss: 1274.1027 - mean_squared_error: 1274.10 - ETA: 0s - loss: 1282.8362 - mean_squared_error: 1282.83 - ETA: 0s - loss: 1279.8048 - mean_squared_error: 1279.80 - ETA: 0s - loss: 1277.7628 - mean_squared_error: 1277.76 - ETA: 0s - loss: 1259.1786 - mean_squared_error: 1259.17 - ETA: 0s - loss: 1265.0505 - mean_squared_error: 1265.05 - ETA: 0s - loss: 1245.4677 - mean_squared_error: 1245.46 - ETA: 0s - loss: 1256.3324 - mean_squared_error: 1256.33 - ETA: 0s - loss: 1263.1957 - mean_squared_error: 1263.19 - ETA: 0s - loss: 1270.4650 - mean_squared_error: 1270.46 - ETA: 0s - loss: 1271.3656 - mean_squared_error: 1271.36 - ETA: 0s - loss: 1270.7753 - mean_squared_error: 1270.77 - ETA: 0s - loss: 1266.6630 - mean_squared_error: 1266.66 - ETA: 0s - loss: 1266.2243 - mean_squared_error: 1266.22 - 1s 254us/sample - loss: 1268.8319 - mean_squared_error: 1268.8315\n",
      "Epoch 19/100\n",
      "5409/5409 [==============================] - ETA: 0s - loss: 1141.3109 - mean_squared_error: 1141.31 - ETA: 1s - loss: 1254.0531 - mean_squared_error: 1254.05 - ETA: 1s - loss: 1256.8003 - mean_squared_error: 1256.80 - ETA: 1s - loss: 1188.0582 - mean_squared_error: 1188.05 - ETA: 1s - loss: 1204.1843 - mean_squared_error: 1204.18 - ETA: 1s - loss: 1187.6711 - mean_squared_error: 1187.67 - ETA: 0s - loss: 1190.3891 - mean_squared_error: 1190.38 - ETA: 0s - loss: 1201.1082 - mean_squared_error: 1201.10 - ETA: 0s - loss: 1236.1543 - mean_squared_error: 1236.15 - ETA: 0s - loss: 1287.9210 - mean_squared_error: 1287.92 - ETA: 0s - loss: 1277.5057 - mean_squared_error: 1277.50 - ETA: 0s - loss: 1265.8962 - mean_squared_error: 1265.89 - ETA: 0s - loss: 1250.7908 - mean_squared_error: 1250.79 - ETA: 0s - loss: 1230.8813 - mean_squared_error: 1230.88 - ETA: 0s - loss: 1230.9176 - mean_squared_error: 1230.91 - ETA: 0s - loss: 1221.2045 - mean_squared_error: 1221.20 - ETA: 0s - loss: 1218.6061 - mean_squared_error: 1218.60 - ETA: 0s - loss: 1246.2176 - mean_squared_error: 1246.21 - ETA: 0s - loss: 1237.5673 - mean_squared_error: 1237.56 - ETA: 0s - loss: 1261.7663 - mean_squared_error: 1261.76 - ETA: 0s - loss: 1269.9076 - mean_squared_error: 1269.90 - ETA: 0s - loss: 1261.0698 - mean_squared_error: 1261.06 - ETA: 0s - loss: 1269.1166 - mean_squared_error: 1269.11 - ETA: 0s - loss: 1260.3787 - mean_squared_error: 1260.37 - 1s 242us/sample - loss: 1259.4509 - mean_squared_error: 1259.4509\n",
      "Epoch 20/100\n",
      "5409/5409 [==============================] - ETA: 1s - loss: 916.0773 - mean_squared_error: 916.07 - ETA: 1s - loss: 1373.1540 - mean_squared_error: 1373.15 - ETA: 1s - loss: 1324.3798 - mean_squared_error: 1324.37 - ETA: 1s - loss: 1255.9994 - mean_squared_error: 1255.99 - ETA: 1s - loss: 1270.1043 - mean_squared_error: 1270.10 - ETA: 0s - loss: 1260.7094 - mean_squared_error: 1260.70 - ETA: 0s - loss: 1264.4259 - mean_squared_error: 1264.42 - ETA: 0s - loss: 1266.6905 - mean_squared_error: 1266.69 - ETA: 0s - loss: 1319.5672 - mean_squared_error: 1319.56 - ETA: 0s - loss: 1279.4254 - mean_squared_error: 1279.42 - ETA: 0s - loss: 1288.1645 - mean_squared_error: 1288.16 - ETA: 0s - loss: 1290.6525 - mean_squared_error: 1290.65 - ETA: 0s - loss: 1322.2787 - mean_squared_error: 1322.27 - ETA: 0s - loss: 1296.6980 - mean_squared_error: 1296.69 - ETA: 0s - loss: 1284.3791 - mean_squared_error: 1284.37 - ETA: 0s - loss: 1292.9452 - mean_squared_error: 1292.94 - ETA: 0s - loss: 1290.0635 - mean_squared_error: 1290.06 - ETA: 0s - loss: 1288.0400 - mean_squared_error: 1288.04 - ETA: 0s - loss: 1269.5273 - mean_squared_error: 1269.52 - ETA: 0s - loss: 1251.1687 - mean_squared_error: 1251.16 - ETA: 0s - loss: 1239.6442 - mean_squared_error: 1239.64 - ETA: 0s - loss: 1249.3055 - mean_squared_error: 1249.30 - 1s 226us/sample - loss: 1260.9553 - mean_squared_error: 1260.9552\n",
      "Epoch 21/100\n"
     ]
    },
    {
     "name": "stdout",
     "output_type": "stream",
     "text": [
      "5409/5409 [==============================] - ETA: 1s - loss: 975.9121 - mean_squared_error: 975.91 - ETA: 1s - loss: 869.1976 - mean_squared_error: 869.19 - ETA: 1s - loss: 909.4079 - mean_squared_error: 909.40 - ETA: 1s - loss: 1113.9113 - mean_squared_error: 1113.91 - ETA: 1s - loss: 1080.4508 - mean_squared_error: 1080.45 - ETA: 1s - loss: 1185.8500 - mean_squared_error: 1185.84 - ETA: 0s - loss: 1193.6289 - mean_squared_error: 1193.62 - ETA: 0s - loss: 1198.9958 - mean_squared_error: 1198.99 - ETA: 0s - loss: 1176.0750 - mean_squared_error: 1176.07 - ETA: 0s - loss: 1192.0859 - mean_squared_error: 1192.08 - ETA: 0s - loss: 1195.3663 - mean_squared_error: 1195.36 - ETA: 0s - loss: 1178.8029 - mean_squared_error: 1178.80 - ETA: 0s - loss: 1158.8827 - mean_squared_error: 1158.88 - ETA: 0s - loss: 1156.5416 - mean_squared_error: 1156.54 - ETA: 0s - loss: 1168.8673 - mean_squared_error: 1168.86 - ETA: 0s - loss: 1185.1359 - mean_squared_error: 1185.13 - ETA: 0s - loss: 1199.2854 - mean_squared_error: 1199.28 - ETA: 0s - loss: 1184.1540 - mean_squared_error: 1184.15 - ETA: 0s - loss: 1187.1931 - mean_squared_error: 1187.19 - ETA: 0s - loss: 1210.6794 - mean_squared_error: 1210.67 - ETA: 0s - loss: 1219.2704 - mean_squared_error: 1219.27 - ETA: 0s - loss: 1240.2148 - mean_squared_error: 1240.21 - ETA: 0s - loss: 1251.9711 - mean_squared_error: 1251.97 - 1s 226us/sample - loss: 1253.5629 - mean_squared_error: 1253.5630\n",
      "Epoch 22/100\n",
      "5409/5409 [==============================] - ETA: 1s - loss: 1622.2512 - mean_squared_error: 1622.25 - ETA: 1s - loss: 1183.6815 - mean_squared_error: 1183.68 - ETA: 1s - loss: 1245.7740 - mean_squared_error: 1245.77 - ETA: 0s - loss: 1218.0597 - mean_squared_error: 1218.05 - ETA: 0s - loss: 1232.2163 - mean_squared_error: 1232.21 - ETA: 0s - loss: 1284.1343 - mean_squared_error: 1284.13 - ETA: 0s - loss: 1285.2466 - mean_squared_error: 1285.24 - ETA: 0s - loss: 1273.3648 - mean_squared_error: 1273.36 - ETA: 0s - loss: 1306.3867 - mean_squared_error: 1306.38 - ETA: 0s - loss: 1319.9404 - mean_squared_error: 1319.94 - ETA: 0s - loss: 1354.3569 - mean_squared_error: 1354.35 - ETA: 0s - loss: 1333.6579 - mean_squared_error: 1333.65 - ETA: 0s - loss: 1342.9534 - mean_squared_error: 1342.95 - ETA: 0s - loss: 1313.5142 - mean_squared_error: 1313.51 - ETA: 0s - loss: 1318.0933 - mean_squared_error: 1318.09 - ETA: 0s - loss: 1311.4091 - mean_squared_error: 1311.40 - ETA: 0s - loss: 1304.4047 - mean_squared_error: 1304.40 - ETA: 0s - loss: 1280.6463 - mean_squared_error: 1280.64 - ETA: 0s - loss: 1280.2914 - mean_squared_error: 1280.29 - ETA: 0s - loss: 1270.4287 - mean_squared_error: 1270.42 - ETA: 0s - loss: 1247.3360 - mean_squared_error: 1247.33 - ETA: 0s - loss: 1256.9741 - mean_squared_error: 1256.97 - ETA: 0s - loss: 1253.1490 - mean_squared_error: 1253.14 - 1s 231us/sample - loss: 1259.5177 - mean_squared_error: 1259.5177\n",
      "Epoch 23/100\n",
      "5409/5409 [==============================] - ETA: 1s - loss: 658.0485 - mean_squared_error: 658.04 - ETA: 3s - loss: 677.4159 - mean_squared_error: 677.41 - ETA: 2s - loss: 1068.5571 - mean_squared_error: 1068.55 - ETA: 1s - loss: 1136.7100 - mean_squared_error: 1136.71 - ETA: 1s - loss: 1381.3513 - mean_squared_error: 1381.35 - ETA: 1s - loss: 1312.4515 - mean_squared_error: 1312.45 - ETA: 1s - loss: 1321.7973 - mean_squared_error: 1321.79 - ETA: 1s - loss: 1317.3097 - mean_squared_error: 1317.30 - ETA: 1s - loss: 1413.3946 - mean_squared_error: 1413.39 - ETA: 1s - loss: 1390.6741 - mean_squared_error: 1390.67 - ETA: 0s - loss: 1359.3215 - mean_squared_error: 1359.32 - ETA: 0s - loss: 1352.9546 - mean_squared_error: 1352.95 - ETA: 0s - loss: 1326.1660 - mean_squared_error: 1326.16 - ETA: 0s - loss: 1341.8901 - mean_squared_error: 1341.88 - ETA: 0s - loss: 1351.6545 - mean_squared_error: 1351.65 - ETA: 0s - loss: 1340.6863 - mean_squared_error: 1340.68 - ETA: 0s - loss: 1337.9179 - mean_squared_error: 1337.91 - ETA: 0s - loss: 1318.9634 - mean_squared_error: 1318.96 - ETA: 0s - loss: 1307.2041 - mean_squared_error: 1307.20 - ETA: 0s - loss: 1299.1806 - mean_squared_error: 1299.18 - ETA: 0s - loss: 1287.0438 - mean_squared_error: 1287.04 - ETA: 0s - loss: 1280.8375 - mean_squared_error: 1280.83 - 1s 228us/sample - loss: 1286.6940 - mean_squared_error: 1286.6937\n",
      "Epoch 24/100\n",
      "5409/5409 [==============================] - ETA: 0s - loss: 1326.1173 - mean_squared_error: 1326.11 - ETA: 0s - loss: 1228.2318 - mean_squared_error: 1228.23 - ETA: 0s - loss: 1399.0357 - mean_squared_error: 1399.03 - ETA: 0s - loss: 1315.4579 - mean_squared_error: 1315.45 - ETA: 0s - loss: 1313.8903 - mean_squared_error: 1313.89 - ETA: 0s - loss: 1290.1789 - mean_squared_error: 1290.17 - ETA: 0s - loss: 1205.2339 - mean_squared_error: 1205.23 - ETA: 0s - loss: 1251.4941 - mean_squared_error: 1251.49 - ETA: 0s - loss: 1277.3276 - mean_squared_error: 1277.32 - ETA: 0s - loss: 1263.3415 - mean_squared_error: 1263.34 - ETA: 0s - loss: 1228.8983 - mean_squared_error: 1228.89 - ETA: 0s - loss: 1259.6623 - mean_squared_error: 1259.66 - ETA: 0s - loss: 1256.9399 - mean_squared_error: 1256.93 - ETA: 0s - loss: 1254.8103 - mean_squared_error: 1254.81 - ETA: 0s - loss: 1255.8464 - mean_squared_error: 1255.84 - ETA: 0s - loss: 1258.5398 - mean_squared_error: 1258.53 - ETA: 0s - loss: 1259.6827 - mean_squared_error: 1259.68 - ETA: 0s - loss: 1249.9104 - mean_squared_error: 1249.91 - 1s 178us/sample - loss: 1248.9617 - mean_squared_error: 1248.9618\n",
      "Epoch 25/100\n",
      "5409/5409 [==============================] - ETA: 2s - loss: 614.7736 - mean_squared_error: 614.77 - ETA: 1s - loss: 1097.6747 - mean_squared_error: 1097.67 - ETA: 0s - loss: 1076.3820 - mean_squared_error: 1076.38 - ETA: 0s - loss: 1203.4030 - mean_squared_error: 1203.40 - ETA: 0s - loss: 1205.2441 - mean_squared_error: 1205.24 - ETA: 0s - loss: 1255.7956 - mean_squared_error: 1255.79 - ETA: 0s - loss: 1209.9156 - mean_squared_error: 1209.91 - ETA: 0s - loss: 1231.1495 - mean_squared_error: 1231.14 - ETA: 0s - loss: 1195.4255 - mean_squared_error: 1195.42 - ETA: 0s - loss: 1250.0710 - mean_squared_error: 1250.07 - ETA: 0s - loss: 1243.5499 - mean_squared_error: 1243.54 - ETA: 0s - loss: 1232.6957 - mean_squared_error: 1232.69 - ETA: 0s - loss: 1238.4360 - mean_squared_error: 1238.43 - ETA: 0s - loss: 1248.2499 - mean_squared_error: 1248.25 - ETA: 0s - loss: 1251.7976 - mean_squared_error: 1251.79 - ETA: 0s - loss: 1252.1056 - mean_squared_error: 1252.10 - ETA: 0s - loss: 1246.8841 - mean_squared_error: 1246.88 - ETA: 0s - loss: 1257.6564 - mean_squared_error: 1257.65 - ETA: 0s - loss: 1262.0390 - mean_squared_error: 1262.03 - 1s 187us/sample - loss: 1264.3484 - mean_squared_error: 1264.3486\n",
      "Epoch 26/100\n",
      "5409/5409 [==============================] - ETA: 0s - loss: 1037.1028 - mean_squared_error: 1037.10 - ETA: 0s - loss: 1540.8956 - mean_squared_error: 1540.89 - ETA: 0s - loss: 1310.5208 - mean_squared_error: 1310.52 - ETA: 0s - loss: 1210.1139 - mean_squared_error: 1210.11 - ETA: 0s - loss: 1211.6662 - mean_squared_error: 1211.66 - ETA: 0s - loss: 1248.9045 - mean_squared_error: 1248.90 - ETA: 0s - loss: 1221.1511 - mean_squared_error: 1221.15 - ETA: 0s - loss: 1262.9751 - mean_squared_error: 1262.97 - ETA: 0s - loss: 1237.6245 - mean_squared_error: 1237.62 - ETA: 0s - loss: 1240.8521 - mean_squared_error: 1240.85 - ETA: 0s - loss: 1232.4927 - mean_squared_error: 1232.49 - ETA: 0s - loss: 1235.7061 - mean_squared_error: 1235.70 - ETA: 0s - loss: 1216.0652 - mean_squared_error: 1216.06 - ETA: 0s - loss: 1231.9593 - mean_squared_error: 1231.95 - ETA: 0s - loss: 1243.2823 - mean_squared_error: 1243.28 - ETA: 0s - loss: 1234.2787 - mean_squared_error: 1234.27 - ETA: 0s - loss: 1265.5507 - mean_squared_error: 1265.55 - ETA: 0s - loss: 1250.2409 - mean_squared_error: 1250.24 - 1s 178us/sample - loss: 1276.7427 - mean_squared_error: 1276.7428\n",
      "Epoch 27/100\n",
      "5409/5409 [==============================] - ETA: 0s - loss: 1316.7295 - mean_squared_error: 1316.72 - ETA: 0s - loss: 1126.9094 - mean_squared_error: 1126.90 - ETA: 0s - loss: 1227.3080 - mean_squared_error: 1227.30 - ETA: 0s - loss: 1180.9211 - mean_squared_error: 1180.92 - ETA: 0s - loss: 1163.2660 - mean_squared_error: 1163.26 - ETA: 0s - loss: 1159.3685 - mean_squared_error: 1159.36 - ETA: 0s - loss: 1214.8340 - mean_squared_error: 1214.83 - ETA: 0s - loss: 1153.6033 - mean_squared_error: 1153.60 - ETA: 0s - loss: 1122.4804 - mean_squared_error: 1122.48 - ETA: 0s - loss: 1155.1604 - mean_squared_error: 1155.16 - ETA: 0s - loss: 1171.2996 - mean_squared_error: 1171.29 - ETA: 0s - loss: 1160.6638 - mean_squared_error: 1160.66 - ETA: 0s - loss: 1196.8177 - mean_squared_error: 1196.81 - ETA: 0s - loss: 1231.5780 - mean_squared_error: 1231.57 - ETA: 0s - loss: 1233.4808 - mean_squared_error: 1233.48 - ETA: 0s - loss: 1248.7600 - mean_squared_error: 1248.75 - ETA: 0s - loss: 1248.3718 - mean_squared_error: 1248.37 - 1s 171us/sample - loss: 1255.0809 - mean_squared_error: 1255.0807\n",
      "Epoch 28/100\n",
      "5409/5409 [==============================] - ETA: 0s - loss: 2924.5320 - mean_squared_error: 2924.53 - ETA: 0s - loss: 1740.3809 - mean_squared_error: 1740.38 - ETA: 0s - loss: 1524.2051 - mean_squared_error: 1524.20 - ETA: 0s - loss: 1344.6570 - mean_squared_error: 1344.65 - ETA: 0s - loss: 1280.7819 - mean_squared_error: 1280.78 - ETA: 0s - loss: 1181.6805 - mean_squared_error: 1181.68 - ETA: 0s - loss: 1219.4075 - mean_squared_error: 1219.40 - ETA: 0s - loss: 1170.6688 - mean_squared_error: 1170.66 - ETA: 0s - loss: 1170.4719 - mean_squared_error: 1170.47 - ETA: 0s - loss: 1223.5262 - mean_squared_error: 1223.52 - ETA: 0s - loss: 1223.0260 - mean_squared_error: 1223.02 - ETA: 0s - loss: 1249.4216 - mean_squared_error: 1249.42 - ETA: 0s - loss: 1241.7274 - mean_squared_error: 1241.72 - ETA: 0s - loss: 1261.6136 - mean_squared_error: 1261.61 - ETA: 0s - loss: 1250.7820 - mean_squared_error: 1250.78 - ETA: 0s - loss: 1265.8493 - mean_squared_error: 1265.84 - ETA: 0s - loss: 1262.9697 - mean_squared_error: 1262.97 - ETA: 0s - loss: 1254.7007 - mean_squared_error: 1254.70 - 1s 176us/sample - loss: 1255.8185 - mean_squared_error: 1255.8188\n",
      "Epoch 29/100\n",
      "5409/5409 [==============================] - ETA: 1s - loss: 1823.7484 - mean_squared_error: 1823.74 - ETA: 0s - loss: 1241.6040 - mean_squared_error: 1241.60 - ETA: 0s - loss: 1183.7011 - mean_squared_error: 1183.70 - ETA: 0s - loss: 1204.9690 - mean_squared_error: 1204.96 - ETA: 0s - loss: 1183.6568 - mean_squared_error: 1183.65 - ETA: 0s - loss: 1168.7237 - mean_squared_error: 1168.72 - ETA: 0s - loss: 1245.4733 - mean_squared_error: 1245.47 - ETA: 0s - loss: 1270.0213 - mean_squared_error: 1270.02 - ETA: 0s - loss: 1267.0283 - mean_squared_error: 1267.02 - ETA: 0s - loss: 1277.3321 - mean_squared_error: 1277.33 - ETA: 0s - loss: 1269.8360 - mean_squared_error: 1269.83 - ETA: 0s - loss: 1249.6022 - mean_squared_error: 1249.60 - ETA: 0s - loss: 1231.5832 - mean_squared_error: 1231.58 - ETA: 0s - loss: 1222.1086 - mean_squared_error: 1222.10 - ETA: 0s - loss: 1245.0969 - mean_squared_error: 1245.09 - ETA: 0s - loss: 1239.0276 - mean_squared_error: 1239.02 - ETA: 0s - loss: 1248.3925 - mean_squared_error: 1248.39 - ETA: 0s - loss: 1259.4122 - mean_squared_error: 1259.41 - 1s 178us/sample - loss: 1257.6950 - mean_squared_error: 1257.6949\n",
      "Epoch 30/100\n",
      "5409/5409 [==============================] - ETA: 0s - loss: 902.2678 - mean_squared_error: 902.26 - ETA: 0s - loss: 1244.6115 - mean_squared_error: 1244.61 - ETA: 0s - loss: 1407.4846 - mean_squared_error: 1407.48 - ETA: 0s - loss: 1259.5007 - mean_squared_error: 1259.50 - ETA: 0s - loss: 1195.2806 - mean_squared_error: 1195.28 - ETA: 0s - loss: 1164.8279 - mean_squared_error: 1164.82 - ETA: 0s - loss: 1305.7293 - mean_squared_error: 1305.72 - ETA: 0s - loss: 1304.5095 - mean_squared_error: 1304.50 - ETA: 0s - loss: 1276.4427 - mean_squared_error: 1276.44 - ETA: 0s - loss: 1259.1226 - mean_squared_error: 1259.12 - ETA: 0s - loss: 1231.7781 - mean_squared_error: 1231.77 - ETA: 0s - loss: 1217.6830 - mean_squared_error: 1217.68 - ETA: 0s - loss: 1210.3696 - mean_squared_error: 1210.36 - ETA: 0s - loss: 1219.1671 - mean_squared_error: 1219.16 - ETA: 0s - loss: 1233.2772 - mean_squared_error: 1233.27 - ETA: 0s - loss: 1236.6839 - mean_squared_error: 1236.68 - ETA: 0s - loss: 1225.8799 - mean_squared_error: 1225.87 - 1s 171us/sample - loss: 1231.8900 - mean_squared_error: 1231.8900\n",
      "Epoch 31/100\n",
      "5409/5409 [==============================] - ETA: 0s - loss: 732.7357 - mean_squared_error: 732.73 - ETA: 0s - loss: 885.3035 - mean_squared_error: 885.30 - ETA: 0s - loss: 988.7940 - mean_squared_error: 988.79 - ETA: 0s - loss: 1126.8138 - mean_squared_error: 1126.81 - ETA: 0s - loss: 1142.6682 - mean_squared_error: 1142.66 - ETA: 0s - loss: 1127.6611 - mean_squared_error: 1127.66 - ETA: 0s - loss: 1184.5753 - mean_squared_error: 1184.57 - ETA: 0s - loss: 1224.6713 - mean_squared_error: 1224.67 - ETA: 0s - loss: 1240.4115 - mean_squared_error: 1240.41 - ETA: 0s - loss: 1230.5350 - mean_squared_error: 1230.53 - ETA: 0s - loss: 1236.6059 - mean_squared_error: 1236.60 - ETA: 0s - loss: 1241.8809 - mean_squared_error: 1241.88 - ETA: 0s - loss: 1271.9451 - mean_squared_error: 1271.94 - ETA: 0s - loss: 1251.0140 - mean_squared_error: 1251.01 - ETA: 0s - loss: 1220.7208 - mean_squared_error: 1220.72 - ETA: 0s - loss: 1236.8139 - mean_squared_error: 1236.81 - ETA: 0s - loss: 1260.8089 - mean_squared_error: 1260.80 - ETA: 0s - loss: 1242.1462 - mean_squared_error: 1242.14 - 1s 173us/sample - loss: 1240.4862 - mean_squared_error: 1240.4862\n",
      "Epoch 32/100\n",
      "5409/5409 [==============================] - ETA: 0s - loss: 1349.3180 - mean_squared_error: 1349.31 - ETA: 0s - loss: 1363.9855 - mean_squared_error: 1363.98 - ETA: 0s - loss: 1292.9719 - mean_squared_error: 1292.97 - ETA: 0s - loss: 1276.9148 - mean_squared_error: 1276.91 - ETA: 0s - loss: 1232.4864 - mean_squared_error: 1232.48 - ETA: 0s - loss: 1327.4629 - mean_squared_error: 1327.46 - ETA: 0s - loss: 1344.0264 - mean_squared_error: 1344.02 - ETA: 0s - loss: 1395.2805 - mean_squared_error: 1395.28 - ETA: 0s - loss: 1359.4691 - mean_squared_error: 1359.46 - ETA: 0s - loss: 1383.6333 - mean_squared_error: 1383.63 - ETA: 0s - loss: 1345.2784 - mean_squared_error: 1345.27 - ETA: 0s - loss: 1367.4284 - mean_squared_error: 1367.42 - ETA: 0s - loss: 1365.6012 - mean_squared_error: 1365.60 - ETA: 0s - loss: 1338.9310 - mean_squared_error: 1338.93 - ETA: 0s - loss: 1344.3996 - mean_squared_error: 1344.40 - ETA: 0s - loss: 1319.2335 - mean_squared_error: 1319.23 - ETA: 0s - loss: 1319.9062 - mean_squared_error: 1319.90 - ETA: 0s - loss: 1308.0924 - mean_squared_error: 1308.09 - ETA: 0s - loss: 1299.7188 - mean_squared_error: 1299.71 - 1s 194us/sample - loss: 1284.4532 - mean_squared_error: 1284.4537\n",
      "Epoch 33/100\n",
      "5409/5409 [==============================] - ETA: 1s - loss: 2057.6226 - mean_squared_error: 2057.62 - ETA: 0s - loss: 1521.2518 - mean_squared_error: 1521.25 - ETA: 0s - loss: 1356.0891 - mean_squared_error: 1356.08 - ETA: 0s - loss: 1461.5310 - mean_squared_error: 1461.53 - ETA: 0s - loss: 1415.7924 - mean_squared_error: 1415.79 - ETA: 0s - loss: 1464.7295 - mean_squared_error: 1464.72 - ETA: 0s - loss: 1452.3766 - mean_squared_error: 1452.37 - ETA: 0s - loss: 1432.4920 - mean_squared_error: 1432.49 - ETA: 0s - loss: 1380.9337 - mean_squared_error: 1380.93 - ETA: 0s - loss: 1330.0180 - mean_squared_error: 1330.01 - ETA: 0s - loss: 1318.1707 - mean_squared_error: 1318.17 - ETA: 0s - loss: 1297.2578 - mean_squared_error: 1297.25 - ETA: 0s - loss: 1280.4507 - mean_squared_error: 1280.45 - ETA: 0s - loss: 1264.6281 - mean_squared_error: 1264.62 - ETA: 0s - loss: 1269.3393 - mean_squared_error: 1269.33 - ETA: 0s - loss: 1274.2059 - mean_squared_error: 1274.20 - ETA: 0s - loss: 1271.7177 - mean_squared_error: 1271.71 - ETA: 0s - loss: 1266.9252 - mean_squared_error: 1266.92 - ETA: 0s - loss: 1240.6040 - mean_squared_error: 1240.60 - 1s 195us/sample - loss: 1230.3243 - mean_squared_error: 1230.3242\n",
      "Epoch 34/100\n"
     ]
    },
    {
     "name": "stdout",
     "output_type": "stream",
     "text": [
      "5409/5409 [==============================] - ETA: 2s - loss: 1018.1309 - mean_squared_error: 1018.13 - ETA: 1s - loss: 1220.6711 - mean_squared_error: 1220.67 - ETA: 0s - loss: 1070.9447 - mean_squared_error: 1070.94 - ETA: 0s - loss: 1020.7733 - mean_squared_error: 1020.77 - ETA: 0s - loss: 1069.1827 - mean_squared_error: 1069.18 - ETA: 0s - loss: 1149.3367 - mean_squared_error: 1149.33 - ETA: 0s - loss: 1138.2875 - mean_squared_error: 1138.28 - ETA: 0s - loss: 1183.8222 - mean_squared_error: 1183.82 - ETA: 0s - loss: 1198.3635 - mean_squared_error: 1198.36 - ETA: 0s - loss: 1226.6122 - mean_squared_error: 1226.61 - ETA: 0s - loss: 1232.2262 - mean_squared_error: 1232.22 - ETA: 0s - loss: 1196.2572 - mean_squared_error: 1196.25 - ETA: 0s - loss: 1229.0672 - mean_squared_error: 1229.06 - ETA: 0s - loss: 1259.9836 - mean_squared_error: 1259.98 - ETA: 0s - loss: 1277.7952 - mean_squared_error: 1277.79 - ETA: 0s - loss: 1247.4684 - mean_squared_error: 1247.46 - ETA: 0s - loss: 1259.2494 - mean_squared_error: 1259.24 - ETA: 0s - loss: 1242.3472 - mean_squared_error: 1242.34 - ETA: 0s - loss: 1241.6250 - mean_squared_error: 1241.62 - 1s 188us/sample - loss: 1238.3133 - mean_squared_error: 1238.3132\n",
      "Epoch 35/100\n",
      "5409/5409 [==============================] - ETA: 1s - loss: 1436.8097 - mean_squared_error: 1436.80 - ETA: 0s - loss: 1321.6475 - mean_squared_error: 1321.64 - ETA: 0s - loss: 1282.3162 - mean_squared_error: 1282.31 - ETA: 0s - loss: 1213.4911 - mean_squared_error: 1213.49 - ETA: 0s - loss: 1163.2666 - mean_squared_error: 1163.26 - ETA: 0s - loss: 1167.0943 - mean_squared_error: 1167.09 - ETA: 0s - loss: 1154.0540 - mean_squared_error: 1154.05 - ETA: 0s - loss: 1192.9814 - mean_squared_error: 1192.98 - ETA: 0s - loss: 1252.2464 - mean_squared_error: 1252.24 - ETA: 0s - loss: 1226.7150 - mean_squared_error: 1226.71 - ETA: 0s - loss: 1216.6132 - mean_squared_error: 1216.61 - ETA: 0s - loss: 1245.4393 - mean_squared_error: 1245.43 - ETA: 0s - loss: 1263.8710 - mean_squared_error: 1263.87 - ETA: 0s - loss: 1256.6431 - mean_squared_error: 1256.64 - ETA: 0s - loss: 1232.7230 - mean_squared_error: 1232.72 - ETA: 0s - loss: 1234.5319 - mean_squared_error: 1234.53 - ETA: 0s - loss: 1223.1340 - mean_squared_error: 1223.13 - ETA: 0s - loss: 1217.5786 - mean_squared_error: 1217.57 - 1s 175us/sample - loss: 1225.4625 - mean_squared_error: 1225.4624\n",
      "Epoch 36/100\n",
      "5409/5409 [==============================] - ETA: 1s - loss: 1171.1173 - mean_squared_error: 1171.11 - ETA: 0s - loss: 1339.6753 - mean_squared_error: 1339.67 - ETA: 0s - loss: 1258.3083 - mean_squared_error: 1258.30 - ETA: 0s - loss: 1194.5993 - mean_squared_error: 1194.59 - ETA: 0s - loss: 1139.6543 - mean_squared_error: 1139.65 - ETA: 0s - loss: 1120.6490 - mean_squared_error: 1120.64 - ETA: 0s - loss: 1129.8757 - mean_squared_error: 1129.87 - ETA: 0s - loss: 1137.3431 - mean_squared_error: 1137.34 - ETA: 0s - loss: 1195.8245 - mean_squared_error: 1195.82 - ETA: 0s - loss: 1220.1957 - mean_squared_error: 1220.19 - ETA: 0s - loss: 1226.5809 - mean_squared_error: 1226.58 - ETA: 0s - loss: 1208.5905 - mean_squared_error: 1208.59 - ETA: 0s - loss: 1185.6637 - mean_squared_error: 1185.66 - ETA: 0s - loss: 1172.5909 - mean_squared_error: 1172.59 - ETA: 0s - loss: 1182.5685 - mean_squared_error: 1182.56 - ETA: 0s - loss: 1201.0482 - mean_squared_error: 1201.04 - ETA: 0s - loss: 1218.4901 - mean_squared_error: 1218.49 - 1s 177us/sample - loss: 1227.2698 - mean_squared_error: 1227.2698\n",
      "Epoch 37/100\n",
      "5409/5409 [==============================] - ETA: 1s - loss: 1443.0541 - mean_squared_error: 1443.05 - ETA: 0s - loss: 1349.7631 - mean_squared_error: 1349.76 - ETA: 0s - loss: 1249.0409 - mean_squared_error: 1249.04 - ETA: 0s - loss: 1193.7881 - mean_squared_error: 1193.78 - ETA: 0s - loss: 1273.3532 - mean_squared_error: 1273.35 - ETA: 0s - loss: 1235.3588 - mean_squared_error: 1235.35 - ETA: 0s - loss: 1185.3222 - mean_squared_error: 1185.32 - ETA: 0s - loss: 1157.0827 - mean_squared_error: 1157.08 - ETA: 0s - loss: 1215.2429 - mean_squared_error: 1215.24 - ETA: 0s - loss: 1239.1481 - mean_squared_error: 1239.14 - ETA: 0s - loss: 1277.1864 - mean_squared_error: 1277.18 - ETA: 0s - loss: 1301.4889 - mean_squared_error: 1301.48 - ETA: 0s - loss: 1310.4687 - mean_squared_error: 1310.46 - ETA: 0s - loss: 1298.5805 - mean_squared_error: 1298.58 - ETA: 0s - loss: 1289.9783 - mean_squared_error: 1289.97 - ETA: 0s - loss: 1285.2447 - mean_squared_error: 1285.24 - ETA: 0s - loss: 1266.8639 - mean_squared_error: 1266.86 - ETA: 0s - loss: 1251.6273 - mean_squared_error: 1251.62 - 1s 177us/sample - loss: 1253.7019 - mean_squared_error: 1253.7020\n",
      "Epoch 38/100\n",
      "5409/5409 [==============================] - ETA: 0s - loss: 1076.4485 - mean_squared_error: 1076.44 - ETA: 0s - loss: 1332.5562 - mean_squared_error: 1332.55 - ETA: 0s - loss: 1319.0029 - mean_squared_error: 1319.00 - ETA: 0s - loss: 1355.0231 - mean_squared_error: 1355.02 - ETA: 0s - loss: 1272.4964 - mean_squared_error: 1272.49 - ETA: 0s - loss: 1276.9693 - mean_squared_error: 1276.96 - ETA: 0s - loss: 1201.5371 - mean_squared_error: 1201.53 - ETA: 0s - loss: 1301.0225 - mean_squared_error: 1301.02 - ETA: 0s - loss: 1265.7062 - mean_squared_error: 1265.70 - ETA: 0s - loss: 1229.1025 - mean_squared_error: 1229.10 - ETA: 0s - loss: 1197.1759 - mean_squared_error: 1197.17 - ETA: 0s - loss: 1203.5448 - mean_squared_error: 1203.54 - ETA: 0s - loss: 1216.9489 - mean_squared_error: 1216.94 - ETA: 0s - loss: 1213.9251 - mean_squared_error: 1213.92 - ETA: 0s - loss: 1227.7824 - mean_squared_error: 1227.78 - ETA: 0s - loss: 1212.2998 - mean_squared_error: 1212.30 - ETA: 0s - loss: 1210.3731 - mean_squared_error: 1210.37 - 1s 171us/sample - loss: 1199.1342 - mean_squared_error: 1199.1346\n",
      "Epoch 39/100\n",
      "5409/5409 [==============================] - ETA: 0s - loss: 1004.8421 - mean_squared_error: 1004.84 - ETA: 0s - loss: 781.8314 - mean_squared_error: 781.8314 - ETA: 0s - loss: 895.3401 - mean_squared_error: 895.34 - ETA: 0s - loss: 873.9346 - mean_squared_error: 873.93 - ETA: 0s - loss: 982.5343 - mean_squared_error: 982.53 - ETA: 0s - loss: 989.8343 - mean_squared_error: 989.83 - ETA: 0s - loss: 1042.1022 - mean_squared_error: 1042.10 - ETA: 0s - loss: 1090.9021 - mean_squared_error: 1090.90 - ETA: 0s - loss: 1085.1594 - mean_squared_error: 1085.15 - ETA: 0s - loss: 1084.1950 - mean_squared_error: 1084.19 - ETA: 0s - loss: 1130.0645 - mean_squared_error: 1130.06 - ETA: 0s - loss: 1157.6151 - mean_squared_error: 1157.61 - ETA: 0s - loss: 1200.3964 - mean_squared_error: 1200.39 - ETA: 0s - loss: 1191.7398 - mean_squared_error: 1191.74 - ETA: 0s - loss: 1174.4664 - mean_squared_error: 1174.46 - ETA: 0s - loss: 1203.9132 - mean_squared_error: 1203.91 - ETA: 0s - loss: 1219.1142 - mean_squared_error: 1219.11 - ETA: 0s - loss: 1211.8642 - mean_squared_error: 1211.86 - 1s 174us/sample - loss: 1202.6171 - mean_squared_error: 1202.6172\n",
      "Epoch 40/100\n",
      "5409/5409 [==============================] - ETA: 2s - loss: 667.2861 - mean_squared_error: 667.28 - ETA: 1s - loss: 1007.9814 - mean_squared_error: 1007.98 - ETA: 0s - loss: 1185.6789 - mean_squared_error: 1185.67 - ETA: 0s - loss: 1193.2984 - mean_squared_error: 1193.29 - ETA: 0s - loss: 1126.0947 - mean_squared_error: 1126.09 - ETA: 0s - loss: 1179.5199 - mean_squared_error: 1179.51 - ETA: 0s - loss: 1182.6555 - mean_squared_error: 1182.65 - ETA: 0s - loss: 1211.6191 - mean_squared_error: 1211.61 - ETA: 0s - loss: 1233.6612 - mean_squared_error: 1233.66 - ETA: 0s - loss: 1240.7222 - mean_squared_error: 1240.72 - ETA: 0s - loss: 1218.9406 - mean_squared_error: 1218.94 - ETA: 0s - loss: 1210.9302 - mean_squared_error: 1210.93 - ETA: 0s - loss: 1216.5560 - mean_squared_error: 1216.55 - ETA: 0s - loss: 1228.0866 - mean_squared_error: 1228.08 - ETA: 0s - loss: 1231.1138 - mean_squared_error: 1231.11 - ETA: 0s - loss: 1211.8181 - mean_squared_error: 1211.81 - ETA: 0s - loss: 1219.1319 - mean_squared_error: 1219.13 - ETA: 0s - loss: 1224.1884 - mean_squared_error: 1224.18 - 1s 181us/sample - loss: 1224.4704 - mean_squared_error: 1224.4702\n",
      "Epoch 41/100\n",
      "5409/5409 [==============================] - ETA: 1s - loss: 1109.8470 - mean_squared_error: 1109.84 - ETA: 0s - loss: 1271.0274 - mean_squared_error: 1271.02 - ETA: 0s - loss: 1156.4819 - mean_squared_error: 1156.48 - ETA: 0s - loss: 1136.7081 - mean_squared_error: 1136.70 - ETA: 0s - loss: 1149.8370 - mean_squared_error: 1149.83 - ETA: 0s - loss: 1176.2010 - mean_squared_error: 1176.20 - ETA: 0s - loss: 1206.9738 - mean_squared_error: 1206.97 - ETA: 0s - loss: 1229.6152 - mean_squared_error: 1229.61 - ETA: 0s - loss: 1231.5550 - mean_squared_error: 1231.55 - ETA: 0s - loss: 1215.7991 - mean_squared_error: 1215.79 - ETA: 0s - loss: 1217.5996 - mean_squared_error: 1217.59 - ETA: 0s - loss: 1217.3644 - mean_squared_error: 1217.36 - ETA: 0s - loss: 1221.3423 - mean_squared_error: 1221.34 - ETA: 0s - loss: 1206.7835 - mean_squared_error: 1206.78 - ETA: 0s - loss: 1244.4657 - mean_squared_error: 1244.46 - ETA: 0s - loss: 1240.9315 - mean_squared_error: 1240.93 - ETA: 0s - loss: 1237.8984 - mean_squared_error: 1237.89 - ETA: 0s - loss: 1231.8939 - mean_squared_error: 1231.89 - 1s 177us/sample - loss: 1213.6203 - mean_squared_error: 1213.6201\n",
      "Epoch 42/100\n",
      "5409/5409 [==============================] - ETA: 1s - loss: 765.2579 - mean_squared_error: 765.25 - ETA: 0s - loss: 1172.1581 - mean_squared_error: 1172.15 - ETA: 0s - loss: 1258.1689 - mean_squared_error: 1258.16 - ETA: 0s - loss: 1206.9219 - mean_squared_error: 1206.92 - ETA: 0s - loss: 1126.0538 - mean_squared_error: 1126.05 - ETA: 0s - loss: 1118.8543 - mean_squared_error: 1118.85 - ETA: 0s - loss: 1126.8972 - mean_squared_error: 1126.89 - ETA: 0s - loss: 1099.3451 - mean_squared_error: 1099.34 - ETA: 0s - loss: 1089.3182 - mean_squared_error: 1089.31 - ETA: 0s - loss: 1155.2648 - mean_squared_error: 1155.26 - ETA: 0s - loss: 1184.5422 - mean_squared_error: 1184.54 - ETA: 0s - loss: 1176.2905 - mean_squared_error: 1176.29 - ETA: 0s - loss: 1177.0087 - mean_squared_error: 1177.00 - ETA: 0s - loss: 1185.0067 - mean_squared_error: 1185.00 - ETA: 0s - loss: 1205.1565 - mean_squared_error: 1205.15 - ETA: 0s - loss: 1238.3562 - mean_squared_error: 1238.35 - ETA: 0s - loss: 1223.0308 - mean_squared_error: 1223.03 - ETA: 0s - loss: 1234.1131 - mean_squared_error: 1234.11 - ETA: 0s - loss: 1243.3341 - mean_squared_error: 1243.33 - 1s 193us/sample - loss: 1244.9832 - mean_squared_error: 1244.9829\n",
      "Epoch 43/100\n",
      "5409/5409 [==============================] - ETA: 1s - loss: 1111.8074 - mean_squared_error: 1111.80 - ETA: 1s - loss: 1073.9804 - mean_squared_error: 1073.98 - ETA: 0s - loss: 1086.3896 - mean_squared_error: 1086.38 - ETA: 0s - loss: 1172.9203 - mean_squared_error: 1172.92 - ETA: 0s - loss: 1209.5715 - mean_squared_error: 1209.57 - ETA: 0s - loss: 1247.2250 - mean_squared_error: 1247.22 - ETA: 0s - loss: 1262.3336 - mean_squared_error: 1262.33 - ETA: 0s - loss: 1274.1618 - mean_squared_error: 1274.16 - ETA: 0s - loss: 1275.6131 - mean_squared_error: 1275.61 - ETA: 0s - loss: 1217.1934 - mean_squared_error: 1217.19 - ETA: 0s - loss: 1191.6936 - mean_squared_error: 1191.69 - ETA: 0s - loss: 1190.6084 - mean_squared_error: 1190.60 - ETA: 0s - loss: 1194.2957 - mean_squared_error: 1194.29 - ETA: 0s - loss: 1184.5209 - mean_squared_error: 1184.52 - ETA: 0s - loss: 1211.9069 - mean_squared_error: 1211.90 - ETA: 0s - loss: 1193.5989 - mean_squared_error: 1193.59 - ETA: 0s - loss: 1197.2454 - mean_squared_error: 1197.24 - ETA: 0s - loss: 1197.1489 - mean_squared_error: 1197.14 - ETA: 0s - loss: 1203.7643 - mean_squared_error: 1203.76 - ETA: 0s - loss: 1204.3104 - mean_squared_error: 1204.31 - 1s 201us/sample - loss: 1198.0502 - mean_squared_error: 1198.0500\n",
      "Epoch 44/100\n",
      "5409/5409 [==============================] - ETA: 1s - loss: 540.1705 - mean_squared_error: 540.17 - ETA: 0s - loss: 1005.0720 - mean_squared_error: 1005.07 - ETA: 0s - loss: 1270.5717 - mean_squared_error: 1270.57 - ETA: 0s - loss: 1214.7721 - mean_squared_error: 1214.77 - ETA: 0s - loss: 1241.0638 - mean_squared_error: 1241.06 - ETA: 0s - loss: 1225.6516 - mean_squared_error: 1225.65 - ETA: 0s - loss: 1231.5625 - mean_squared_error: 1231.56 - ETA: 0s - loss: 1198.7446 - mean_squared_error: 1198.74 - ETA: 0s - loss: 1156.4126 - mean_squared_error: 1156.41 - ETA: 0s - loss: 1143.7284 - mean_squared_error: 1143.72 - ETA: 0s - loss: 1157.7467 - mean_squared_error: 1157.74 - ETA: 0s - loss: 1203.4071 - mean_squared_error: 1203.40 - ETA: 0s - loss: 1179.7870 - mean_squared_error: 1179.78 - ETA: 0s - loss: 1191.3338 - mean_squared_error: 1191.33 - ETA: 0s - loss: 1184.5262 - mean_squared_error: 1184.52 - ETA: 0s - loss: 1195.6230 - mean_squared_error: 1195.62 - ETA: 0s - loss: 1195.6457 - mean_squared_error: 1195.64 - ETA: 0s - loss: 1195.0236 - mean_squared_error: 1195.02 - 1s 191us/sample - loss: 1199.6231 - mean_squared_error: 1199.6233\n",
      "Epoch 45/100\n",
      "5409/5409 [==============================] - ETA: 1s - loss: 537.8918 - mean_squared_error: 537.89 - ETA: 0s - loss: 1256.0819 - mean_squared_error: 1256.08 - ETA: 0s - loss: 1187.6100 - mean_squared_error: 1187.61 - ETA: 0s - loss: 1197.5889 - mean_squared_error: 1197.58 - ETA: 0s - loss: 1178.1908 - mean_squared_error: 1178.19 - ETA: 0s - loss: 1130.6649 - mean_squared_error: 1130.66 - ETA: 0s - loss: 1126.8842 - mean_squared_error: 1126.88 - ETA: 0s - loss: 1120.9991 - mean_squared_error: 1120.99 - ETA: 0s - loss: 1125.8224 - mean_squared_error: 1125.82 - ETA: 0s - loss: 1116.4467 - mean_squared_error: 1116.44 - ETA: 0s - loss: 1107.1423 - mean_squared_error: 1107.14 - ETA: 0s - loss: 1136.5688 - mean_squared_error: 1136.56 - ETA: 0s - loss: 1142.9911 - mean_squared_error: 1142.99 - ETA: 0s - loss: 1149.7790 - mean_squared_error: 1149.77 - ETA: 0s - loss: 1161.2399 - mean_squared_error: 1161.23 - ETA: 0s - loss: 1188.9980 - mean_squared_error: 1188.99 - ETA: 0s - loss: 1209.2681 - mean_squared_error: 1209.26 - ETA: 0s - loss: 1205.7718 - mean_squared_error: 1205.77 - ETA: 0s - loss: 1198.4388 - mean_squared_error: 1198.43 - ETA: 0s - loss: 1188.3127 - mean_squared_error: 1188.31 - ETA: 0s - loss: 1172.6848 - mean_squared_error: 1172.68 - 1s 213us/sample - loss: 1184.5944 - mean_squared_error: 1184.5944\n",
      "Epoch 46/100\n",
      "5409/5409 [==============================] - ETA: 2s - loss: 539.5154 - mean_squared_error: 539.51 - ETA: 1s - loss: 1414.3559 - mean_squared_error: 1414.35 - ETA: 1s - loss: 1281.3073 - mean_squared_error: 1281.30 - ETA: 1s - loss: 1230.0523 - mean_squared_error: 1230.05 - ETA: 1s - loss: 1253.4157 - mean_squared_error: 1253.41 - ETA: 1s - loss: 1175.7591 - mean_squared_error: 1175.75 - ETA: 1s - loss: 1150.5079 - mean_squared_error: 1150.50 - ETA: 1s - loss: 1160.4392 - mean_squared_error: 1160.43 - ETA: 1s - loss: 1195.9630 - mean_squared_error: 1195.96 - ETA: 1s - loss: 1191.8770 - mean_squared_error: 1191.87 - ETA: 0s - loss: 1259.4914 - mean_squared_error: 1259.49 - ETA: 0s - loss: 1252.7988 - mean_squared_error: 1252.79 - ETA: 0s - loss: 1273.0602 - mean_squared_error: 1273.06 - ETA: 0s - loss: 1313.4805 - mean_squared_error: 1313.48 - ETA: 0s - loss: 1310.5540 - mean_squared_error: 1310.55 - ETA: 0s - loss: 1311.0255 - mean_squared_error: 1311.02 - ETA: 0s - loss: 1308.5945 - mean_squared_error: 1308.59 - ETA: 0s - loss: 1307.3947 - mean_squared_error: 1307.39 - ETA: 0s - loss: 1296.3800 - mean_squared_error: 1296.38 - ETA: 0s - loss: 1302.4123 - mean_squared_error: 1302.41 - ETA: 0s - loss: 1281.2294 - mean_squared_error: 1281.22 - ETA: 0s - loss: 1275.0969 - mean_squared_error: 1275.09 - ETA: 0s - loss: 1255.1372 - mean_squared_error: 1255.13 - ETA: 0s - loss: 1244.9322 - mean_squared_error: 1244.93 - ETA: 0s - loss: 1243.9868 - mean_squared_error: 1243.98 - ETA: 0s - loss: 1259.3122 - mean_squared_error: 1259.31 - ETA: 0s - loss: 1250.8218 - mean_squared_error: 1250.82 - ETA: 0s - loss: 1253.7771 - mean_squared_error: 1253.77 - 2s 295us/sample - loss: 1251.4266 - mean_squared_error: 1251.4263\n",
      "Epoch 47/100\n"
     ]
    },
    {
     "name": "stdout",
     "output_type": "stream",
     "text": [
      "5409/5409 [==============================] - ETA: 1s - loss: 1344.6205 - mean_squared_error: 1344.62 - ETA: 1s - loss: 1071.4253 - mean_squared_error: 1071.42 - ETA: 1s - loss: 1036.2812 - mean_squared_error: 1036.28 - ETA: 1s - loss: 1099.5400 - mean_squared_error: 1099.54 - ETA: 1s - loss: 1099.8691 - mean_squared_error: 1099.86 - ETA: 1s - loss: 1186.1324 - mean_squared_error: 1186.13 - ETA: 1s - loss: 1142.8964 - mean_squared_error: 1142.89 - ETA: 1s - loss: 1154.5969 - mean_squared_error: 1154.59 - ETA: 1s - loss: 1193.5293 - mean_squared_error: 1193.52 - ETA: 0s - loss: 1190.1149 - mean_squared_error: 1190.11 - ETA: 0s - loss: 1204.6704 - mean_squared_error: 1204.67 - ETA: 0s - loss: 1173.4952 - mean_squared_error: 1173.49 - ETA: 0s - loss: 1175.5131 - mean_squared_error: 1175.51 - ETA: 0s - loss: 1204.1102 - mean_squared_error: 1204.11 - ETA: 0s - loss: 1197.5888 - mean_squared_error: 1197.58 - ETA: 0s - loss: 1204.6383 - mean_squared_error: 1204.63 - ETA: 0s - loss: 1164.3188 - mean_squared_error: 1164.31 - ETA: 0s - loss: 1152.5122 - mean_squared_error: 1152.51 - ETA: 0s - loss: 1171.3619 - mean_squared_error: 1171.36 - ETA: 0s - loss: 1184.3099 - mean_squared_error: 1184.30 - ETA: 0s - loss: 1205.8754 - mean_squared_error: 1205.87 - ETA: 0s - loss: 1219.3707 - mean_squared_error: 1219.37 - ETA: 0s - loss: 1211.6489 - mean_squared_error: 1211.64 - ETA: 0s - loss: 1198.4169 - mean_squared_error: 1198.41 - 1s 250us/sample - loss: 1191.1289 - mean_squared_error: 1191.1289\n",
      "Epoch 48/100\n",
      "5409/5409 [==============================] - ETA: 0s - loss: 1802.5878 - mean_squared_error: 1802.58 - ETA: 1s - loss: 1213.6810 - mean_squared_error: 1213.68 - ETA: 0s - loss: 1221.7064 - mean_squared_error: 1221.70 - ETA: 0s - loss: 1282.8499 - mean_squared_error: 1282.84 - ETA: 0s - loss: 1236.3440 - mean_squared_error: 1236.34 - ETA: 0s - loss: 1159.3375 - mean_squared_error: 1159.33 - ETA: 0s - loss: 1150.2771 - mean_squared_error: 1150.27 - ETA: 0s - loss: 1148.4142 - mean_squared_error: 1148.41 - ETA: 0s - loss: 1133.0328 - mean_squared_error: 1133.03 - ETA: 0s - loss: 1110.2254 - mean_squared_error: 1110.22 - ETA: 0s - loss: 1123.6102 - mean_squared_error: 1123.61 - ETA: 0s - loss: 1123.2319 - mean_squared_error: 1123.23 - ETA: 0s - loss: 1124.4133 - mean_squared_error: 1124.41 - ETA: 0s - loss: 1129.6985 - mean_squared_error: 1129.69 - ETA: 0s - loss: 1122.0542 - mean_squared_error: 1122.05 - ETA: 0s - loss: 1145.3822 - mean_squared_error: 1145.38 - ETA: 0s - loss: 1156.0686 - mean_squared_error: 1156.06 - ETA: 0s - loss: 1161.0010 - mean_squared_error: 1161.00 - ETA: 0s - loss: 1205.6543 - mean_squared_error: 1205.65 - ETA: 0s - loss: 1190.2263 - mean_squared_error: 1190.22 - ETA: 0s - loss: 1187.7075 - mean_squared_error: 1187.70 - ETA: 0s - loss: 1186.4784 - mean_squared_error: 1186.47 - ETA: 0s - loss: 1202.5383 - mean_squared_error: 1202.53 - ETA: 0s - loss: 1212.0971 - mean_squared_error: 1212.09 - ETA: 0s - loss: 1208.4237 - mean_squared_error: 1208.42 - 1s 256us/sample - loss: 1204.5675 - mean_squared_error: 1204.5674\n",
      "Epoch 49/100\n",
      "5409/5409 [==============================] - ETA: 1s - loss: 658.8157 - mean_squared_error: 658.81 - ETA: 2s - loss: 1281.4309 - mean_squared_error: 1281.43 - ETA: 2s - loss: 1266.5079 - mean_squared_error: 1266.50 - ETA: 1s - loss: 1284.6742 - mean_squared_error: 1284.67 - ETA: 1s - loss: 1149.4215 - mean_squared_error: 1149.42 - ETA: 1s - loss: 1097.7379 - mean_squared_error: 1097.73 - ETA: 1s - loss: 1119.8291 - mean_squared_error: 1119.82 - ETA: 1s - loss: 1151.4859 - mean_squared_error: 1151.48 - ETA: 1s - loss: 1153.9090 - mean_squared_error: 1153.90 - ETA: 1s - loss: 1153.5496 - mean_squared_error: 1153.54 - ETA: 1s - loss: 1130.9457 - mean_squared_error: 1130.94 - ETA: 1s - loss: 1122.9633 - mean_squared_error: 1122.96 - ETA: 1s - loss: 1114.8411 - mean_squared_error: 1114.84 - ETA: 1s - loss: 1108.3242 - mean_squared_error: 1108.32 - ETA: 1s - loss: 1127.4953 - mean_squared_error: 1127.49 - ETA: 1s - loss: 1144.5367 - mean_squared_error: 1144.53 - ETA: 0s - loss: 1141.4895 - mean_squared_error: 1141.48 - ETA: 0s - loss: 1134.2361 - mean_squared_error: 1134.23 - ETA: 0s - loss: 1125.9488 - mean_squared_error: 1125.94 - ETA: 0s - loss: 1126.4376 - mean_squared_error: 1126.43 - ETA: 0s - loss: 1148.9206 - mean_squared_error: 1148.92 - ETA: 0s - loss: 1152.1773 - mean_squared_error: 1152.17 - ETA: 0s - loss: 1169.7789 - mean_squared_error: 1169.77 - ETA: 0s - loss: 1166.1735 - mean_squared_error: 1166.17 - ETA: 0s - loss: 1168.9414 - mean_squared_error: 1168.94 - ETA: 0s - loss: 1154.5214 - mean_squared_error: 1154.52 - ETA: 0s - loss: 1160.1846 - mean_squared_error: 1160.18 - ETA: 0s - loss: 1148.0826 - mean_squared_error: 1148.08 - ETA: 0s - loss: 1171.6688 - mean_squared_error: 1171.66 - ETA: 0s - loss: 1166.6051 - mean_squared_error: 1166.60 - 2s 323us/sample - loss: 1161.6974 - mean_squared_error: 1161.6971\n",
      "Epoch 50/100\n",
      "5409/5409 [==============================] - ETA: 1s - loss: 746.4045 - mean_squared_error: 746.40 - ETA: 1s - loss: 928.2811 - mean_squared_error: 928.28 - ETA: 1s - loss: 1171.9366 - mean_squared_error: 1171.93 - ETA: 1s - loss: 1263.1532 - mean_squared_error: 1263.15 - ETA: 1s - loss: 1265.9194 - mean_squared_error: 1265.91 - ETA: 1s - loss: 1292.1715 - mean_squared_error: 1292.17 - ETA: 0s - loss: 1232.5867 - mean_squared_error: 1232.58 - ETA: 0s - loss: 1198.4085 - mean_squared_error: 1198.40 - ETA: 0s - loss: 1229.9938 - mean_squared_error: 1229.99 - ETA: 0s - loss: 1270.5929 - mean_squared_error: 1270.59 - ETA: 0s - loss: 1255.2548 - mean_squared_error: 1255.25 - ETA: 0s - loss: 1254.7218 - mean_squared_error: 1254.72 - ETA: 0s - loss: 1249.9201 - mean_squared_error: 1249.92 - ETA: 0s - loss: 1229.0842 - mean_squared_error: 1229.08 - ETA: 0s - loss: 1209.3360 - mean_squared_error: 1209.33 - ETA: 0s - loss: 1210.8218 - mean_squared_error: 1210.82 - ETA: 0s - loss: 1177.9046 - mean_squared_error: 1177.90 - ETA: 0s - loss: 1174.2018 - mean_squared_error: 1174.20 - ETA: 0s - loss: 1161.5408 - mean_squared_error: 1161.54 - ETA: 0s - loss: 1164.7421 - mean_squared_error: 1164.74 - ETA: 0s - loss: 1155.0870 - mean_squared_error: 1155.08 - ETA: 0s - loss: 1158.6307 - mean_squared_error: 1158.63 - ETA: 0s - loss: 1168.7226 - mean_squared_error: 1168.72 - ETA: 0s - loss: 1155.7698 - mean_squared_error: 1155.76 - 1s 250us/sample - loss: 1159.0799 - mean_squared_error: 1159.0796\n",
      "Epoch 51/100\n",
      "5409/5409 [==============================] - ETA: 0s - loss: 597.7732 - mean_squared_error: 597.77 - ETA: 1s - loss: 943.2028 - mean_squared_error: 943.20 - ETA: 1s - loss: 1053.1149 - mean_squared_error: 1053.11 - ETA: 1s - loss: 1127.5012 - mean_squared_error: 1127.50 - ETA: 1s - loss: 1105.3034 - mean_squared_error: 1105.30 - ETA: 0s - loss: 1160.6609 - mean_squared_error: 1160.66 - ETA: 0s - loss: 1141.7049 - mean_squared_error: 1141.70 - ETA: 0s - loss: 1108.7280 - mean_squared_error: 1108.72 - ETA: 0s - loss: 1117.1804 - mean_squared_error: 1117.18 - ETA: 0s - loss: 1085.5492 - mean_squared_error: 1085.54 - ETA: 0s - loss: 1074.1758 - mean_squared_error: 1074.17 - ETA: 0s - loss: 1082.0838 - mean_squared_error: 1082.08 - ETA: 0s - loss: 1106.4110 - mean_squared_error: 1106.41 - ETA: 0s - loss: 1100.7454 - mean_squared_error: 1100.74 - ETA: 0s - loss: 1083.6297 - mean_squared_error: 1083.62 - ETA: 0s - loss: 1091.6291 - mean_squared_error: 1091.62 - ETA: 0s - loss: 1104.9872 - mean_squared_error: 1104.98 - ETA: 0s - loss: 1133.9216 - mean_squared_error: 1133.92 - ETA: 0s - loss: 1152.2003 - mean_squared_error: 1152.20 - ETA: 0s - loss: 1203.5637 - mean_squared_error: 1203.56 - ETA: 0s - loss: 1203.0462 - mean_squared_error: 1203.04 - ETA: 0s - loss: 1186.8923 - mean_squared_error: 1186.89 - ETA: 0s - loss: 1212.8727 - mean_squared_error: 1212.87 - ETA: 0s - loss: 1215.8804 - mean_squared_error: 1215.88 - ETA: 0s - loss: 1235.0220 - mean_squared_error: 1235.02 - ETA: 0s - loss: 1223.0414 - mean_squared_error: 1223.04 - 2s 277us/sample - loss: 1210.9312 - mean_squared_error: 1210.9310\n",
      "Epoch 52/100\n",
      "5409/5409 [==============================] - ETA: 0s - loss: 818.6478 - mean_squared_error: 818.64 - ETA: 1s - loss: 1253.9459 - mean_squared_error: 1253.94 - ETA: 1s - loss: 1083.0334 - mean_squared_error: 1083.03 - ETA: 1s - loss: 1121.1361 - mean_squared_error: 1121.13 - ETA: 0s - loss: 1087.5540 - mean_squared_error: 1087.55 - ETA: 0s - loss: 1077.1603 - mean_squared_error: 1077.16 - ETA: 0s - loss: 1056.3977 - mean_squared_error: 1056.39 - ETA: 0s - loss: 1088.9229 - mean_squared_error: 1088.92 - ETA: 0s - loss: 1178.9696 - mean_squared_error: 1178.96 - ETA: 0s - loss: 1174.2671 - mean_squared_error: 1174.26 - ETA: 0s - loss: 1163.1366 - mean_squared_error: 1163.13 - ETA: 0s - loss: 1224.9887 - mean_squared_error: 1224.98 - ETA: 0s - loss: 1225.2404 - mean_squared_error: 1225.24 - ETA: 0s - loss: 1205.1675 - mean_squared_error: 1205.16 - ETA: 0s - loss: 1224.6924 - mean_squared_error: 1224.69 - ETA: 0s - loss: 1227.5070 - mean_squared_error: 1227.50 - ETA: 0s - loss: 1218.6073 - mean_squared_error: 1218.60 - ETA: 0s - loss: 1209.6093 - mean_squared_error: 1209.60 - ETA: 0s - loss: 1213.9308 - mean_squared_error: 1213.93 - ETA: 0s - loss: 1195.1936 - mean_squared_error: 1195.19 - ETA: 0s - loss: 1181.9215 - mean_squared_error: 1181.92 - 1s 218us/sample - loss: 1179.9776 - mean_squared_error: 1179.9777\n",
      "Epoch 53/100\n",
      "5409/5409 [==============================] - ETA: 0s - loss: 927.6750 - mean_squared_error: 927.67 - ETA: 1s - loss: 879.2670 - mean_squared_error: 879.26 - ETA: 1s - loss: 996.5026 - mean_squared_error: 996.50 - ETA: 1s - loss: 1002.5394 - mean_squared_error: 1002.53 - ETA: 1s - loss: 1024.3198 - mean_squared_error: 1024.31 - ETA: 1s - loss: 1145.7566 - mean_squared_error: 1145.75 - ETA: 1s - loss: 1144.3130 - mean_squared_error: 1144.31 - ETA: 1s - loss: 1194.0336 - mean_squared_error: 1194.03 - ETA: 0s - loss: 1123.5976 - mean_squared_error: 1123.59 - ETA: 0s - loss: 1107.4260 - mean_squared_error: 1107.42 - ETA: 0s - loss: 1097.5640 - mean_squared_error: 1097.56 - ETA: 0s - loss: 1083.8944 - mean_squared_error: 1083.89 - ETA: 0s - loss: 1098.6171 - mean_squared_error: 1098.61 - ETA: 0s - loss: 1142.2460 - mean_squared_error: 1142.24 - ETA: 0s - loss: 1155.0624 - mean_squared_error: 1155.06 - ETA: 0s - loss: 1181.9779 - mean_squared_error: 1181.97 - ETA: 0s - loss: 1173.5990 - mean_squared_error: 1173.59 - ETA: 0s - loss: 1155.6075 - mean_squared_error: 1155.60 - ETA: 0s - loss: 1172.4156 - mean_squared_error: 1172.41 - ETA: 0s - loss: 1176.3238 - mean_squared_error: 1176.32 - ETA: 0s - loss: 1166.6909 - mean_squared_error: 1166.69 - ETA: 0s - loss: 1173.4045 - mean_squared_error: 1173.40 - ETA: 0s - loss: 1193.9720 - mean_squared_error: 1193.97 - ETA: 0s - loss: 1189.7739 - mean_squared_error: 1189.77 - 1s 244us/sample - loss: 1182.5309 - mean_squared_error: 1182.5306\n",
      "Epoch 54/100\n",
      "5409/5409 [==============================] - ETA: 1s - loss: 747.9368 - mean_squared_error: 747.93 - ETA: 0s - loss: 976.3428 - mean_squared_error: 976.34 - ETA: 0s - loss: 1100.0269 - mean_squared_error: 1100.02 - ETA: 0s - loss: 1029.1899 - mean_squared_error: 1029.18 - ETA: 0s - loss: 1034.3908 - mean_squared_error: 1034.39 - ETA: 0s - loss: 1269.9820 - mean_squared_error: 1269.98 - ETA: 0s - loss: 1272.5868 - mean_squared_error: 1272.58 - ETA: 0s - loss: 1222.7500 - mean_squared_error: 1222.74 - ETA: 0s - loss: 1190.5171 - mean_squared_error: 1190.51 - ETA: 0s - loss: 1211.2868 - mean_squared_error: 1211.28 - ETA: 0s - loss: 1191.7391 - mean_squared_error: 1191.73 - ETA: 0s - loss: 1206.7738 - mean_squared_error: 1206.77 - ETA: 0s - loss: 1214.2707 - mean_squared_error: 1214.27 - ETA: 0s - loss: 1209.3866 - mean_squared_error: 1209.38 - ETA: 0s - loss: 1208.1972 - mean_squared_error: 1208.19 - ETA: 0s - loss: 1179.7398 - mean_squared_error: 1179.73 - ETA: 0s - loss: 1187.0851 - mean_squared_error: 1187.08 - ETA: 0s - loss: 1179.8581 - mean_squared_error: 1179.85 - ETA: 0s - loss: 1178.8254 - mean_squared_error: 1178.82 - ETA: 0s - loss: 1202.8443 - mean_squared_error: 1202.84 - ETA: 0s - loss: 1197.7635 - mean_squared_error: 1197.76 - ETA: 0s - loss: 1199.9804 - mean_squared_error: 1199.98 - ETA: 0s - loss: 1190.1712 - mean_squared_error: 1190.17 - ETA: 0s - loss: 1187.2782 - mean_squared_error: 1187.27 - 1s 255us/sample - loss: 1189.7390 - mean_squared_error: 1189.7394\n",
      "Epoch 55/100\n",
      "5409/5409 [==============================] - ETA: 1s - loss: 1149.4967 - mean_squared_error: 1149.49 - ETA: 0s - loss: 1318.1541 - mean_squared_error: 1318.15 - ETA: 0s - loss: 1225.7361 - mean_squared_error: 1225.73 - ETA: 0s - loss: 1255.2928 - mean_squared_error: 1255.29 - ETA: 0s - loss: 1120.1323 - mean_squared_error: 1120.13 - ETA: 0s - loss: 1167.7446 - mean_squared_error: 1167.74 - ETA: 0s - loss: 1161.7967 - mean_squared_error: 1161.79 - ETA: 0s - loss: 1149.8437 - mean_squared_error: 1149.84 - ETA: 0s - loss: 1166.4861 - mean_squared_error: 1166.48 - ETA: 0s - loss: 1149.8353 - mean_squared_error: 1149.83 - ETA: 0s - loss: 1137.9912 - mean_squared_error: 1137.99 - ETA: 0s - loss: 1149.2231 - mean_squared_error: 1149.22 - ETA: 0s - loss: 1148.4103 - mean_squared_error: 1148.41 - ETA: 0s - loss: 1144.6853 - mean_squared_error: 1144.68 - ETA: 0s - loss: 1161.8655 - mean_squared_error: 1161.86 - ETA: 0s - loss: 1149.0327 - mean_squared_error: 1149.03 - ETA: 0s - loss: 1165.9935 - mean_squared_error: 1165.99 - ETA: 0s - loss: 1166.0361 - mean_squared_error: 1166.03 - ETA: 0s - loss: 1170.9059 - mean_squared_error: 1170.90 - ETA: 0s - loss: 1172.3012 - mean_squared_error: 1172.30 - 1s 203us/sample - loss: 1167.1694 - mean_squared_error: 1167.1693\n",
      "Epoch 56/100\n",
      "5409/5409 [==============================] - ETA: 1s - loss: 622.7338 - mean_squared_error: 622.73 - ETA: 0s - loss: 975.9261 - mean_squared_error: 975.92 - ETA: 0s - loss: 1050.0806 - mean_squared_error: 1050.08 - ETA: 0s - loss: 1023.5318 - mean_squared_error: 1023.53 - ETA: 0s - loss: 1043.9300 - mean_squared_error: 1043.93 - ETA: 0s - loss: 1051.2117 - mean_squared_error: 1051.21 - ETA: 0s - loss: 1032.9793 - mean_squared_error: 1032.97 - ETA: 0s - loss: 1054.8297 - mean_squared_error: 1054.82 - ETA: 0s - loss: 1108.4363 - mean_squared_error: 1108.43 - ETA: 0s - loss: 1117.6848 - mean_squared_error: 1117.68 - ETA: 0s - loss: 1094.0278 - mean_squared_error: 1094.02 - ETA: 0s - loss: 1085.2971 - mean_squared_error: 1085.29 - ETA: 0s - loss: 1096.4732 - mean_squared_error: 1096.47 - ETA: 0s - loss: 1109.8169 - mean_squared_error: 1109.81 - ETA: 0s - loss: 1117.1017 - mean_squared_error: 1117.10 - ETA: 0s - loss: 1112.3797 - mean_squared_error: 1112.37 - ETA: 0s - loss: 1111.5337 - mean_squared_error: 1111.53 - ETA: 0s - loss: 1130.1841 - mean_squared_error: 1130.18 - ETA: 0s - loss: 1128.6203 - mean_squared_error: 1128.62 - ETA: 0s - loss: 1163.8938 - mean_squared_error: 1163.89 - 1s 200us/sample - loss: 1168.4604 - mean_squared_error: 1168.4602\n",
      "Epoch 57/100\n",
      "5409/5409 [==============================] - ETA: 1s - loss: 921.5406 - mean_squared_error: 921.54 - ETA: 0s - loss: 915.1220 - mean_squared_error: 915.12 - ETA: 0s - loss: 990.7546 - mean_squared_error: 990.75 - ETA: 0s - loss: 1053.6562 - mean_squared_error: 1053.65 - ETA: 0s - loss: 1097.5509 - mean_squared_error: 1097.55 - ETA: 0s - loss: 1024.2684 - mean_squared_error: 1024.26 - ETA: 0s - loss: 1115.8619 - mean_squared_error: 1115.86 - ETA: 0s - loss: 1105.2287 - mean_squared_error: 1105.22 - ETA: 0s - loss: 1074.3064 - mean_squared_error: 1074.30 - ETA: 0s - loss: 1106.6639 - mean_squared_error: 1106.66 - ETA: 0s - loss: 1123.6725 - mean_squared_error: 1123.67 - ETA: 0s - loss: 1137.0964 - mean_squared_error: 1137.09 - ETA: 0s - loss: 1133.3795 - mean_squared_error: 1133.37 - ETA: 0s - loss: 1132.0446 - mean_squared_error: 1132.04 - ETA: 0s - loss: 1152.2047 - mean_squared_error: 1152.20 - ETA: 0s - loss: 1150.1670 - mean_squared_error: 1150.16 - ETA: 0s - loss: 1181.6667 - mean_squared_error: 1181.66 - ETA: 0s - loss: 1181.6150 - mean_squared_error: 1181.61 - ETA: 0s - loss: 1175.9784 - mean_squared_error: 1175.97 - 1s 195us/sample - loss: 1180.6425 - mean_squared_error: 1180.6422\n",
      "Epoch 58/100\n"
     ]
    },
    {
     "name": "stdout",
     "output_type": "stream",
     "text": [
      "5409/5409 [==============================] - ETA: 0s - loss: 1237.4753 - mean_squared_error: 1237.47 - ETA: 0s - loss: 1224.6197 - mean_squared_error: 1224.61 - ETA: 0s - loss: 1205.2083 - mean_squared_error: 1205.20 - ETA: 0s - loss: 1201.1094 - mean_squared_error: 1201.10 - ETA: 0s - loss: 1238.0129 - mean_squared_error: 1238.01 - ETA: 0s - loss: 1197.5809 - mean_squared_error: 1197.58 - ETA: 0s - loss: 1173.3770 - mean_squared_error: 1173.37 - ETA: 0s - loss: 1181.8547 - mean_squared_error: 1181.85 - ETA: 0s - loss: 1164.7936 - mean_squared_error: 1164.79 - ETA: 0s - loss: 1160.8880 - mean_squared_error: 1160.88 - ETA: 0s - loss: 1188.2101 - mean_squared_error: 1188.21 - ETA: 0s - loss: 1195.6115 - mean_squared_error: 1195.61 - ETA: 0s - loss: 1183.8295 - mean_squared_error: 1183.82 - ETA: 0s - loss: 1156.3611 - mean_squared_error: 1156.36 - ETA: 0s - loss: 1156.3141 - mean_squared_error: 1156.31 - ETA: 0s - loss: 1140.1273 - mean_squared_error: 1140.12 - ETA: 0s - loss: 1142.6125 - mean_squared_error: 1142.61 - ETA: 0s - loss: 1145.5520 - mean_squared_error: 1145.55 - ETA: 0s - loss: 1168.2175 - mean_squared_error: 1168.21 - 1s 196us/sample - loss: 1168.4969 - mean_squared_error: 1168.4969\n",
      "Epoch 59/100\n",
      "5409/5409 [==============================] - ETA: 1s - loss: 1169.3751 - mean_squared_error: 1169.37 - ETA: 0s - loss: 1078.1223 - mean_squared_error: 1078.12 - ETA: 0s - loss: 1044.2463 - mean_squared_error: 1044.24 - ETA: 0s - loss: 1033.5652 - mean_squared_error: 1033.56 - ETA: 0s - loss: 1048.5548 - mean_squared_error: 1048.55 - ETA: 0s - loss: 1057.6982 - mean_squared_error: 1057.69 - ETA: 0s - loss: 1091.5180 - mean_squared_error: 1091.51 - ETA: 0s - loss: 1080.8306 - mean_squared_error: 1080.83 - ETA: 0s - loss: 1102.9594 - mean_squared_error: 1102.95 - ETA: 0s - loss: 1143.9805 - mean_squared_error: 1143.98 - ETA: 0s - loss: 1194.3131 - mean_squared_error: 1194.31 - ETA: 0s - loss: 1195.2349 - mean_squared_error: 1195.23 - ETA: 0s - loss: 1184.9888 - mean_squared_error: 1184.98 - ETA: 0s - loss: 1178.0529 - mean_squared_error: 1178.05 - ETA: 0s - loss: 1178.0556 - mean_squared_error: 1178.05 - ETA: 0s - loss: 1195.7981 - mean_squared_error: 1195.79 - ETA: 0s - loss: 1184.7709 - mean_squared_error: 1184.77 - ETA: 0s - loss: 1174.4305 - mean_squared_error: 1174.43 - ETA: 0s - loss: 1160.7588 - mean_squared_error: 1160.75 - ETA: 0s - loss: 1163.1868 - mean_squared_error: 1163.18 - ETA: 0s - loss: 1177.7353 - mean_squared_error: 1177.73 - 1s 209us/sample - loss: 1178.8144 - mean_squared_error: 1178.8143\n",
      "Epoch 60/100\n",
      "5409/5409 [==============================] - ETA: 1s - loss: 745.2059 - mean_squared_error: 745.20 - ETA: 1s - loss: 926.0425 - mean_squared_error: 926.04 - ETA: 1s - loss: 1082.5967 - mean_squared_error: 1082.59 - ETA: 0s - loss: 1067.1227 - mean_squared_error: 1067.12 - ETA: 0s - loss: 1176.6273 - mean_squared_error: 1176.62 - ETA: 0s - loss: 1252.1499 - mean_squared_error: 1252.15 - ETA: 0s - loss: 1248.6972 - mean_squared_error: 1248.69 - ETA: 0s - loss: 1249.8277 - mean_squared_error: 1249.82 - ETA: 0s - loss: 1212.2828 - mean_squared_error: 1212.28 - ETA: 0s - loss: 1194.3134 - mean_squared_error: 1194.31 - ETA: 0s - loss: 1204.8525 - mean_squared_error: 1204.85 - ETA: 0s - loss: 1208.7331 - mean_squared_error: 1208.73 - ETA: 0s - loss: 1207.8648 - mean_squared_error: 1207.86 - ETA: 0s - loss: 1221.5749 - mean_squared_error: 1221.57 - ETA: 0s - loss: 1242.2763 - mean_squared_error: 1242.27 - ETA: 0s - loss: 1227.7656 - mean_squared_error: 1227.76 - ETA: 0s - loss: 1222.3219 - mean_squared_error: 1222.32 - ETA: 0s - loss: 1216.9085 - mean_squared_error: 1216.90 - ETA: 0s - loss: 1221.1976 - mean_squared_error: 1221.19 - ETA: 0s - loss: 1222.4371 - mean_squared_error: 1222.43 - ETA: 0s - loss: 1210.7701 - mean_squared_error: 1210.76 - ETA: 0s - loss: 1204.3757 - mean_squared_error: 1204.37 - 1s 224us/sample - loss: 1189.3070 - mean_squared_error: 1189.3068\n",
      "Epoch 61/100\n",
      "5409/5409 [==============================] - ETA: 1s - loss: 1542.0312 - mean_squared_error: 1542.03 - ETA: 1s - loss: 1560.2804 - mean_squared_error: 1560.28 - ETA: 1s - loss: 1308.0616 - mean_squared_error: 1308.06 - ETA: 1s - loss: 1124.4531 - mean_squared_error: 1124.45 - ETA: 0s - loss: 1162.8282 - mean_squared_error: 1162.82 - ETA: 0s - loss: 1147.0590 - mean_squared_error: 1147.05 - ETA: 0s - loss: 1141.2745 - mean_squared_error: 1141.27 - ETA: 0s - loss: 1128.9311 - mean_squared_error: 1128.93 - ETA: 0s - loss: 1122.6028 - mean_squared_error: 1122.60 - ETA: 0s - loss: 1108.8893 - mean_squared_error: 1108.88 - ETA: 0s - loss: 1116.7133 - mean_squared_error: 1116.71 - ETA: 0s - loss: 1139.6973 - mean_squared_error: 1139.69 - ETA: 0s - loss: 1155.2182 - mean_squared_error: 1155.21 - ETA: 0s - loss: 1176.0291 - mean_squared_error: 1176.02 - ETA: 0s - loss: 1188.0850 - mean_squared_error: 1188.08 - ETA: 0s - loss: 1184.9232 - mean_squared_error: 1184.92 - ETA: 0s - loss: 1161.5485 - mean_squared_error: 1161.54 - ETA: 0s - loss: 1143.8739 - mean_squared_error: 1143.87 - ETA: 0s - loss: 1143.8460 - mean_squared_error: 1143.84 - ETA: 0s - loss: 1152.1371 - mean_squared_error: 1152.13 - ETA: 0s - loss: 1146.1551 - mean_squared_error: 1146.15 - ETA: 0s - loss: 1143.2959 - mean_squared_error: 1143.29 - ETA: 0s - loss: 1135.7372 - mean_squared_error: 1135.73 - ETA: 0s - loss: 1149.9634 - mean_squared_error: 1149.96 - 1s 238us/sample - loss: 1148.2580 - mean_squared_error: 1148.2578\n",
      "Epoch 62/100\n",
      "5409/5409 [==============================] - ETA: 2s - loss: 500.1381 - mean_squared_error: 500.13 - ETA: 1s - loss: 1044.7252 - mean_squared_error: 1044.72 - ETA: 1s - loss: 1030.3250 - mean_squared_error: 1030.32 - ETA: 0s - loss: 1176.6589 - mean_squared_error: 1176.65 - ETA: 0s - loss: 1172.5864 - mean_squared_error: 1172.58 - ETA: 0s - loss: 1160.3671 - mean_squared_error: 1160.36 - ETA: 0s - loss: 1135.1913 - mean_squared_error: 1135.19 - ETA: 0s - loss: 1140.9559 - mean_squared_error: 1140.95 - ETA: 0s - loss: 1134.6832 - mean_squared_error: 1134.68 - ETA: 0s - loss: 1151.0502 - mean_squared_error: 1151.05 - ETA: 0s - loss: 1118.3658 - mean_squared_error: 1118.36 - ETA: 0s - loss: 1124.5398 - mean_squared_error: 1124.53 - ETA: 0s - loss: 1134.6151 - mean_squared_error: 1134.61 - ETA: 0s - loss: 1129.7767 - mean_squared_error: 1129.77 - ETA: 0s - loss: 1131.3071 - mean_squared_error: 1131.30 - ETA: 0s - loss: 1146.7085 - mean_squared_error: 1146.70 - ETA: 0s - loss: 1139.1713 - mean_squared_error: 1139.17 - ETA: 0s - loss: 1147.1833 - mean_squared_error: 1147.18 - ETA: 0s - loss: 1160.8789 - mean_squared_error: 1160.87 - 1s 197us/sample - loss: 1148.1278 - mean_squared_error: 1148.1282\n",
      "Epoch 63/100\n",
      "5409/5409 [==============================] - ETA: 2s - loss: 1428.8314 - mean_squared_error: 1428.83 - ETA: 1s - loss: 1070.9991 - mean_squared_error: 1070.99 - ETA: 1s - loss: 1055.2174 - mean_squared_error: 1055.21 - ETA: 1s - loss: 1012.9003 - mean_squared_error: 1012.90 - ETA: 1s - loss: 1018.3965 - mean_squared_error: 1018.39 - ETA: 1s - loss: 1015.3363 - mean_squared_error: 1015.33 - ETA: 0s - loss: 1027.1777 - mean_squared_error: 1027.17 - ETA: 0s - loss: 1089.0438 - mean_squared_error: 1089.04 - ETA: 0s - loss: 1143.7738 - mean_squared_error: 1143.77 - ETA: 0s - loss: 1162.2981 - mean_squared_error: 1162.29 - ETA: 0s - loss: 1163.7761 - mean_squared_error: 1163.77 - ETA: 0s - loss: 1160.5622 - mean_squared_error: 1160.56 - ETA: 0s - loss: 1164.0725 - mean_squared_error: 1164.07 - ETA: 0s - loss: 1159.1571 - mean_squared_error: 1159.15 - ETA: 0s - loss: 1142.3365 - mean_squared_error: 1142.33 - ETA: 0s - loss: 1151.4326 - mean_squared_error: 1151.43 - ETA: 0s - loss: 1155.7278 - mean_squared_error: 1155.72 - ETA: 0s - loss: 1170.1475 - mean_squared_error: 1170.14 - ETA: 0s - loss: 1174.5080 - mean_squared_error: 1174.50 - ETA: 0s - loss: 1165.9371 - mean_squared_error: 1165.93 - ETA: 0s - loss: 1151.1051 - mean_squared_error: 1151.10 - 1s 215us/sample - loss: 1143.0436 - mean_squared_error: 1143.0435\n",
      "Epoch 64/100\n",
      "5409/5409 [==============================] - ETA: 1s - loss: 1406.6450 - mean_squared_error: 1406.64 - ETA: 0s - loss: 1173.6553 - mean_squared_error: 1173.65 - ETA: 0s - loss: 1218.5342 - mean_squared_error: 1218.53 - ETA: 0s - loss: 1222.4840 - mean_squared_error: 1222.48 - ETA: 0s - loss: 1163.6316 - mean_squared_error: 1163.63 - ETA: 0s - loss: 1158.9265 - mean_squared_error: 1158.92 - ETA: 0s - loss: 1182.8777 - mean_squared_error: 1182.87 - ETA: 0s - loss: 1181.0681 - mean_squared_error: 1181.06 - ETA: 0s - loss: 1180.0092 - mean_squared_error: 1180.00 - ETA: 0s - loss: 1183.9445 - mean_squared_error: 1183.94 - ETA: 0s - loss: 1181.4165 - mean_squared_error: 1181.41 - ETA: 0s - loss: 1134.0239 - mean_squared_error: 1134.02 - ETA: 0s - loss: 1154.1196 - mean_squared_error: 1154.11 - ETA: 0s - loss: 1172.7531 - mean_squared_error: 1172.75 - ETA: 0s - loss: 1159.2589 - mean_squared_error: 1159.25 - ETA: 0s - loss: 1170.6018 - mean_squared_error: 1170.60 - ETA: 0s - loss: 1173.3005 - mean_squared_error: 1173.30 - ETA: 0s - loss: 1164.3190 - mean_squared_error: 1164.31 - ETA: 0s - loss: 1152.7375 - mean_squared_error: 1152.73 - ETA: 0s - loss: 1149.0750 - mean_squared_error: 1149.07 - ETA: 0s - loss: 1155.3888 - mean_squared_error: 1155.38 - ETA: 0s - loss: 1158.6528 - mean_squared_error: 1158.65 - ETA: 0s - loss: 1153.3130 - mean_squared_error: 1153.31 - 1s 229us/sample - loss: 1153.7678 - mean_squared_error: 1153.7677\n",
      "Epoch 65/100\n",
      "5409/5409 [==============================] - ETA: 1s - loss: 690.9174 - mean_squared_error: 690.91 - ETA: 1s - loss: 1038.6094 - mean_squared_error: 1038.60 - ETA: 1s - loss: 1053.1163 - mean_squared_error: 1053.11 - ETA: 1s - loss: 1036.7028 - mean_squared_error: 1036.70 - ETA: 1s - loss: 1095.2947 - mean_squared_error: 1095.29 - ETA: 1s - loss: 1073.3586 - mean_squared_error: 1073.35 - ETA: 1s - loss: 1057.3321 - mean_squared_error: 1057.33 - ETA: 0s - loss: 1074.4750 - mean_squared_error: 1074.47 - ETA: 0s - loss: 1036.2163 - mean_squared_error: 1036.21 - ETA: 0s - loss: 1009.8591 - mean_squared_error: 1009.85 - ETA: 0s - loss: 1020.8292 - mean_squared_error: 1020.82 - ETA: 0s - loss: 1077.6612 - mean_squared_error: 1077.66 - ETA: 0s - loss: 1126.3232 - mean_squared_error: 1126.32 - ETA: 0s - loss: 1103.6582 - mean_squared_error: 1103.65 - ETA: 0s - loss: 1105.7345 - mean_squared_error: 1105.73 - ETA: 0s - loss: 1105.0398 - mean_squared_error: 1105.03 - ETA: 0s - loss: 1148.2310 - mean_squared_error: 1148.23 - ETA: 0s - loss: 1129.0244 - mean_squared_error: 1129.02 - ETA: 0s - loss: 1138.3752 - mean_squared_error: 1138.37 - ETA: 0s - loss: 1135.3541 - mean_squared_error: 1135.35 - ETA: 0s - loss: 1123.8065 - mean_squared_error: 1123.80 - ETA: 0s - loss: 1126.2494 - mean_squared_error: 1126.24 - 1s 225us/sample - loss: 1134.4374 - mean_squared_error: 1134.4374\n",
      "Epoch 66/100\n",
      "5409/5409 [==============================] - ETA: 1s - loss: 1196.8658 - mean_squared_error: 1196.86 - ETA: 0s - loss: 1191.3317 - mean_squared_error: 1191.33 - ETA: 0s - loss: 1235.1061 - mean_squared_error: 1235.10 - ETA: 0s - loss: 1207.2105 - mean_squared_error: 1207.21 - ETA: 0s - loss: 1216.4478 - mean_squared_error: 1216.44 - ETA: 0s - loss: 1186.4339 - mean_squared_error: 1186.43 - ETA: 0s - loss: 1179.9053 - mean_squared_error: 1179.90 - ETA: 0s - loss: 1264.3334 - mean_squared_error: 1264.33 - ETA: 0s - loss: 1259.4540 - mean_squared_error: 1259.45 - ETA: 0s - loss: 1230.6975 - mean_squared_error: 1230.69 - ETA: 0s - loss: 1206.5646 - mean_squared_error: 1206.56 - ETA: 0s - loss: 1194.5871 - mean_squared_error: 1194.58 - ETA: 0s - loss: 1183.0333 - mean_squared_error: 1183.03 - ETA: 0s - loss: 1179.9854 - mean_squared_error: 1179.98 - ETA: 0s - loss: 1164.7053 - mean_squared_error: 1164.70 - ETA: 0s - loss: 1169.7175 - mean_squared_error: 1169.71 - ETA: 0s - loss: 1164.3647 - mean_squared_error: 1164.36 - ETA: 0s - loss: 1145.1969 - mean_squared_error: 1145.19 - ETA: 0s - loss: 1151.0357 - mean_squared_error: 1151.03 - ETA: 0s - loss: 1144.0040 - mean_squared_error: 1144.00 - ETA: 0s - loss: 1144.5285 - mean_squared_error: 1144.52 - ETA: 0s - loss: 1143.7836 - mean_squared_error: 1143.78 - ETA: 0s - loss: 1144.9068 - mean_squared_error: 1144.90 - ETA: 0s - loss: 1139.0414 - mean_squared_error: 1139.04 - 1s 244us/sample - loss: 1138.2781 - mean_squared_error: 1138.2781\n",
      "Epoch 67/100\n",
      "5409/5409 [==============================] - ETA: 1s - loss: 710.0120 - mean_squared_error: 710.01 - ETA: 1s - loss: 1031.6032 - mean_squared_error: 1031.60 - ETA: 1s - loss: 1027.8583 - mean_squared_error: 1027.85 - ETA: 1s - loss: 1095.5615 - mean_squared_error: 1095.56 - ETA: 1s - loss: 1105.2407 - mean_squared_error: 1105.24 - ETA: 0s - loss: 1036.3299 - mean_squared_error: 1036.33 - ETA: 0s - loss: 1028.0598 - mean_squared_error: 1028.05 - ETA: 0s - loss: 998.9246 - mean_squared_error: 998.9246 - ETA: 0s - loss: 1004.1835 - mean_squared_error: 1004.18 - ETA: 0s - loss: 992.3651 - mean_squared_error: 992.3652 - ETA: 0s - loss: 1010.3421 - mean_squared_error: 1010.34 - ETA: 0s - loss: 1093.1490 - mean_squared_error: 1093.14 - ETA: 0s - loss: 1118.2270 - mean_squared_error: 1118.22 - ETA: 0s - loss: 1137.4082 - mean_squared_error: 1137.40 - ETA: 0s - loss: 1136.2169 - mean_squared_error: 1136.21 - ETA: 0s - loss: 1117.2544 - mean_squared_error: 1117.25 - ETA: 0s - loss: 1111.7280 - mean_squared_error: 1111.72 - ETA: 0s - loss: 1107.7330 - mean_squared_error: 1107.73 - ETA: 0s - loss: 1116.5850 - mean_squared_error: 1116.58 - ETA: 0s - loss: 1103.0617 - mean_squared_error: 1103.06 - ETA: 0s - loss: 1088.6122 - mean_squared_error: 1088.61 - ETA: 0s - loss: 1100.4443 - mean_squared_error: 1100.44 - ETA: 0s - loss: 1093.8638 - mean_squared_error: 1093.86 - ETA: 0s - loss: 1117.5857 - mean_squared_error: 1117.58 - ETA: 0s - loss: 1117.0704 - mean_squared_error: 1117.07 - 1s 259us/sample - loss: 1115.1921 - mean_squared_error: 1115.1923\n",
      "Epoch 68/100\n",
      "5409/5409 [==============================] - ETA: 1s - loss: 1756.1700 - mean_squared_error: 1756.17 - ETA: 1s - loss: 1714.7546 - mean_squared_error: 1714.75 - ETA: 1s - loss: 1334.3111 - mean_squared_error: 1334.31 - ETA: 1s - loss: 1189.8057 - mean_squared_error: 1189.80 - ETA: 1s - loss: 1140.6311 - mean_squared_error: 1140.63 - ETA: 0s - loss: 1143.3013 - mean_squared_error: 1143.30 - ETA: 0s - loss: 1157.5691 - mean_squared_error: 1157.56 - ETA: 0s - loss: 1185.9243 - mean_squared_error: 1185.92 - ETA: 0s - loss: 1206.4121 - mean_squared_error: 1206.41 - ETA: 0s - loss: 1204.9278 - mean_squared_error: 1204.92 - ETA: 0s - loss: 1186.3093 - mean_squared_error: 1186.30 - ETA: 0s - loss: 1159.6202 - mean_squared_error: 1159.62 - ETA: 0s - loss: 1155.6956 - mean_squared_error: 1155.69 - ETA: 0s - loss: 1149.5999 - mean_squared_error: 1149.60 - ETA: 0s - loss: 1134.3035 - mean_squared_error: 1134.30 - ETA: 0s - loss: 1139.4568 - mean_squared_error: 1139.45 - ETA: 0s - loss: 1139.6886 - mean_squared_error: 1139.68 - ETA: 0s - loss: 1134.6102 - mean_squared_error: 1134.61 - ETA: 0s - loss: 1146.2410 - mean_squared_error: 1146.24 - ETA: 0s - loss: 1153.6172 - mean_squared_error: 1153.61 - ETA: 0s - loss: 1161.0821 - mean_squared_error: 1161.08 - ETA: 0s - loss: 1155.1311 - mean_squared_error: 1155.13 - ETA: 0s - loss: 1138.5254 - mean_squared_error: 1138.52 - 1s 234us/sample - loss: 1150.8823 - mean_squared_error: 1150.8821\n",
      "Epoch 69/100\n"
     ]
    },
    {
     "name": "stdout",
     "output_type": "stream",
     "text": [
      "5409/5409 [==============================] - ETA: 1s - loss: 562.6899 - mean_squared_error: 562.68 - ETA: 0s - loss: 1063.2540 - mean_squared_error: 1063.25 - ETA: 0s - loss: 1031.6410 - mean_squared_error: 1031.64 - ETA: 0s - loss: 1115.5414 - mean_squared_error: 1115.54 - ETA: 0s - loss: 1061.3515 - mean_squared_error: 1061.35 - ETA: 0s - loss: 1060.1110 - mean_squared_error: 1060.11 - ETA: 0s - loss: 1097.1570 - mean_squared_error: 1097.15 - ETA: 0s - loss: 1123.3418 - mean_squared_error: 1123.34 - ETA: 0s - loss: 1129.1444 - mean_squared_error: 1129.14 - ETA: 0s - loss: 1148.7500 - mean_squared_error: 1148.74 - ETA: 0s - loss: 1114.4867 - mean_squared_error: 1114.48 - ETA: 0s - loss: 1083.5693 - mean_squared_error: 1083.56 - ETA: 0s - loss: 1092.1099 - mean_squared_error: 1092.10 - ETA: 0s - loss: 1111.9728 - mean_squared_error: 1111.97 - ETA: 0s - loss: 1104.4861 - mean_squared_error: 1104.48 - ETA: 0s - loss: 1108.8731 - mean_squared_error: 1108.87 - ETA: 0s - loss: 1111.3844 - mean_squared_error: 1111.38 - ETA: 0s - loss: 1107.4456 - mean_squared_error: 1107.44 - ETA: 0s - loss: 1128.0834 - mean_squared_error: 1128.08 - ETA: 0s - loss: 1136.6065 - mean_squared_error: 1136.60 - 1s 200us/sample - loss: 1144.4145 - mean_squared_error: 1144.4144\n",
      "Epoch 70/100\n",
      "5409/5409 [==============================] - ETA: 1s - loss: 1222.6907 - mean_squared_error: 1222.69 - ETA: 0s - loss: 1301.2762 - mean_squared_error: 1301.27 - ETA: 0s - loss: 1171.1185 - mean_squared_error: 1171.11 - ETA: 0s - loss: 1189.8741 - mean_squared_error: 1189.87 - ETA: 0s - loss: 1175.6534 - mean_squared_error: 1175.65 - ETA: 0s - loss: 1123.2182 - mean_squared_error: 1123.21 - ETA: 0s - loss: 1096.2990 - mean_squared_error: 1096.29 - ETA: 0s - loss: 1153.9573 - mean_squared_error: 1153.95 - ETA: 0s - loss: 1139.0314 - mean_squared_error: 1139.03 - ETA: 0s - loss: 1130.1740 - mean_squared_error: 1130.17 - ETA: 0s - loss: 1191.0205 - mean_squared_error: 1191.02 - ETA: 0s - loss: 1191.6476 - mean_squared_error: 1191.64 - ETA: 0s - loss: 1195.0235 - mean_squared_error: 1195.02 - ETA: 0s - loss: 1210.3353 - mean_squared_error: 1210.33 - ETA: 0s - loss: 1186.4672 - mean_squared_error: 1186.46 - ETA: 0s - loss: 1171.8805 - mean_squared_error: 1171.88 - ETA: 0s - loss: 1157.3626 - mean_squared_error: 1157.36 - ETA: 0s - loss: 1150.7061 - mean_squared_error: 1150.70 - ETA: 0s - loss: 1146.1308 - mean_squared_error: 1146.13 - ETA: 0s - loss: 1145.7278 - mean_squared_error: 1145.72 - 1s 204us/sample - loss: 1132.5506 - mean_squared_error: 1132.5508\n",
      "Epoch 71/100\n",
      "5409/5409 [==============================] - ETA: 1s - loss: 2276.9915 - mean_squared_error: 2276.99 - ETA: 0s - loss: 1217.0569 - mean_squared_error: 1217.05 - ETA: 0s - loss: 1423.1066 - mean_squared_error: 1423.10 - ETA: 0s - loss: 1386.5559 - mean_squared_error: 1386.55 - ETA: 0s - loss: 1326.7840 - mean_squared_error: 1326.78 - ETA: 0s - loss: 1284.0224 - mean_squared_error: 1284.02 - ETA: 0s - loss: 1263.3916 - mean_squared_error: 1263.39 - ETA: 0s - loss: 1278.3631 - mean_squared_error: 1278.36 - ETA: 0s - loss: 1252.5405 - mean_squared_error: 1252.54 - ETA: 0s - loss: 1210.8426 - mean_squared_error: 1210.84 - ETA: 0s - loss: 1196.7866 - mean_squared_error: 1196.78 - ETA: 0s - loss: 1164.0553 - mean_squared_error: 1164.05 - ETA: 0s - loss: 1191.7737 - mean_squared_error: 1191.77 - ETA: 0s - loss: 1163.1040 - mean_squared_error: 1163.10 - ETA: 0s - loss: 1167.4158 - mean_squared_error: 1167.41 - ETA: 0s - loss: 1171.8248 - mean_squared_error: 1171.82 - ETA: 0s - loss: 1172.3129 - mean_squared_error: 1172.31 - ETA: 0s - loss: 1160.4246 - mean_squared_error: 1160.42 - ETA: 0s - loss: 1164.6865 - mean_squared_error: 1164.68 - ETA: 0s - loss: 1157.4985 - mean_squared_error: 1157.49 - ETA: 0s - loss: 1143.6748 - mean_squared_error: 1143.67 - ETA: 0s - loss: 1136.3059 - mean_squared_error: 1136.30 - ETA: 0s - loss: 1128.6682 - mean_squared_error: 1128.66 - 1s 235us/sample - loss: 1128.3669 - mean_squared_error: 1128.3668\n",
      "Epoch 72/100\n",
      "5409/5409 [==============================] - ETA: 1s - loss: 1343.7358 - mean_squared_error: 1343.73 - ETA: 0s - loss: 1041.8004 - mean_squared_error: 1041.80 - ETA: 0s - loss: 1107.3272 - mean_squared_error: 1107.32 - ETA: 0s - loss: 990.3284 - mean_squared_error: 990.3284 - ETA: 0s - loss: 992.8415 - mean_squared_error: 992.84 - ETA: 0s - loss: 1000.9021 - mean_squared_error: 1000.90 - ETA: 0s - loss: 1060.7039 - mean_squared_error: 1060.70 - ETA: 0s - loss: 1039.4807 - mean_squared_error: 1039.48 - ETA: 0s - loss: 1060.2386 - mean_squared_error: 1060.23 - ETA: 0s - loss: 1154.7107 - mean_squared_error: 1154.71 - ETA: 0s - loss: 1198.8876 - mean_squared_error: 1198.88 - ETA: 0s - loss: 1195.7970 - mean_squared_error: 1195.79 - ETA: 0s - loss: 1194.6266 - mean_squared_error: 1194.62 - ETA: 0s - loss: 1207.5583 - mean_squared_error: 1207.55 - ETA: 0s - loss: 1187.8382 - mean_squared_error: 1187.83 - ETA: 0s - loss: 1182.1461 - mean_squared_error: 1182.14 - ETA: 0s - loss: 1177.1340 - mean_squared_error: 1177.13 - ETA: 0s - loss: 1158.4192 - mean_squared_error: 1158.41 - ETA: 0s - loss: 1160.6052 - mean_squared_error: 1160.60 - ETA: 0s - loss: 1160.1275 - mean_squared_error: 1160.12 - ETA: 0s - loss: 1148.0126 - mean_squared_error: 1148.01 - 1s 212us/sample - loss: 1146.6694 - mean_squared_error: 1146.6693\n",
      "Epoch 73/100\n",
      "5409/5409 [==============================] - ETA: 0s - loss: 1258.1056 - mean_squared_error: 1258.10 - ETA: 1s - loss: 910.7673 - mean_squared_error: 910.7673 - ETA: 1s - loss: 993.3054 - mean_squared_error: 993.30 - ETA: 1s - loss: 956.9661 - mean_squared_error: 956.96 - ETA: 0s - loss: 953.5604 - mean_squared_error: 953.56 - ETA: 0s - loss: 1024.6490 - mean_squared_error: 1024.64 - ETA: 0s - loss: 1053.0273 - mean_squared_error: 1053.02 - ETA: 0s - loss: 1031.8369 - mean_squared_error: 1031.83 - ETA: 0s - loss: 1036.8862 - mean_squared_error: 1036.88 - ETA: 0s - loss: 1013.7459 - mean_squared_error: 1013.74 - ETA: 0s - loss: 1029.4765 - mean_squared_error: 1029.47 - ETA: 0s - loss: 1023.5780 - mean_squared_error: 1023.57 - ETA: 0s - loss: 1055.4113 - mean_squared_error: 1055.41 - ETA: 0s - loss: 1050.6634 - mean_squared_error: 1050.66 - ETA: 0s - loss: 1058.5754 - mean_squared_error: 1058.57 - ETA: 0s - loss: 1087.6520 - mean_squared_error: 1087.65 - ETA: 0s - loss: 1129.6158 - mean_squared_error: 1129.61 - ETA: 0s - loss: 1109.0666 - mean_squared_error: 1109.06 - ETA: 0s - loss: 1119.6717 - mean_squared_error: 1119.67 - ETA: 0s - loss: 1115.6128 - mean_squared_error: 1115.61 - ETA: 0s - loss: 1103.7596 - mean_squared_error: 1103.75 - ETA: 0s - loss: 1105.6955 - mean_squared_error: 1105.69 - ETA: 0s - loss: 1098.9467 - mean_squared_error: 1098.94 - 1s 240us/sample - loss: 1097.2927 - mean_squared_error: 1097.2926\n",
      "Epoch 74/100\n",
      "5409/5409 [==============================] - ETA: 1s - loss: 906.4103 - mean_squared_error: 906.41 - ETA: 1s - loss: 938.5099 - mean_squared_error: 938.51 - ETA: 1s - loss: 994.1225 - mean_squared_error: 994.12 - ETA: 1s - loss: 885.0615 - mean_squared_error: 885.06 - ETA: 1s - loss: 944.1235 - mean_squared_error: 944.12 - ETA: 1s - loss: 965.8758 - mean_squared_error: 965.87 - ETA: 0s - loss: 988.0057 - mean_squared_error: 988.00 - ETA: 0s - loss: 1000.7520 - mean_squared_error: 1000.75 - ETA: 0s - loss: 988.3480 - mean_squared_error: 988.3481 - ETA: 0s - loss: 987.6039 - mean_squared_error: 987.60 - ETA: 0s - loss: 1057.2675 - mean_squared_error: 1057.26 - ETA: 0s - loss: 1104.0068 - mean_squared_error: 1104.00 - ETA: 0s - loss: 1091.8835 - mean_squared_error: 1091.88 - ETA: 0s - loss: 1089.1887 - mean_squared_error: 1089.18 - ETA: 0s - loss: 1075.9618 - mean_squared_error: 1075.96 - ETA: 0s - loss: 1117.2885 - mean_squared_error: 1117.28 - ETA: 0s - loss: 1121.3572 - mean_squared_error: 1121.35 - ETA: 0s - loss: 1134.9648 - mean_squared_error: 1134.96 - ETA: 0s - loss: 1129.6162 - mean_squared_error: 1129.61 - ETA: 0s - loss: 1117.7795 - mean_squared_error: 1117.77 - ETA: 0s - loss: 1118.8633 - mean_squared_error: 1118.86 - ETA: 0s - loss: 1093.9542 - mean_squared_error: 1093.95 - ETA: 0s - loss: 1107.7017 - mean_squared_error: 1107.70 - ETA: 0s - loss: 1122.4113 - mean_squared_error: 1122.41 - ETA: 0s - loss: 1129.6362 - mean_squared_error: 1129.63 - ETA: 0s - loss: 1124.2867 - mean_squared_error: 1124.28 - ETA: 0s - loss: 1120.6921 - mean_squared_error: 1120.69 - 2s 283us/sample - loss: 1111.6940 - mean_squared_error: 1111.6940\n",
      "Epoch 75/100\n",
      "5409/5409 [==============================] - ETA: 0s - loss: 1839.3773 - mean_squared_error: 1839.37 - ETA: 1s - loss: 1323.0678 - mean_squared_error: 1323.06 - ETA: 1s - loss: 1360.5231 - mean_squared_error: 1360.52 - ETA: 0s - loss: 1180.6758 - mean_squared_error: 1180.67 - ETA: 0s - loss: 1182.2099 - mean_squared_error: 1182.21 - ETA: 0s - loss: 1138.9316 - mean_squared_error: 1138.93 - ETA: 0s - loss: 1146.0023 - mean_squared_error: 1146.00 - ETA: 0s - loss: 1120.7486 - mean_squared_error: 1120.74 - ETA: 0s - loss: 1093.9797 - mean_squared_error: 1093.97 - ETA: 0s - loss: 1174.5373 - mean_squared_error: 1174.53 - ETA: 0s - loss: 1145.3529 - mean_squared_error: 1145.35 - ETA: 0s - loss: 1146.4692 - mean_squared_error: 1146.46 - ETA: 0s - loss: 1137.2738 - mean_squared_error: 1137.27 - ETA: 0s - loss: 1125.0672 - mean_squared_error: 1125.06 - ETA: 0s - loss: 1136.2413 - mean_squared_error: 1136.24 - ETA: 0s - loss: 1128.9723 - mean_squared_error: 1128.97 - ETA: 0s - loss: 1137.2473 - mean_squared_error: 1137.24 - ETA: 0s - loss: 1141.9338 - mean_squared_error: 1141.93 - ETA: 0s - loss: 1146.5724 - mean_squared_error: 1146.57 - ETA: 0s - loss: 1145.5461 - mean_squared_error: 1145.54 - ETA: 0s - loss: 1129.3370 - mean_squared_error: 1129.33 - 1s 216us/sample - loss: 1140.3775 - mean_squared_error: 1140.3776\n",
      "Epoch 76/100\n",
      "5409/5409 [==============================] - ETA: 1s - loss: 1159.0793 - mean_squared_error: 1159.07 - ETA: 1s - loss: 1015.1088 - mean_squared_error: 1015.10 - ETA: 1s - loss: 1003.6729 - mean_squared_error: 1003.67 - ETA: 1s - loss: 1075.5027 - mean_squared_error: 1075.50 - ETA: 0s - loss: 1060.7637 - mean_squared_error: 1060.76 - ETA: 0s - loss: 1075.2023 - mean_squared_error: 1075.20 - ETA: 0s - loss: 1117.4728 - mean_squared_error: 1117.47 - ETA: 0s - loss: 1112.2882 - mean_squared_error: 1112.28 - ETA: 0s - loss: 1106.5832 - mean_squared_error: 1106.58 - ETA: 0s - loss: 1089.3305 - mean_squared_error: 1089.33 - ETA: 0s - loss: 1106.9775 - mean_squared_error: 1106.97 - ETA: 0s - loss: 1120.2564 - mean_squared_error: 1120.25 - ETA: 0s - loss: 1105.5340 - mean_squared_error: 1105.53 - ETA: 0s - loss: 1129.5516 - mean_squared_error: 1129.55 - ETA: 0s - loss: 1118.3151 - mean_squared_error: 1118.31 - ETA: 0s - loss: 1120.7510 - mean_squared_error: 1120.75 - ETA: 0s - loss: 1105.1809 - mean_squared_error: 1105.18 - ETA: 0s - loss: 1116.0765 - mean_squared_error: 1116.07 - ETA: 0s - loss: 1111.8221 - mean_squared_error: 1111.82 - ETA: 0s - loss: 1117.4347 - mean_squared_error: 1117.43 - ETA: 0s - loss: 1119.4678 - mean_squared_error: 1119.46 - ETA: 0s - loss: 1128.6426 - mean_squared_error: 1128.64 - 1s 218us/sample - loss: 1128.4544 - mean_squared_error: 1128.4545\n",
      "Epoch 77/100\n",
      "5409/5409 [==============================] - ETA: 1s - loss: 766.3547 - mean_squared_error: 766.35 - ETA: 0s - loss: 1346.9047 - mean_squared_error: 1346.90 - ETA: 0s - loss: 1221.1621 - mean_squared_error: 1221.16 - ETA: 0s - loss: 1245.2792 - mean_squared_error: 1245.27 - ETA: 0s - loss: 1277.6142 - mean_squared_error: 1277.61 - ETA: 0s - loss: 1262.5304 - mean_squared_error: 1262.53 - ETA: 0s - loss: 1256.6610 - mean_squared_error: 1256.66 - ETA: 0s - loss: 1231.8963 - mean_squared_error: 1231.89 - ETA: 0s - loss: 1184.6076 - mean_squared_error: 1184.60 - ETA: 0s - loss: 1156.9165 - mean_squared_error: 1156.91 - ETA: 0s - loss: 1157.4013 - mean_squared_error: 1157.40 - ETA: 0s - loss: 1145.8395 - mean_squared_error: 1145.83 - ETA: 0s - loss: 1114.2508 - mean_squared_error: 1114.25 - ETA: 0s - loss: 1102.9660 - mean_squared_error: 1102.96 - ETA: 0s - loss: 1101.8827 - mean_squared_error: 1101.88 - ETA: 0s - loss: 1099.6577 - mean_squared_error: 1099.65 - ETA: 0s - loss: 1095.5085 - mean_squared_error: 1095.50 - ETA: 0s - loss: 1087.4360 - mean_squared_error: 1087.43 - 1s 179us/sample - loss: 1115.6630 - mean_squared_error: 1115.6628\n",
      "Epoch 78/100\n",
      "5409/5409 [==============================] - ETA: 1s - loss: 1116.2646 - mean_squared_error: 1116.26 - ETA: 0s - loss: 1131.4576 - mean_squared_error: 1131.45 - ETA: 0s - loss: 1049.6034 - mean_squared_error: 1049.60 - ETA: 0s - loss: 1132.1391 - mean_squared_error: 1132.13 - ETA: 0s - loss: 1085.5370 - mean_squared_error: 1085.53 - ETA: 0s - loss: 1033.4801 - mean_squared_error: 1033.48 - ETA: 0s - loss: 1070.1875 - mean_squared_error: 1070.18 - ETA: 0s - loss: 1071.1022 - mean_squared_error: 1071.10 - ETA: 0s - loss: 1056.9787 - mean_squared_error: 1056.97 - ETA: 0s - loss: 1105.8222 - mean_squared_error: 1105.82 - ETA: 0s - loss: 1080.3662 - mean_squared_error: 1080.36 - ETA: 0s - loss: 1090.1106 - mean_squared_error: 1090.11 - ETA: 0s - loss: 1112.9893 - mean_squared_error: 1112.98 - ETA: 0s - loss: 1145.6529 - mean_squared_error: 1145.65 - ETA: 0s - loss: 1131.6470 - mean_squared_error: 1131.64 - ETA: 0s - loss: 1133.5836 - mean_squared_error: 1133.58 - ETA: 0s - loss: 1114.7183 - mean_squared_error: 1114.71 - ETA: 0s - loss: 1113.8326 - mean_squared_error: 1113.83 - 1s 178us/sample - loss: 1104.7058 - mean_squared_error: 1104.7057\n",
      "Epoch 79/100\n",
      "5409/5409 [==============================] - ETA: 0s - loss: 1146.3983 - mean_squared_error: 1146.39 - ETA: 0s - loss: 1032.3141 - mean_squared_error: 1032.31 - ETA: 0s - loss: 990.8809 - mean_squared_error: 990.8809 - ETA: 0s - loss: 1017.8536 - mean_squared_error: 1017.85 - ETA: 0s - loss: 1055.7555 - mean_squared_error: 1055.75 - ETA: 0s - loss: 1156.0609 - mean_squared_error: 1156.06 - ETA: 0s - loss: 1083.5007 - mean_squared_error: 1083.50 - ETA: 0s - loss: 1099.1013 - mean_squared_error: 1099.10 - ETA: 0s - loss: 1080.4838 - mean_squared_error: 1080.48 - ETA: 0s - loss: 1093.3700 - mean_squared_error: 1093.36 - ETA: 0s - loss: 1108.3851 - mean_squared_error: 1108.38 - ETA: 0s - loss: 1114.0639 - mean_squared_error: 1114.06 - ETA: 0s - loss: 1091.6514 - mean_squared_error: 1091.65 - ETA: 0s - loss: 1081.2973 - mean_squared_error: 1081.29 - ETA: 0s - loss: 1094.9011 - mean_squared_error: 1094.90 - ETA: 0s - loss: 1110.6059 - mean_squared_error: 1110.60 - ETA: 0s - loss: 1104.8069 - mean_squared_error: 1104.80 - ETA: 0s - loss: 1102.5859 - mean_squared_error: 1102.58 - ETA: 0s - loss: 1102.9863 - mean_squared_error: 1102.98 - 1s 184us/sample - loss: 1102.5367 - mean_squared_error: 1102.5367\n",
      "Epoch 80/100\n"
     ]
    },
    {
     "name": "stdout",
     "output_type": "stream",
     "text": [
      "5409/5409 [==============================] - ETA: 0s - loss: 1116.5972 - mean_squared_error: 1116.59 - ETA: 1s - loss: 1084.8980 - mean_squared_error: 1084.89 - ETA: 0s - loss: 1193.4125 - mean_squared_error: 1193.41 - ETA: 0s - loss: 1111.9351 - mean_squared_error: 1111.93 - ETA: 0s - loss: 1098.2555 - mean_squared_error: 1098.25 - ETA: 0s - loss: 1071.5796 - mean_squared_error: 1071.57 - ETA: 0s - loss: 1026.6580 - mean_squared_error: 1026.65 - ETA: 0s - loss: 1030.1151 - mean_squared_error: 1030.11 - ETA: 0s - loss: 1046.9573 - mean_squared_error: 1046.95 - ETA: 0s - loss: 1103.2106 - mean_squared_error: 1103.21 - ETA: 0s - loss: 1102.5392 - mean_squared_error: 1102.53 - ETA: 0s - loss: 1106.1721 - mean_squared_error: 1106.17 - ETA: 0s - loss: 1112.9179 - mean_squared_error: 1112.91 - ETA: 0s - loss: 1116.8830 - mean_squared_error: 1116.88 - ETA: 0s - loss: 1117.2788 - mean_squared_error: 1117.27 - ETA: 0s - loss: 1128.4014 - mean_squared_error: 1128.40 - ETA: 0s - loss: 1132.0236 - mean_squared_error: 1132.02 - ETA: 0s - loss: 1129.8412 - mean_squared_error: 1129.84 - ETA: 0s - loss: 1124.2511 - mean_squared_error: 1124.25 - 1s 188us/sample - loss: 1115.5863 - mean_squared_error: 1115.5863\n",
      "Epoch 81/100\n",
      "5409/5409 [==============================] - ETA: 1s - loss: 352.6328 - mean_squared_error: 352.63 - ETA: 0s - loss: 952.4678 - mean_squared_error: 952.46 - ETA: 0s - loss: 1060.2786 - mean_squared_error: 1060.27 - ETA: 0s - loss: 1077.6214 - mean_squared_error: 1077.62 - ETA: 0s - loss: 1104.3915 - mean_squared_error: 1104.39 - ETA: 0s - loss: 1100.9060 - mean_squared_error: 1100.90 - ETA: 0s - loss: 1116.8397 - mean_squared_error: 1116.83 - ETA: 0s - loss: 1080.2768 - mean_squared_error: 1080.27 - ETA: 0s - loss: 1105.8026 - mean_squared_error: 1105.80 - ETA: 0s - loss: 1116.7144 - mean_squared_error: 1116.71 - ETA: 0s - loss: 1108.4678 - mean_squared_error: 1108.46 - ETA: 0s - loss: 1114.3470 - mean_squared_error: 1114.34 - ETA: 0s - loss: 1109.3345 - mean_squared_error: 1109.33 - ETA: 0s - loss: 1097.6931 - mean_squared_error: 1097.69 - ETA: 0s - loss: 1098.7040 - mean_squared_error: 1098.70 - ETA: 0s - loss: 1090.3712 - mean_squared_error: 1090.37 - ETA: 0s - loss: 1090.5176 - mean_squared_error: 1090.51 - ETA: 0s - loss: 1086.6871 - mean_squared_error: 1086.68 - 1s 178us/sample - loss: 1093.4033 - mean_squared_error: 1093.4030\n",
      "Epoch 82/100\n",
      "5409/5409 [==============================] - ETA: 1s - loss: 1592.7009 - mean_squared_error: 1592.70 - ETA: 0s - loss: 1183.0934 - mean_squared_error: 1183.09 - ETA: 0s - loss: 1186.9026 - mean_squared_error: 1186.90 - ETA: 0s - loss: 1136.3408 - mean_squared_error: 1136.34 - ETA: 0s - loss: 1136.2390 - mean_squared_error: 1136.23 - ETA: 0s - loss: 1082.6538 - mean_squared_error: 1082.65 - ETA: 0s - loss: 1087.5467 - mean_squared_error: 1087.54 - ETA: 0s - loss: 1115.2645 - mean_squared_error: 1115.26 - ETA: 0s - loss: 1118.1499 - mean_squared_error: 1118.14 - ETA: 0s - loss: 1103.8483 - mean_squared_error: 1103.84 - ETA: 0s - loss: 1114.6107 - mean_squared_error: 1114.61 - ETA: 0s - loss: 1106.2225 - mean_squared_error: 1106.22 - ETA: 0s - loss: 1138.6674 - mean_squared_error: 1138.66 - ETA: 0s - loss: 1128.5701 - mean_squared_error: 1128.57 - ETA: 0s - loss: 1139.2128 - mean_squared_error: 1139.21 - ETA: 0s - loss: 1130.8502 - mean_squared_error: 1130.85 - ETA: 0s - loss: 1127.1922 - mean_squared_error: 1127.19 - ETA: 0s - loss: 1117.2797 - mean_squared_error: 1117.27 - ETA: 0s - loss: 1108.8175 - mean_squared_error: 1108.81 - 1s 187us/sample - loss: 1102.4090 - mean_squared_error: 1102.4088\n",
      "Epoch 83/100\n",
      "5409/5409 [==============================] - ETA: 1s - loss: 938.5633 - mean_squared_error: 938.56 - ETA: 1s - loss: 1250.3469 - mean_squared_error: 1250.34 - ETA: 0s - loss: 1158.0497 - mean_squared_error: 1158.04 - ETA: 0s - loss: 1132.4805 - mean_squared_error: 1132.48 - ETA: 0s - loss: 1079.0563 - mean_squared_error: 1079.05 - ETA: 0s - loss: 1069.8358 - mean_squared_error: 1069.83 - ETA: 0s - loss: 1032.8407 - mean_squared_error: 1032.84 - ETA: 0s - loss: 1069.2733 - mean_squared_error: 1069.27 - ETA: 0s - loss: 1068.6452 - mean_squared_error: 1068.64 - ETA: 0s - loss: 1043.8239 - mean_squared_error: 1043.82 - ETA: 0s - loss: 1040.7630 - mean_squared_error: 1040.76 - ETA: 0s - loss: 1028.8531 - mean_squared_error: 1028.85 - ETA: 0s - loss: 1044.9695 - mean_squared_error: 1044.96 - ETA: 0s - loss: 1047.7100 - mean_squared_error: 1047.70 - ETA: 0s - loss: 1058.5894 - mean_squared_error: 1058.58 - ETA: 0s - loss: 1081.1114 - mean_squared_error: 1081.11 - ETA: 0s - loss: 1083.5947 - mean_squared_error: 1083.59 - ETA: 0s - loss: 1100.1126 - mean_squared_error: 1100.11 - ETA: 0s - loss: 1119.8473 - mean_squared_error: 1119.84 - 1s 188us/sample - loss: 1114.1737 - mean_squared_error: 1114.1736\n",
      "Epoch 84/100\n",
      "5409/5409 [==============================] - ETA: 1s - loss: 1917.0878 - mean_squared_error: 1917.08 - ETA: 0s - loss: 1158.2381 - mean_squared_error: 1158.23 - ETA: 0s - loss: 1017.8383 - mean_squared_error: 1017.83 - ETA: 0s - loss: 1005.0542 - mean_squared_error: 1005.05 - ETA: 0s - loss: 1031.6456 - mean_squared_error: 1031.64 - ETA: 0s - loss: 1110.4954 - mean_squared_error: 1110.49 - ETA: 0s - loss: 1083.4036 - mean_squared_error: 1083.40 - ETA: 0s - loss: 1069.7939 - mean_squared_error: 1069.79 - ETA: 0s - loss: 1072.7021 - mean_squared_error: 1072.70 - ETA: 0s - loss: 1038.2735 - mean_squared_error: 1038.27 - ETA: 0s - loss: 1027.3285 - mean_squared_error: 1027.32 - ETA: 0s - loss: 1023.9994 - mean_squared_error: 1023.99 - ETA: 0s - loss: 1043.3807 - mean_squared_error: 1043.38 - ETA: 0s - loss: 1041.0551 - mean_squared_error: 1041.05 - ETA: 0s - loss: 1036.7821 - mean_squared_error: 1036.78 - ETA: 0s - loss: 1052.2031 - mean_squared_error: 1052.20 - ETA: 0s - loss: 1066.3376 - mean_squared_error: 1066.33 - ETA: 0s - loss: 1063.2393 - mean_squared_error: 1063.23 - ETA: 0s - loss: 1059.2002 - mean_squared_error: 1059.20 - 1s 186us/sample - loss: 1071.9218 - mean_squared_error: 1071.9219\n",
      "Epoch 85/100\n",
      "5409/5409 [==============================] - ETA: 0s - loss: 768.7823 - mean_squared_error: 768.78 - ETA: 0s - loss: 1254.1919 - mean_squared_error: 1254.19 - ETA: 0s - loss: 1257.2405 - mean_squared_error: 1257.24 - ETA: 0s - loss: 1197.7278 - mean_squared_error: 1197.72 - ETA: 0s - loss: 1197.5523 - mean_squared_error: 1197.55 - ETA: 0s - loss: 1144.3420 - mean_squared_error: 1144.34 - ETA: 0s - loss: 1154.0424 - mean_squared_error: 1154.04 - ETA: 0s - loss: 1125.8359 - mean_squared_error: 1125.83 - ETA: 0s - loss: 1139.0242 - mean_squared_error: 1139.02 - ETA: 0s - loss: 1124.6593 - mean_squared_error: 1124.65 - ETA: 0s - loss: 1127.9361 - mean_squared_error: 1127.93 - ETA: 0s - loss: 1113.1263 - mean_squared_error: 1113.12 - ETA: 0s - loss: 1112.0479 - mean_squared_error: 1112.04 - ETA: 0s - loss: 1108.1944 - mean_squared_error: 1108.19 - ETA: 0s - loss: 1114.3830 - mean_squared_error: 1114.38 - ETA: 0s - loss: 1129.3161 - mean_squared_error: 1129.31 - ETA: 0s - loss: 1111.4349 - mean_squared_error: 1111.43 - ETA: 0s - loss: 1108.0308 - mean_squared_error: 1108.03 - 1s 178us/sample - loss: 1096.4459 - mean_squared_error: 1096.4459\n",
      "Epoch 86/100\n",
      "5409/5409 [==============================] - ETA: 1s - loss: 2082.8052 - mean_squared_error: 2082.80 - ETA: 0s - loss: 1524.6772 - mean_squared_error: 1524.67 - ETA: 0s - loss: 1172.6111 - mean_squared_error: 1172.61 - ETA: 0s - loss: 1155.6753 - mean_squared_error: 1155.67 - ETA: 0s - loss: 1084.5438 - mean_squared_error: 1084.54 - ETA: 0s - loss: 1077.4386 - mean_squared_error: 1077.43 - ETA: 0s - loss: 1064.8719 - mean_squared_error: 1064.87 - ETA: 0s - loss: 1073.5694 - mean_squared_error: 1073.56 - ETA: 0s - loss: 1105.5742 - mean_squared_error: 1105.57 - ETA: 0s - loss: 1088.6665 - mean_squared_error: 1088.66 - ETA: 0s - loss: 1106.2400 - mean_squared_error: 1106.24 - ETA: 0s - loss: 1108.2938 - mean_squared_error: 1108.29 - ETA: 0s - loss: 1114.4891 - mean_squared_error: 1114.48 - ETA: 0s - loss: 1112.8054 - mean_squared_error: 1112.80 - ETA: 0s - loss: 1091.4519 - mean_squared_error: 1091.45 - ETA: 0s - loss: 1105.2773 - mean_squared_error: 1105.27 - ETA: 0s - loss: 1108.6250 - mean_squared_error: 1108.62 - ETA: 0s - loss: 1095.5107 - mean_squared_error: 1095.51 - ETA: 0s - loss: 1085.2625 - mean_squared_error: 1085.26 - 1s 185us/sample - loss: 1090.3762 - mean_squared_error: 1090.3761\n",
      "Epoch 87/100\n",
      "5409/5409 [==============================] - ETA: 1s - loss: 653.8894 - mean_squared_error: 653.88 - ETA: 0s - loss: 890.7802 - mean_squared_error: 890.78 - ETA: 0s - loss: 1145.1243 - mean_squared_error: 1145.12 - ETA: 0s - loss: 1047.4936 - mean_squared_error: 1047.49 - ETA: 0s - loss: 1003.8215 - mean_squared_error: 1003.82 - ETA: 0s - loss: 1050.7062 - mean_squared_error: 1050.70 - ETA: 0s - loss: 1071.4728 - mean_squared_error: 1071.47 - ETA: 0s - loss: 1029.4312 - mean_squared_error: 1029.43 - ETA: 0s - loss: 1044.3591 - mean_squared_error: 1044.35 - ETA: 0s - loss: 1060.0551 - mean_squared_error: 1060.05 - ETA: 0s - loss: 1099.6275 - mean_squared_error: 1099.62 - ETA: 0s - loss: 1122.2430 - mean_squared_error: 1122.24 - ETA: 0s - loss: 1145.3891 - mean_squared_error: 1145.38 - ETA: 0s - loss: 1132.0301 - mean_squared_error: 1132.03 - ETA: 0s - loss: 1135.0425 - mean_squared_error: 1135.04 - ETA: 0s - loss: 1133.8450 - mean_squared_error: 1133.84 - ETA: 0s - loss: 1145.0769 - mean_squared_error: 1145.07 - ETA: 0s - loss: 1115.5718 - mean_squared_error: 1115.57 - ETA: 0s - loss: 1113.8203 - mean_squared_error: 1113.81 - ETA: 0s - loss: 1117.5499 - mean_squared_error: 1117.54 - 1s 196us/sample - loss: 1115.2438 - mean_squared_error: 1115.2434\n",
      "Epoch 88/100\n",
      "5409/5409 [==============================] - ETA: 0s - loss: 1181.2756 - mean_squared_error: 1181.27 - ETA: 1s - loss: 1295.3351 - mean_squared_error: 1295.33 - ETA: 0s - loss: 1072.0602 - mean_squared_error: 1072.06 - ETA: 0s - loss: 1079.9853 - mean_squared_error: 1079.98 - ETA: 0s - loss: 1095.4263 - mean_squared_error: 1095.42 - ETA: 0s - loss: 1069.8700 - mean_squared_error: 1069.87 - ETA: 0s - loss: 1047.4863 - mean_squared_error: 1047.48 - ETA: 0s - loss: 1040.9228 - mean_squared_error: 1040.92 - ETA: 0s - loss: 1055.4688 - mean_squared_error: 1055.46 - ETA: 0s - loss: 1063.7913 - mean_squared_error: 1063.79 - ETA: 0s - loss: 1052.0140 - mean_squared_error: 1052.01 - ETA: 0s - loss: 1085.0149 - mean_squared_error: 1085.01 - ETA: 0s - loss: 1108.1375 - mean_squared_error: 1108.13 - ETA: 0s - loss: 1111.1613 - mean_squared_error: 1111.16 - ETA: 0s - loss: 1094.5951 - mean_squared_error: 1094.59 - ETA: 0s - loss: 1076.8213 - mean_squared_error: 1076.82 - ETA: 0s - loss: 1062.9142 - mean_squared_error: 1062.91 - ETA: 0s - loss: 1041.6853 - mean_squared_error: 1041.68 - ETA: 0s - loss: 1053.8845 - mean_squared_error: 1053.88 - ETA: 0s - loss: 1057.3129 - mean_squared_error: 1057.31 - 1s 200us/sample - loss: 1058.7110 - mean_squared_error: 1058.7109\n",
      "Epoch 89/100\n",
      "5409/5409 [==============================] - ETA: 0s - loss: 1053.9375 - mean_squared_error: 1053.93 - ETA: 1s - loss: 1780.9893 - mean_squared_error: 1780.98 - ETA: 0s - loss: 1482.3045 - mean_squared_error: 1482.30 - ETA: 0s - loss: 1492.2034 - mean_squared_error: 1492.20 - ETA: 0s - loss: 1380.2039 - mean_squared_error: 1380.20 - ETA: 0s - loss: 1299.5721 - mean_squared_error: 1299.57 - ETA: 0s - loss: 1258.9689 - mean_squared_error: 1258.96 - ETA: 0s - loss: 1274.8083 - mean_squared_error: 1274.80 - ETA: 0s - loss: 1256.2656 - mean_squared_error: 1256.26 - ETA: 0s - loss: 1196.8985 - mean_squared_error: 1196.89 - ETA: 0s - loss: 1165.9381 - mean_squared_error: 1165.93 - ETA: 0s - loss: 1141.8177 - mean_squared_error: 1141.81 - ETA: 0s - loss: 1122.5901 - mean_squared_error: 1122.59 - ETA: 0s - loss: 1126.0213 - mean_squared_error: 1126.02 - ETA: 0s - loss: 1132.4038 - mean_squared_error: 1132.40 - ETA: 0s - loss: 1123.2777 - mean_squared_error: 1123.27 - ETA: 0s - loss: 1109.4689 - mean_squared_error: 1109.46 - ETA: 0s - loss: 1113.7606 - mean_squared_error: 1113.76 - ETA: 0s - loss: 1113.2307 - mean_squared_error: 1113.23 - ETA: 0s - loss: 1109.6944 - mean_squared_error: 1109.69 - 1s 198us/sample - loss: 1108.3204 - mean_squared_error: 1108.3203\n",
      "Epoch 90/100\n",
      "5409/5409 [==============================] - ETA: 0s - loss: 555.6736 - mean_squared_error: 555.67 - ETA: 0s - loss: 781.8420 - mean_squared_error: 781.84 - ETA: 0s - loss: 817.5304 - mean_squared_error: 817.53 - ETA: 0s - loss: 1032.2345 - mean_squared_error: 1032.23 - ETA: 0s - loss: 1165.2535 - mean_squared_error: 1165.25 - ETA: 0s - loss: 1138.0316 - mean_squared_error: 1138.03 - ETA: 0s - loss: 1157.3904 - mean_squared_error: 1157.39 - ETA: 0s - loss: 1174.1908 - mean_squared_error: 1174.19 - ETA: 0s - loss: 1160.9220 - mean_squared_error: 1160.92 - ETA: 0s - loss: 1163.9138 - mean_squared_error: 1163.91 - ETA: 0s - loss: 1161.7913 - mean_squared_error: 1161.79 - ETA: 0s - loss: 1150.9556 - mean_squared_error: 1150.95 - ETA: 0s - loss: 1125.5768 - mean_squared_error: 1125.57 - ETA: 0s - loss: 1110.6748 - mean_squared_error: 1110.67 - ETA: 0s - loss: 1087.7658 - mean_squared_error: 1087.76 - ETA: 0s - loss: 1069.7171 - mean_squared_error: 1069.71 - ETA: 0s - loss: 1080.6283 - mean_squared_error: 1080.62 - ETA: 0s - loss: 1083.9735 - mean_squared_error: 1083.97 - 1s 178us/sample - loss: 1085.1613 - mean_squared_error: 1085.1611\n",
      "Epoch 91/100\n",
      "5409/5409 [==============================] - ETA: 1s - loss: 960.7445 - mean_squared_error: 960.74 - ETA: 0s - loss: 1012.8224 - mean_squared_error: 1012.82 - ETA: 0s - loss: 920.7146 - mean_squared_error: 920.7147 - ETA: 0s - loss: 937.2093 - mean_squared_error: 937.20 - ETA: 0s - loss: 934.9912 - mean_squared_error: 934.99 - ETA: 0s - loss: 944.0515 - mean_squared_error: 944.05 - ETA: 0s - loss: 982.8802 - mean_squared_error: 982.88 - ETA: 0s - loss: 976.2727 - mean_squared_error: 976.27 - ETA: 0s - loss: 1056.0857 - mean_squared_error: 1056.08 - ETA: 0s - loss: 1060.0763 - mean_squared_error: 1060.07 - ETA: 0s - loss: 1045.2644 - mean_squared_error: 1045.26 - ETA: 0s - loss: 1077.2019 - mean_squared_error: 1077.20 - ETA: 0s - loss: 1048.9298 - mean_squared_error: 1048.92 - ETA: 0s - loss: 1070.7947 - mean_squared_error: 1070.79 - ETA: 0s - loss: 1097.0745 - mean_squared_error: 1097.07 - ETA: 0s - loss: 1096.9400 - mean_squared_error: 1096.93 - ETA: 0s - loss: 1087.6056 - mean_squared_error: 1087.60 - ETA: 0s - loss: 1075.7958 - mean_squared_error: 1075.79 - 1s 177us/sample - loss: 1068.6457 - mean_squared_error: 1068.6456\n",
      "Epoch 92/100\n"
     ]
    },
    {
     "name": "stdout",
     "output_type": "stream",
     "text": [
      "5409/5409 [==============================] - ETA: 1s - loss: 943.0657 - mean_squared_error: 943.06 - ETA: 0s - loss: 1080.2628 - mean_squared_error: 1080.26 - ETA: 0s - loss: 1143.9111 - mean_squared_error: 1143.91 - ETA: 0s - loss: 1079.2430 - mean_squared_error: 1079.24 - ETA: 0s - loss: 1103.0441 - mean_squared_error: 1103.04 - ETA: 0s - loss: 1067.2690 - mean_squared_error: 1067.26 - ETA: 0s - loss: 1044.7337 - mean_squared_error: 1044.73 - ETA: 0s - loss: 1061.4271 - mean_squared_error: 1061.42 - ETA: 0s - loss: 1091.1811 - mean_squared_error: 1091.18 - ETA: 0s - loss: 1086.7860 - mean_squared_error: 1086.78 - ETA: 0s - loss: 1103.1055 - mean_squared_error: 1103.10 - ETA: 0s - loss: 1095.6858 - mean_squared_error: 1095.68 - ETA: 0s - loss: 1106.6169 - mean_squared_error: 1106.61 - ETA: 0s - loss: 1117.5541 - mean_squared_error: 1117.55 - ETA: 0s - loss: 1096.5653 - mean_squared_error: 1096.56 - ETA: 0s - loss: 1098.2309 - mean_squared_error: 1098.23 - ETA: 0s - loss: 1092.9593 - mean_squared_error: 1092.95 - ETA: 0s - loss: 1104.3583 - mean_squared_error: 1104.35 - 1s 178us/sample - loss: 1113.4411 - mean_squared_error: 1113.4409\n",
      "Epoch 93/100\n",
      "5409/5409 [==============================] - ETA: 0s - loss: 806.5178 - mean_squared_error: 806.51 - ETA: 0s - loss: 1330.7485 - mean_squared_error: 1330.74 - ETA: 0s - loss: 1294.4398 - mean_squared_error: 1294.43 - ETA: 0s - loss: 1288.0294 - mean_squared_error: 1288.02 - ETA: 0s - loss: 1222.6218 - mean_squared_error: 1222.62 - ETA: 0s - loss: 1165.4268 - mean_squared_error: 1165.42 - ETA: 0s - loss: 1166.8952 - mean_squared_error: 1166.89 - ETA: 0s - loss: 1148.5187 - mean_squared_error: 1148.51 - ETA: 0s - loss: 1111.4331 - mean_squared_error: 1111.43 - ETA: 0s - loss: 1076.3564 - mean_squared_error: 1076.35 - ETA: 0s - loss: 1084.6412 - mean_squared_error: 1084.64 - ETA: 0s - loss: 1100.2103 - mean_squared_error: 1100.21 - ETA: 0s - loss: 1100.2047 - mean_squared_error: 1100.20 - ETA: 0s - loss: 1119.9526 - mean_squared_error: 1119.95 - ETA: 0s - loss: 1119.4485 - mean_squared_error: 1119.44 - ETA: 0s - loss: 1106.3070 - mean_squared_error: 1106.30 - ETA: 0s - loss: 1124.1213 - mean_squared_error: 1124.12 - ETA: 0s - loss: 1109.0278 - mean_squared_error: 1109.02 - 1s 178us/sample - loss: 1107.1371 - mean_squared_error: 1107.1372\n",
      "Epoch 94/100\n",
      "5409/5409 [==============================] - ETA: 0s - loss: 589.5640 - mean_squared_error: 589.56 - ETA: 1s - loss: 1207.2904 - mean_squared_error: 1207.29 - ETA: 1s - loss: 1053.7993 - mean_squared_error: 1053.79 - ETA: 0s - loss: 1086.1019 - mean_squared_error: 1086.10 - ETA: 0s - loss: 1123.0219 - mean_squared_error: 1123.02 - ETA: 0s - loss: 1141.4567 - mean_squared_error: 1141.45 - ETA: 0s - loss: 1105.4811 - mean_squared_error: 1105.48 - ETA: 0s - loss: 1064.5981 - mean_squared_error: 1064.59 - ETA: 0s - loss: 1031.8076 - mean_squared_error: 1031.80 - ETA: 0s - loss: 1034.0640 - mean_squared_error: 1034.06 - ETA: 0s - loss: 1022.8252 - mean_squared_error: 1022.82 - ETA: 0s - loss: 1049.9911 - mean_squared_error: 1049.99 - ETA: 0s - loss: 1041.8329 - mean_squared_error: 1041.83 - ETA: 0s - loss: 1024.2595 - mean_squared_error: 1024.25 - ETA: 0s - loss: 1019.3641 - mean_squared_error: 1019.36 - ETA: 0s - loss: 1030.7611 - mean_squared_error: 1030.76 - ETA: 0s - loss: 1041.1716 - mean_squared_error: 1041.17 - ETA: 0s - loss: 1054.8459 - mean_squared_error: 1054.84 - ETA: 0s - loss: 1047.5376 - mean_squared_error: 1047.53 - ETA: 0s - loss: 1077.7474 - mean_squared_error: 1077.74 - 1s 197us/sample - loss: 1083.6938 - mean_squared_error: 1083.6940\n",
      "Epoch 95/100\n",
      "5409/5409 [==============================] - ETA: 0s - loss: 794.0544 - mean_squared_error: 794.05 - ETA: 0s - loss: 944.6732 - mean_squared_error: 944.67 - ETA: 0s - loss: 878.2351 - mean_squared_error: 878.23 - ETA: 0s - loss: 951.6721 - mean_squared_error: 951.67 - ETA: 0s - loss: 1064.2170 - mean_squared_error: 1064.21 - ETA: 0s - loss: 1056.8754 - mean_squared_error: 1056.87 - ETA: 0s - loss: 1027.7011 - mean_squared_error: 1027.70 - ETA: 0s - loss: 1029.3918 - mean_squared_error: 1029.39 - ETA: 0s - loss: 1103.5895 - mean_squared_error: 1103.58 - ETA: 0s - loss: 1130.2671 - mean_squared_error: 1130.26 - ETA: 0s - loss: 1132.0426 - mean_squared_error: 1132.04 - ETA: 0s - loss: 1109.7883 - mean_squared_error: 1109.78 - ETA: 0s - loss: 1112.1976 - mean_squared_error: 1112.19 - ETA: 0s - loss: 1090.9489 - mean_squared_error: 1090.94 - ETA: 0s - loss: 1083.9788 - mean_squared_error: 1083.97 - ETA: 0s - loss: 1077.4121 - mean_squared_error: 1077.41 - ETA: 0s - loss: 1078.1311 - mean_squared_error: 1078.13 - ETA: 0s - loss: 1082.0451 - mean_squared_error: 1082.04 - ETA: 0s - loss: 1083.0750 - mean_squared_error: 1083.07 - 1s 181us/sample - loss: 1085.9066 - mean_squared_error: 1085.9065\n",
      "Epoch 96/100\n",
      "5409/5409 [==============================] - ETA: 1s - loss: 2253.3318 - mean_squared_error: 2253.33 - ETA: 0s - loss: 1385.9564 - mean_squared_error: 1385.95 - ETA: 0s - loss: 1272.6941 - mean_squared_error: 1272.69 - ETA: 0s - loss: 1199.2663 - mean_squared_error: 1199.26 - ETA: 0s - loss: 1230.6470 - mean_squared_error: 1230.64 - ETA: 0s - loss: 1265.8766 - mean_squared_error: 1265.87 - ETA: 0s - loss: 1256.7796 - mean_squared_error: 1256.77 - ETA: 0s - loss: 1220.7000 - mean_squared_error: 1220.69 - ETA: 0s - loss: 1173.1239 - mean_squared_error: 1173.12 - ETA: 0s - loss: 1139.7917 - mean_squared_error: 1139.79 - ETA: 0s - loss: 1121.0494 - mean_squared_error: 1121.04 - ETA: 0s - loss: 1100.3344 - mean_squared_error: 1100.33 - ETA: 0s - loss: 1094.2820 - mean_squared_error: 1094.28 - ETA: 0s - loss: 1095.5896 - mean_squared_error: 1095.58 - ETA: 0s - loss: 1080.3056 - mean_squared_error: 1080.30 - ETA: 0s - loss: 1070.5978 - mean_squared_error: 1070.59 - ETA: 0s - loss: 1069.1623 - mean_squared_error: 1069.16 - ETA: 0s - loss: 1080.1804 - mean_squared_error: 1080.18 - ETA: 0s - loss: 1073.8983 - mean_squared_error: 1073.89 - 1s 193us/sample - loss: 1074.8329 - mean_squared_error: 1074.8328\n",
      "Epoch 97/100\n",
      "5409/5409 [==============================] - ETA: 0s - loss: 708.4615 - mean_squared_error: 708.46 - ETA: 0s - loss: 1027.5420 - mean_squared_error: 1027.54 - ETA: 0s - loss: 965.6630 - mean_squared_error: 965.6630 - ETA: 0s - loss: 998.4740 - mean_squared_error: 998.47 - ETA: 0s - loss: 971.9957 - mean_squared_error: 971.99 - ETA: 0s - loss: 1050.9942 - mean_squared_error: 1050.99 - ETA: 0s - loss: 1003.8853 - mean_squared_error: 1003.88 - ETA: 0s - loss: 1050.4468 - mean_squared_error: 1050.44 - ETA: 0s - loss: 1065.1804 - mean_squared_error: 1065.18 - ETA: 0s - loss: 1064.5030 - mean_squared_error: 1064.50 - ETA: 0s - loss: 1068.3074 - mean_squared_error: 1068.30 - ETA: 0s - loss: 1059.3884 - mean_squared_error: 1059.38 - ETA: 0s - loss: 1049.1698 - mean_squared_error: 1049.16 - ETA: 0s - loss: 1063.0082 - mean_squared_error: 1063.00 - ETA: 0s - loss: 1041.1684 - mean_squared_error: 1041.16 - ETA: 0s - loss: 1037.4067 - mean_squared_error: 1037.40 - ETA: 0s - loss: 1045.4270 - mean_squared_error: 1045.42 - ETA: 0s - loss: 1061.0852 - mean_squared_error: 1061.08 - ETA: 0s - loss: 1059.5499 - mean_squared_error: 1059.55 - 1s 192us/sample - loss: 1060.1081 - mean_squared_error: 1060.1084\n",
      "Epoch 98/100\n",
      "5409/5409 [==============================] - ETA: 1s - loss: 530.5851 - mean_squared_error: 530.58 - ETA: 0s - loss: 1315.2203 - mean_squared_error: 1315.22 - ETA: 0s - loss: 1178.6929 - mean_squared_error: 1178.69 - ETA: 0s - loss: 1146.5600 - mean_squared_error: 1146.56 - ETA: 0s - loss: 1060.2276 - mean_squared_error: 1060.22 - ETA: 0s - loss: 1110.2257 - mean_squared_error: 1110.22 - ETA: 0s - loss: 1079.4839 - mean_squared_error: 1079.48 - ETA: 0s - loss: 1060.4536 - mean_squared_error: 1060.45 - ETA: 0s - loss: 1088.0552 - mean_squared_error: 1088.05 - ETA: 0s - loss: 1072.8478 - mean_squared_error: 1072.84 - ETA: 0s - loss: 1066.9744 - mean_squared_error: 1066.97 - ETA: 0s - loss: 1068.2662 - mean_squared_error: 1068.26 - ETA: 0s - loss: 1062.7879 - mean_squared_error: 1062.78 - ETA: 0s - loss: 1067.2546 - mean_squared_error: 1067.25 - ETA: 0s - loss: 1068.0350 - mean_squared_error: 1068.03 - ETA: 0s - loss: 1057.1469 - mean_squared_error: 1057.14 - ETA: 0s - loss: 1054.3066 - mean_squared_error: 1054.30 - ETA: 0s - loss: 1055.1038 - mean_squared_error: 1055.10 - ETA: 0s - loss: 1076.0864 - mean_squared_error: 1076.08 - 1s 186us/sample - loss: 1075.9007 - mean_squared_error: 1075.9008\n",
      "Epoch 99/100\n",
      "5409/5409 [==============================] - ETA: 1s - loss: 553.7138 - mean_squared_error: 553.71 - ETA: 0s - loss: 1243.2820 - mean_squared_error: 1243.28 - ETA: 0s - loss: 1154.5787 - mean_squared_error: 1154.57 - ETA: 0s - loss: 1101.6927 - mean_squared_error: 1101.69 - ETA: 0s - loss: 1050.3278 - mean_squared_error: 1050.32 - ETA: 0s - loss: 1020.1986 - mean_squared_error: 1020.19 - ETA: 0s - loss: 1027.3241 - mean_squared_error: 1027.32 - ETA: 0s - loss: 1019.8797 - mean_squared_error: 1019.87 - ETA: 0s - loss: 1051.8089 - mean_squared_error: 1051.80 - ETA: 0s - loss: 1045.6323 - mean_squared_error: 1045.63 - ETA: 0s - loss: 1069.5228 - mean_squared_error: 1069.52 - ETA: 0s - loss: 1080.5715 - mean_squared_error: 1080.57 - ETA: 0s - loss: 1068.6943 - mean_squared_error: 1068.69 - ETA: 0s - loss: 1075.6993 - mean_squared_error: 1075.69 - ETA: 0s - loss: 1062.2409 - mean_squared_error: 1062.24 - ETA: 0s - loss: 1056.3636 - mean_squared_error: 1056.36 - ETA: 0s - loss: 1045.4149 - mean_squared_error: 1045.41 - ETA: 0s - loss: 1044.2633 - mean_squared_error: 1044.26 - 1s 180us/sample - loss: 1044.9422 - mean_squared_error: 1044.9420\n",
      "Epoch 100/100\n",
      "5409/5409 [==============================] - ETA: 1s - loss: 323.8445 - mean_squared_error: 323.84 - ETA: 0s - loss: 984.9513 - mean_squared_error: 984.95 - ETA: 0s - loss: 979.2071 - mean_squared_error: 979.20 - ETA: 0s - loss: 1036.1383 - mean_squared_error: 1036.13 - ETA: 0s - loss: 985.2367 - mean_squared_error: 985.2367 - ETA: 0s - loss: 1016.7438 - mean_squared_error: 1016.74 - ETA: 0s - loss: 1065.9391 - mean_squared_error: 1065.93 - ETA: 0s - loss: 1015.0586 - mean_squared_error: 1015.05 - ETA: 0s - loss: 1073.2335 - mean_squared_error: 1073.23 - ETA: 0s - loss: 1040.9203 - mean_squared_error: 1040.92 - ETA: 0s - loss: 1047.2197 - mean_squared_error: 1047.21 - ETA: 0s - loss: 1058.4234 - mean_squared_error: 1058.42 - ETA: 0s - loss: 1083.7559 - mean_squared_error: 1083.75 - ETA: 0s - loss: 1081.9874 - mean_squared_error: 1081.98 - ETA: 0s - loss: 1082.5899 - mean_squared_error: 1082.58 - ETA: 0s - loss: 1101.4550 - mean_squared_error: 1101.45 - ETA: 0s - loss: 1086.7866 - mean_squared_error: 1086.78 - ETA: 0s - loss: 1072.2577 - mean_squared_error: 1072.25 - ETA: 0s - loss: 1066.8862 - mean_squared_error: 1066.88 - 1s 185us/sample - loss: 1068.5525 - mean_squared_error: 1068.5525\n"
     ]
    },
    {
     "data": {
      "text/plain": [
       "<tensorflow.python.keras.callbacks.History at 0x1cc89067358>"
      ]
     },
     "execution_count": 127,
     "metadata": {},
     "output_type": "execute_result"
    }
   ],
   "source": [
    "model.fit(x_train_net, y_train_net, epochs=100, batch_size=50, verbose=1)"
   ]
  },
  {
   "cell_type": "code",
   "execution_count": 128,
   "metadata": {},
   "outputs": [
    {
     "name": "stdout",
     "output_type": "stream",
     "text": [
      "Mean Absolute Error  62.46003640246479\n"
     ]
    }
   ],
   "source": [
    "# See Error, this is much worse than random tree above\n",
    "y_predi = model.predict_classes(x_test)\n",
    "score1 = mean_absolute_error(y_test, y_predi)\n",
    "\n",
    "print(\"Mean Absolute Error\", \"\", score1)"
   ]
  },
  {
   "cell_type": "code",
   "execution_count": null,
   "metadata": {},
   "outputs": [],
   "source": []
  },
  {
   "cell_type": "code",
   "execution_count": null,
   "metadata": {},
   "outputs": [],
   "source": []
  }
 ],
 "metadata": {
  "colab": {
   "name": "StarterNotebook.ipynb",
   "provenance": []
  },
  "kernelspec": {
   "display_name": "Python 3",
   "language": "python",
   "name": "python3"
  },
  "language_info": {
   "codemirror_mode": {
    "name": "ipython",
    "version": 3
   },
   "file_extension": ".py",
   "mimetype": "text/x-python",
   "name": "python",
   "nbconvert_exporter": "python",
   "pygments_lexer": "ipython3",
   "version": "3.7.3"
  }
 },
 "nbformat": 4,
 "nbformat_minor": 1
}
